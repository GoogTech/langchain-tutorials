{
  "nbformat": 4,
  "nbformat_minor": 0,
  "metadata": {
    "colab": {
      "provenance": [],
      "toc_visible": true
    },
    "kernelspec": {
      "name": "python3",
      "display_name": "Python 3"
    },
    "language_info": {
      "name": "python"
    }
  },
  "cells": [
    {
      "cell_type": "markdown",
      "source": [
        "🚀 LangGraph Quickstart : https://langchain-ai.github.io/langgraph/tutorials/introduction/"
      ],
      "metadata": {
        "id": "AykAI9yHfZf7"
      }
    },
    {
      "cell_type": "markdown",
      "source": [
        "# Installation"
      ],
      "metadata": {
        "id": "Y-gB8ut9YR4Y"
      }
    },
    {
      "cell_type": "code",
      "execution_count": 2,
      "metadata": {
        "id": "czBqZ9HfWPAV",
        "colab": {
          "base_uri": "https://localhost:8080/"
        },
        "outputId": "9953faf4-74b1-4108-e150-5b12cc9cba5b"
      },
      "outputs": [
        {
          "output_type": "stream",
          "name": "stdout",
          "text": [
            "Collecting langgraph\n",
            "  Downloading langgraph-0.3.14-py3-none-any.whl.metadata (7.5 kB)\n",
            "Collecting langchain-openai\n",
            "  Downloading langchain_openai-0.3.9-py3-none-any.whl.metadata (2.3 kB)\n",
            "Collecting langchain_community\n",
            "  Downloading langchain_community-0.3.19-py3-none-any.whl.metadata (2.4 kB)\n",
            "Requirement already satisfied: langchain-core<0.4,>=0.1 in /usr/local/lib/python3.11/dist-packages (from langgraph) (0.3.44)\n",
            "Collecting langgraph-checkpoint<3.0.0,>=2.0.10 (from langgraph)\n",
            "  Downloading langgraph_checkpoint-2.0.21-py3-none-any.whl.metadata (4.6 kB)\n",
            "Collecting langgraph-prebuilt<0.2,>=0.1.1 (from langgraph)\n",
            "  Downloading langgraph_prebuilt-0.1.3-py3-none-any.whl.metadata (5.0 kB)\n",
            "Collecting langgraph-sdk<0.2.0,>=0.1.42 (from langgraph)\n",
            "  Downloading langgraph_sdk-0.1.57-py3-none-any.whl.metadata (1.8 kB)\n",
            "Collecting langchain-core<0.4,>=0.1 (from langgraph)\n",
            "  Downloading langchain_core-0.3.45-py3-none-any.whl.metadata (5.9 kB)\n",
            "Collecting openai<2.0.0,>=1.66.3 (from langchain-openai)\n",
            "  Downloading openai-1.66.3-py3-none-any.whl.metadata (25 kB)\n",
            "Collecting tiktoken<1,>=0.7 (from langchain-openai)\n",
            "  Downloading tiktoken-0.9.0-cp311-cp311-manylinux_2_17_x86_64.manylinux2014_x86_64.whl.metadata (6.7 kB)\n",
            "Requirement already satisfied: langchain<1.0.0,>=0.3.20 in /usr/local/lib/python3.11/dist-packages (from langchain_community) (0.3.20)\n",
            "Requirement already satisfied: SQLAlchemy<3,>=1.4 in /usr/local/lib/python3.11/dist-packages (from langchain_community) (2.0.39)\n",
            "Requirement already satisfied: requests<3,>=2 in /usr/local/lib/python3.11/dist-packages (from langchain_community) (2.32.3)\n",
            "Requirement already satisfied: PyYAML>=5.3 in /usr/local/lib/python3.11/dist-packages (from langchain_community) (6.0.2)\n",
            "Requirement already satisfied: aiohttp<4.0.0,>=3.8.3 in /usr/local/lib/python3.11/dist-packages (from langchain_community) (3.11.13)\n",
            "Requirement already satisfied: tenacity!=8.4.0,<10,>=8.1.0 in /usr/local/lib/python3.11/dist-packages (from langchain_community) (9.0.0)\n",
            "Collecting dataclasses-json<0.7,>=0.5.7 (from langchain_community)\n",
            "  Downloading dataclasses_json-0.6.7-py3-none-any.whl.metadata (25 kB)\n",
            "Collecting pydantic-settings<3.0.0,>=2.4.0 (from langchain_community)\n",
            "  Downloading pydantic_settings-2.8.1-py3-none-any.whl.metadata (3.5 kB)\n",
            "Requirement already satisfied: langsmith<0.4,>=0.1.125 in /usr/local/lib/python3.11/dist-packages (from langchain_community) (0.3.13)\n",
            "Collecting httpx-sse<1.0.0,>=0.4.0 (from langchain_community)\n",
            "  Downloading httpx_sse-0.4.0-py3-none-any.whl.metadata (9.0 kB)\n",
            "Requirement already satisfied: numpy<3,>=1.26.2 in /usr/local/lib/python3.11/dist-packages (from langchain_community) (2.0.2)\n",
            "Requirement already satisfied: aiohappyeyeballs>=2.3.0 in /usr/local/lib/python3.11/dist-packages (from aiohttp<4.0.0,>=3.8.3->langchain_community) (2.6.1)\n",
            "Requirement already satisfied: aiosignal>=1.1.2 in /usr/local/lib/python3.11/dist-packages (from aiohttp<4.0.0,>=3.8.3->langchain_community) (1.3.2)\n",
            "Requirement already satisfied: attrs>=17.3.0 in /usr/local/lib/python3.11/dist-packages (from aiohttp<4.0.0,>=3.8.3->langchain_community) (25.3.0)\n",
            "Requirement already satisfied: frozenlist>=1.1.1 in /usr/local/lib/python3.11/dist-packages (from aiohttp<4.0.0,>=3.8.3->langchain_community) (1.5.0)\n",
            "Requirement already satisfied: multidict<7.0,>=4.5 in /usr/local/lib/python3.11/dist-packages (from aiohttp<4.0.0,>=3.8.3->langchain_community) (6.1.0)\n",
            "Requirement already satisfied: propcache>=0.2.0 in /usr/local/lib/python3.11/dist-packages (from aiohttp<4.0.0,>=3.8.3->langchain_community) (0.3.0)\n",
            "Requirement already satisfied: yarl<2.0,>=1.17.0 in /usr/local/lib/python3.11/dist-packages (from aiohttp<4.0.0,>=3.8.3->langchain_community) (1.18.3)\n",
            "Collecting marshmallow<4.0.0,>=3.18.0 (from dataclasses-json<0.7,>=0.5.7->langchain_community)\n",
            "  Downloading marshmallow-3.26.1-py3-none-any.whl.metadata (7.3 kB)\n",
            "Collecting typing-inspect<1,>=0.4.0 (from dataclasses-json<0.7,>=0.5.7->langchain_community)\n",
            "  Downloading typing_inspect-0.9.0-py3-none-any.whl.metadata (1.5 kB)\n",
            "Requirement already satisfied: langchain-text-splitters<1.0.0,>=0.3.6 in /usr/local/lib/python3.11/dist-packages (from langchain<1.0.0,>=0.3.20->langchain_community) (0.3.6)\n",
            "Requirement already satisfied: pydantic<3.0.0,>=2.7.4 in /usr/local/lib/python3.11/dist-packages (from langchain<1.0.0,>=0.3.20->langchain_community) (2.10.6)\n",
            "Requirement already satisfied: jsonpatch<2.0,>=1.33 in /usr/local/lib/python3.11/dist-packages (from langchain-core<0.4,>=0.1->langgraph) (1.33)\n",
            "Requirement already satisfied: packaging<25,>=23.2 in /usr/local/lib/python3.11/dist-packages (from langchain-core<0.4,>=0.1->langgraph) (24.2)\n",
            "Requirement already satisfied: typing-extensions>=4.7 in /usr/local/lib/python3.11/dist-packages (from langchain-core<0.4,>=0.1->langgraph) (4.12.2)\n",
            "Requirement already satisfied: msgpack<2.0.0,>=1.1.0 in /usr/local/lib/python3.11/dist-packages (from langgraph-checkpoint<3.0.0,>=2.0.10->langgraph) (1.1.0)\n",
            "Requirement already satisfied: httpx>=0.25.2 in /usr/local/lib/python3.11/dist-packages (from langgraph-sdk<0.2.0,>=0.1.42->langgraph) (0.28.1)\n",
            "Requirement already satisfied: orjson>=3.10.1 in /usr/local/lib/python3.11/dist-packages (from langgraph-sdk<0.2.0,>=0.1.42->langgraph) (3.10.15)\n",
            "Requirement already satisfied: requests-toolbelt<2.0.0,>=1.0.0 in /usr/local/lib/python3.11/dist-packages (from langsmith<0.4,>=0.1.125->langchain_community) (1.0.0)\n",
            "Requirement already satisfied: zstandard<0.24.0,>=0.23.0 in /usr/local/lib/python3.11/dist-packages (from langsmith<0.4,>=0.1.125->langchain_community) (0.23.0)\n",
            "Requirement already satisfied: anyio<5,>=3.5.0 in /usr/local/lib/python3.11/dist-packages (from openai<2.0.0,>=1.66.3->langchain-openai) (3.7.1)\n",
            "Requirement already satisfied: distro<2,>=1.7.0 in /usr/local/lib/python3.11/dist-packages (from openai<2.0.0,>=1.66.3->langchain-openai) (1.9.0)\n",
            "Requirement already satisfied: jiter<1,>=0.4.0 in /usr/local/lib/python3.11/dist-packages (from openai<2.0.0,>=1.66.3->langchain-openai) (0.9.0)\n",
            "Requirement already satisfied: sniffio in /usr/local/lib/python3.11/dist-packages (from openai<2.0.0,>=1.66.3->langchain-openai) (1.3.1)\n",
            "Requirement already satisfied: tqdm>4 in /usr/local/lib/python3.11/dist-packages (from openai<2.0.0,>=1.66.3->langchain-openai) (4.67.1)\n",
            "Collecting python-dotenv>=0.21.0 (from pydantic-settings<3.0.0,>=2.4.0->langchain_community)\n",
            "  Downloading python_dotenv-1.0.1-py3-none-any.whl.metadata (23 kB)\n",
            "Requirement already satisfied: charset-normalizer<4,>=2 in /usr/local/lib/python3.11/dist-packages (from requests<3,>=2->langchain_community) (3.4.1)\n",
            "Requirement already satisfied: idna<4,>=2.5 in /usr/local/lib/python3.11/dist-packages (from requests<3,>=2->langchain_community) (3.10)\n",
            "Requirement already satisfied: urllib3<3,>=1.21.1 in /usr/local/lib/python3.11/dist-packages (from requests<3,>=2->langchain_community) (2.3.0)\n",
            "Requirement already satisfied: certifi>=2017.4.17 in /usr/local/lib/python3.11/dist-packages (from requests<3,>=2->langchain_community) (2025.1.31)\n",
            "Requirement already satisfied: greenlet!=0.4.17 in /usr/local/lib/python3.11/dist-packages (from SQLAlchemy<3,>=1.4->langchain_community) (3.1.1)\n",
            "Requirement already satisfied: regex>=2022.1.18 in /usr/local/lib/python3.11/dist-packages (from tiktoken<1,>=0.7->langchain-openai) (2024.11.6)\n",
            "Requirement already satisfied: httpcore==1.* in /usr/local/lib/python3.11/dist-packages (from httpx>=0.25.2->langgraph-sdk<0.2.0,>=0.1.42->langgraph) (1.0.7)\n",
            "Requirement already satisfied: h11<0.15,>=0.13 in /usr/local/lib/python3.11/dist-packages (from httpcore==1.*->httpx>=0.25.2->langgraph-sdk<0.2.0,>=0.1.42->langgraph) (0.14.0)\n",
            "Requirement already satisfied: jsonpointer>=1.9 in /usr/local/lib/python3.11/dist-packages (from jsonpatch<2.0,>=1.33->langchain-core<0.4,>=0.1->langgraph) (3.0.0)\n",
            "Requirement already satisfied: annotated-types>=0.6.0 in /usr/local/lib/python3.11/dist-packages (from pydantic<3.0.0,>=2.7.4->langchain<1.0.0,>=0.3.20->langchain_community) (0.7.0)\n",
            "Requirement already satisfied: pydantic-core==2.27.2 in /usr/local/lib/python3.11/dist-packages (from pydantic<3.0.0,>=2.7.4->langchain<1.0.0,>=0.3.20->langchain_community) (2.27.2)\n",
            "Collecting mypy-extensions>=0.3.0 (from typing-inspect<1,>=0.4.0->dataclasses-json<0.7,>=0.5.7->langchain_community)\n",
            "  Downloading mypy_extensions-1.0.0-py3-none-any.whl.metadata (1.1 kB)\n",
            "Downloading langgraph-0.3.14-py3-none-any.whl (132 kB)\n",
            "\u001b[2K   \u001b[90m━━━━━━━━━━━━━━━━━━━━━━━━━━━━━━━━━━━━━━━━\u001b[0m \u001b[32m133.0/133.0 kB\u001b[0m \u001b[31m5.9 MB/s\u001b[0m eta \u001b[36m0:00:00\u001b[0m\n",
            "\u001b[?25hDownloading langchain_openai-0.3.9-py3-none-any.whl (60 kB)\n",
            "\u001b[2K   \u001b[90m━━━━━━━━━━━━━━━━━━━━━━━━━━━━━━━━━━━━━━━━\u001b[0m \u001b[32m60.9/60.9 kB\u001b[0m \u001b[31m3.0 MB/s\u001b[0m eta \u001b[36m0:00:00\u001b[0m\n",
            "\u001b[?25hDownloading langchain_community-0.3.19-py3-none-any.whl (2.5 MB)\n",
            "\u001b[2K   \u001b[90m━━━━━━━━━━━━━━━━━━━━━━━━━━━━━━━━━━━━━━━━\u001b[0m \u001b[32m2.5/2.5 MB\u001b[0m \u001b[31m20.8 MB/s\u001b[0m eta \u001b[36m0:00:00\u001b[0m\n",
            "\u001b[?25hDownloading dataclasses_json-0.6.7-py3-none-any.whl (28 kB)\n",
            "Downloading httpx_sse-0.4.0-py3-none-any.whl (7.8 kB)\n",
            "Downloading langchain_core-0.3.45-py3-none-any.whl (415 kB)\n",
            "\u001b[2K   \u001b[90m━━━━━━━━━━━━━━━━━━━━━━━━━━━━━━━━━━━━━━━━\u001b[0m \u001b[32m415.9/415.9 kB\u001b[0m \u001b[31m5.2 MB/s\u001b[0m eta \u001b[36m0:00:00\u001b[0m\n",
            "\u001b[?25hDownloading langgraph_checkpoint-2.0.21-py3-none-any.whl (41 kB)\n",
            "\u001b[2K   \u001b[90m━━━━━━━━━━━━━━━━━━━━━━━━━━━━━━━━━━━━━━━━\u001b[0m \u001b[32m41.2/41.2 kB\u001b[0m \u001b[31m673.3 kB/s\u001b[0m eta \u001b[36m0:00:00\u001b[0m\n",
            "\u001b[?25hDownloading langgraph_prebuilt-0.1.3-py3-none-any.whl (24 kB)\n",
            "Downloading langgraph_sdk-0.1.57-py3-none-any.whl (46 kB)\n",
            "\u001b[2K   \u001b[90m━━━━━━━━━━━━━━━━━━━━━━━━━━━━━━━━━━━━━━━━\u001b[0m \u001b[32m46.0/46.0 kB\u001b[0m \u001b[31m2.0 MB/s\u001b[0m eta \u001b[36m0:00:00\u001b[0m\n",
            "\u001b[?25hDownloading openai-1.66.3-py3-none-any.whl (567 kB)\n",
            "\u001b[2K   \u001b[90m━━━━━━━━━━━━━━━━━━━━━━━━━━━━━━━━━━━━━━━━\u001b[0m \u001b[32m567.4/567.4 kB\u001b[0m \u001b[31m11.6 MB/s\u001b[0m eta \u001b[36m0:00:00\u001b[0m\n",
            "\u001b[?25hDownloading pydantic_settings-2.8.1-py3-none-any.whl (30 kB)\n",
            "Downloading tiktoken-0.9.0-cp311-cp311-manylinux_2_17_x86_64.manylinux2014_x86_64.whl (1.2 MB)\n",
            "\u001b[2K   \u001b[90m━━━━━━━━━━━━━━━━━━━━━━━━━━━━━━━━━━━━━━━━\u001b[0m \u001b[32m1.2/1.2 MB\u001b[0m \u001b[31m15.7 MB/s\u001b[0m eta \u001b[36m0:00:00\u001b[0m\n",
            "\u001b[?25hDownloading marshmallow-3.26.1-py3-none-any.whl (50 kB)\n",
            "\u001b[2K   \u001b[90m━━━━━━━━━━━━━━━━━━━━━━━━━━━━━━━━━━━━━━━━\u001b[0m \u001b[32m50.9/50.9 kB\u001b[0m \u001b[31m2.1 MB/s\u001b[0m eta \u001b[36m0:00:00\u001b[0m\n",
            "\u001b[?25hDownloading python_dotenv-1.0.1-py3-none-any.whl (19 kB)\n",
            "Downloading typing_inspect-0.9.0-py3-none-any.whl (8.8 kB)\n",
            "Downloading mypy_extensions-1.0.0-py3-none-any.whl (4.7 kB)\n",
            "Installing collected packages: python-dotenv, mypy-extensions, marshmallow, httpx-sse, typing-inspect, tiktoken, pydantic-settings, openai, langgraph-sdk, dataclasses-json, langchain-core, langgraph-checkpoint, langchain-openai, langgraph-prebuilt, langgraph, langchain_community\n",
            "  Attempting uninstall: openai\n",
            "    Found existing installation: openai 1.61.1\n",
            "    Uninstalling openai-1.61.1:\n",
            "      Successfully uninstalled openai-1.61.1\n",
            "  Attempting uninstall: langchain-core\n",
            "    Found existing installation: langchain-core 0.3.44\n",
            "    Uninstalling langchain-core-0.3.44:\n",
            "      Successfully uninstalled langchain-core-0.3.44\n",
            "Successfully installed dataclasses-json-0.6.7 httpx-sse-0.4.0 langchain-core-0.3.45 langchain-openai-0.3.9 langchain_community-0.3.19 langgraph-0.3.14 langgraph-checkpoint-2.0.21 langgraph-prebuilt-0.1.3 langgraph-sdk-0.1.57 marshmallow-3.26.1 mypy-extensions-1.0.0 openai-1.66.3 pydantic-settings-2.8.1 python-dotenv-1.0.1 tiktoken-0.9.0 typing-inspect-0.9.0\n"
          ]
        }
      ],
      "source": [
        "!pip install -U langgraph langchain-openai langchain_community"
      ]
    },
    {
      "cell_type": "code",
      "source": [
        "!pip show langgraph langchain_openai langchain_community"
      ],
      "metadata": {
        "colab": {
          "base_uri": "https://localhost:8080/"
        },
        "id": "Pd5JTjpTYdVN",
        "outputId": "cabe8f08-2fb7-4453-a87f-d2f03baa2bc3"
      },
      "execution_count": 3,
      "outputs": [
        {
          "output_type": "stream",
          "name": "stdout",
          "text": [
            "Name: langgraph\n",
            "Version: 0.3.14\n",
            "Summary: Building stateful, multi-actor applications with LLMs\n",
            "Home-page: https://www.github.com/langchain-ai/langgraph\n",
            "Author: \n",
            "Author-email: \n",
            "License: MIT\n",
            "Location: /usr/local/lib/python3.11/dist-packages\n",
            "Requires: langchain-core, langgraph-checkpoint, langgraph-prebuilt, langgraph-sdk\n",
            "Required-by: \n",
            "---\n",
            "Name: langchain-openai\n",
            "Version: 0.3.9\n",
            "Summary: An integration package connecting OpenAI and LangChain\n",
            "Home-page: \n",
            "Author: \n",
            "Author-email: \n",
            "License: MIT\n",
            "Location: /usr/local/lib/python3.11/dist-packages\n",
            "Requires: langchain-core, openai, tiktoken\n",
            "Required-by: \n",
            "---\n",
            "Name: langchain-community\n",
            "Version: 0.3.19\n",
            "Summary: Community contributed LangChain integrations.\n",
            "Home-page: \n",
            "Author: \n",
            "Author-email: \n",
            "License: MIT\n",
            "Location: /usr/local/lib/python3.11/dist-packages\n",
            "Requires: aiohttp, dataclasses-json, httpx-sse, langchain, langchain-core, langsmith, numpy, pydantic-settings, PyYAML, requests, SQLAlchemy, tenacity\n",
            "Required-by: \n"
          ]
        }
      ]
    },
    {
      "cell_type": "markdown",
      "source": [
        "# Part 1: Build a Basic Chatbot"
      ],
      "metadata": {
        "id": "swl4VFiXYnRh"
      }
    },
    {
      "cell_type": "code",
      "source": [
        "################################\n",
        "# Part 1: Build a Basic Chatbot #\n",
        "################################\n",
        "\n",
        "# Start by creating a StateGraph, A State object defines the structure\n",
        "# of our chabot as \"state machine\", We'll add `nodes` to represent the llm\n",
        "# and functions our chatbot can call and `edges` to specifiy how the bot\n",
        "# should transition between these functions\n",
        "\n",
        "from typing import Annotated\n",
        "from typing_extensions import TypedDict\n",
        "from langgraph.graph import StateGraph, START, END\n",
        "from langgraph.graph.message import add_messages\n",
        "from langchain.chat_models import init_chat_model\n",
        "from google.colab import userdata\n",
        "\n",
        "class State(TypedDict):\n",
        "    # Message have the type \"list\", The \"add_messages\" function\n",
        "    # in the annotation defines how this state should be updated\n",
        "    # (in this case, it appends messages to the list, rather than overwriting them)\n",
        "    messages: Annotated[list, add_messages]\n",
        "\n",
        "graph_builder = StateGraph(State)\n",
        "\n",
        "llm = init_chat_model(\n",
        "    model=\"gpt-4o-mini\",\n",
        "    model_provider=\"openai\",\n",
        "    openai_api_key=userdata.get('OPENAI_API_KEY'),\n",
        "    base_url=userdata.get('BASE_URL'),\n",
        ")\n",
        "\n",
        "def chatbot(state: State):\n",
        "    # Notice how the chatbot node function takes the current `State` as\n",
        "    # input adn returns a dictionary containing an updated `messages` list under the key \"messages\".\n",
        "    # This is the basic pattern for all LangGraph node functions\n",
        "    return {\"messages\": [llm.invoke(state[\"messages\"])]}\n",
        "\n",
        "# The first argument is the unique node name\n",
        "# The second argument is the function or object that will be called whenever the node is used\n",
        "graph_builder.add_node(\"chatbot\", chatbot)\n",
        "# Next, add an `entry` point.\n",
        "# This tells our graph where to start its work each time we run it.\n",
        "graph_builder.add_edge(START, \"chatbot\")\n",
        "# Similarly, Set a finish point.\n",
        "# This instructs the graph \"any time this node is run, you can exit.\"\n",
        "graph_builder.add_edge(\"chatbot\", END)\n",
        "# Finally, we'll want to be able to run our graph, call \"compile()\" on the graph builder.\n",
        "# This creates a \"CompiledGraph\" we can use invoke on our state\n",
        "graph = graph_builder.compile()"
      ],
      "metadata": {
        "id": "MRQgMMAHZPSp"
      },
      "execution_count": 5,
      "outputs": []
    },
    {
      "cell_type": "code",
      "source": [
        "# You can visualize the graph using the get_graph method and one of the \"draw\" methods,\n",
        "# like draw_ascii or draw_png. The draw methods each require additional dependencies.\n",
        "from IPython.display import Image, display\n",
        "\n",
        "try:\n",
        "    display(Image(graph.get_graph().draw_mermaid_png()))\n",
        "except Exception:\n",
        "    # This requires some extra dependencies and is optional\n",
        "    pass"
      ],
      "metadata": {
        "colab": {
          "base_uri": "https://localhost:8080/",
          "height": 251
        },
        "id": "UJECGyJrbbS7",
        "outputId": "3f63c924-6698-43c8-e1d6-8dc91249ead2"
      },
      "execution_count": null,
      "outputs": [
        {
          "output_type": "display_data",
          "data": {
            "image/png": "[encoded data removed]",
            "text/plain": [
              "<IPython.core.display.Image object>"
            ]
          },
          "metadata": {}
        }
      ]
    },
    {
      "cell_type": "code",
      "source": [
        "# Congratulations!!! You're built your first chatbot using LangGraph.\n",
        "# This bot can engage in basic conversation by taking user input and generating responses using an LLM\n",
        "# However, you may have noticed that the bot's knowledge is limited to what's in its training date. In the\n",
        "# next part, we'll add a web search tool to expand the bot's knowledge and make it more capable.\n",
        "\n",
        "# Now let's run the chatbot!!!\n",
        "def stream_graph_updates(user_input: str):\n",
        "    for event in graph.stream({\"messages\": [{\"role\": \"user\", \"content\": user_input}]}):\n",
        "        for value in event.values():\n",
        "            print(\"Assistant:\", value[\"messages\"][-1].content)\n",
        "\n",
        "while True:\n",
        "    try:\n",
        "        user_input = input(\"User: \")\n",
        "        if user_input.lower() in [\"quit\", \"exit\", \"q\"]:\n",
        "            print(\"Goodbye!\")\n",
        "            break\n",
        "        stream_graph_updates(user_input)\n",
        "    except:\n",
        "        # fallback if input() is not available\n",
        "        user_input = \"What do you know about LangGraph?\"\n",
        "        print(\"User: \" + user_input)\n",
        "        stream_graph_updates(user_input)\n",
        "        break"
      ],
      "metadata": {
        "colab": {
          "base_uri": "https://localhost:8080/"
        },
        "id": "JzPv6LXqXzNR",
        "outputId": "c8a6c521-44be-46cf-8a41-7334f01bd08a"
      },
      "execution_count": null,
      "outputs": [
        {
          "output_type": "stream",
          "name": "stdout",
          "text": [
            "User: hello\n",
            "Assistant: Hello! How can I assist you today?\n",
            "User: Pls introduce yourself\n",
            "Assistant: Hello! I'm ChatGPT, an AI language model created by OpenAI. My purpose is to assist you by providing information, answering questions, and engaging in conversations on a wide range of topics. Whether you need help with learning, problem-solving, or just want to chat, I'm here for you. How can I assist you today?\n",
            "User: thx, bye, see you later\n",
            "Assistant: You're welcome! If you need anything in the future, feel free to reach out. Bye, and take care!\n",
            "User: exit\n",
            "Goodbye!\n"
          ]
        }
      ]
    },
    {
      "cell_type": "markdown",
      "source": [
        "# Part 2: Enhancing the Chatbot with Tools"
      ],
      "metadata": {
        "id": "nh4ZQ0MSYrSS"
      }
    },
    {
      "cell_type": "code",
      "source": [
        "###########################################\n",
        "# Part 2: Enhancing the Chatbot with Tools #\n",
        "###########################################\n",
        "\n",
        "# To handle queries our chatbot can't answer \"from memory\",\n",
        "# we'll integrate a web search tool. Our bot can use this tool\n",
        "# to find relevant information and provide better responses.\n",
        "\n",
        "from typing import Annotated\n",
        "from langchain.chat_models import init_chat_model\n",
        "from typing_extensions import TypedDict\n",
        "from langgraph.graph import StateGraph, START, END\n",
        "from langgraph.graph.message import add_messages\n",
        "from langchain_community.tools.tavily_search import TavilySearchResults\n",
        "from google.colab import userdata\n",
        "import os\n",
        "\n",
        "# Define the tool:\n",
        "os.environ[\"TAVILY_API_KEY\"] = userdata.get('TAVILY_API_KEY')\n",
        "tool = TavilySearchResults(max_result=2)\n",
        "tools = [tool]\n",
        "# tool.invoke(\"What's a `node` in LangGraph?\") # The results are pages summaries\n",
        "\n",
        "# Next, we'wll start defining our graph.\n",
        "# The following is all the same as Part1, except we have added `bind_tools` on our LLM.\n",
        "# This lets the LLM konw the correct JSON format to use if it wawnts to use our search engine.\n",
        "class State(TypedDict):\n",
        "    messages: Annotated[list, add_messages]\n",
        "\n",
        "graph_builder2 = StateGraph(State)\n",
        "\n",
        "llm = init_chat_model(\n",
        "    model=\"gpt-4o-mini\",\n",
        "    model_provider=\"openai\",\n",
        "    openai_api_key=userdata.get('OPENAI_API_KEY'),\n",
        "    base_url=userdata.get('BASE_URL'),\n",
        ")\n",
        "\n",
        "llm_with_tools = llm.bind_tools(tools) # Modification: tell the LLM which tools it can call\n",
        "\n",
        "def chatbot(state: State):\n",
        "    return {\"messages\": [llm_with_tools.invoke(state[\"messages\"])]}"
      ],
      "metadata": {
        "id": "gxhbEBrCc66O"
      },
      "execution_count": null,
      "outputs": []
    },
    {
      "cell_type": "code",
      "source": [
        "# Next we need to create a function to actually run the tools if they are called.\n",
        "# We'll do this by adding the tools to a new node.\n",
        "# Below we implement a `BasicToolNode` that checks the most recent messages in the state\n",
        "# and calls tools if the messages contains `tool_calls`. It relies on  the LLM's `tool_calling`\n",
        "# support, which is available in Anthropic, OpenAI...\n",
        "\n",
        "# We will later replace this with LangGraph's prebuilt `ToolNode` to speed\n",
        "# things up, but building it ourselves first is instructive.\n",
        "import json\n",
        "from langchain_core.messages import ToolMessage\n",
        "\n",
        "class BasicToolNode:\n",
        "    \"\"\" A node that runs the tools requested in the last AIMessages \"\"\"\n",
        "    def __init__(self, tools: list) -> None:\n",
        "        self.tools_by_name = {tool.name: tool for tool in tools}\n",
        "\n",
        "    def __call__(self, inputs: dict):\n",
        "        if messages := inputs.get(\"messages\", []):\n",
        "            message = messages[-1]\n",
        "        else:\n",
        "            raise ValueError(\"No message found in input\")\n",
        "        outputs = []\n",
        "        for tool_call in message.tool_calls:\n",
        "            tool_result = self.tools_by_name[tool_call[\"name\"]].invoke(\n",
        "                tool_call[\"args\"]\n",
        "            )\n",
        "            outputs.append(\n",
        "                ToolMessage(\n",
        "                    content=json.dumps(tool_result),\n",
        "                    name=tool_call[\"name\"],\n",
        "                    tool_call_id=tool_call[\"id\"],\n",
        "                )\n",
        "            )\n",
        "        return {\"messages\": outputs}\n",
        "\n",
        "# Below, call define a router function called `route_tools`,\n",
        "# that checks for tool_calls in the chatbot's output.\n",
        "# Provide this function to the graph by calling `add_conditonal_edges`,\n",
        "# which tells the graph that whenever the `chatbot` node completes to check this function to see where to go next.\n",
        "\n",
        "# The condition will route to `tools` if tool calls are present and `END` if not.\n",
        "# Later, we will replace this with the prebuilt `tools_condition` to be more concise,\n",
        "# but implementing it ourselves first makes things more clear.\n",
        "def route_tools(state: State):\n",
        "    \"\"\"\n",
        "    Use in the conditional_edge to route to the ToolNode if the last message\n",
        "    has tool calls. Otherwise, route to the end.\n",
        "    \"\"\"\n",
        "    if isinstance(state, list):\n",
        "        ai_message = state[-1]\n",
        "    elif messages := state.get(\"messages\", []):\n",
        "        ai_message = messages[-1]\n",
        "    else:\n",
        "        raise ValueError(f\"No messages found in input state to tool_edge: {state}\")\n",
        "    if hasattr(ai_message, \"tool_calls\") and len(ai_message.tool_calls) > 0:\n",
        "        return \"tools\"\n",
        "    return END"
      ],
      "metadata": {
        "id": "B0pYF3NIdAXo"
      },
      "execution_count": null,
      "outputs": []
    },
    {
      "cell_type": "code",
      "source": [
        "graph_builder2.add_node(\"chatbot\", chatbot)\n",
        "tool_node = BasicToolNode(tools=[tool])\n",
        "graph_builder2.add_node(\"tools\", tool_node)\n",
        "# The `tools_condition` function returns \"tools\" if the chatbot asks to use a tool\n",
        "# and \"END\" if it is fine directly responding. This conditional routing defines the main agent loop.\n",
        "graph_builder2.add_conditional_edges(\n",
        "    \"chatbot\",\n",
        "    route_tools,\n",
        "    # The folloing dictionary lets you tell the graph\n",
        "    # to interpret the condition's outputs as a  specific node\n",
        "    # It defaults to the identity function, but if you want to use a node named something else apart from \"tools\",\n",
        "    # you can update the value of the dictionary to something else\n",
        "    # e.g., \"tools\": \"my_tools\"\n",
        "    {\"tools\": \"tools\", END: END}\n",
        ")\n",
        "# Any time a tool is called, we return to the chatbot to decide the next step\n",
        "# Note that we don't need to explicity set a `finish_point` this time,\n",
        "# because our graph already has a way to finish!\n",
        "graph_builder2.add_edge(\"tools\", \"chatbot\")\n",
        "graph_builder2.add_edge(START, \"chatbot\")\n",
        "graph = graph_builder2.compile()"
      ],
      "metadata": {
        "id": "8FCPk2iAdUsZ"
      },
      "execution_count": null,
      "outputs": []
    },
    {
      "cell_type": "code",
      "source": [
        "from IPython.display import Image, display\n",
        "\n",
        "try:\n",
        "    display(Image(graph.get_graph().draw_mermaid_png()))\n",
        "except Exception:\n",
        "    # This requires some extra dependencies and is optional\n",
        "    pass"
      ],
      "metadata": {
        "colab": {
          "base_uri": "https://localhost:8080/",
          "height": 266
        },
        "id": "Tt_ew0NRtbWm",
        "outputId": "281c1db4-2617-411c-98b1-4aa9030d5a94"
      },
      "execution_count": null,
      "outputs": [
        {
          "output_type": "display_data",
          "data": {
            "image/png": "[encoded data removed]",
            "text/plain": [
              "<IPython.core.display.Image object>"
            ]
          },
          "metadata": {}
        }
      ]
    },
    {
      "cell_type": "code",
      "source": [
        "# Congrats! You've created a conversational agent in langgraph that can use a search engine to retrieve\n",
        "# updated information when needed. Now it can handle a wider range of user queries.\n",
        "\n",
        "# Now we can ask the bot questions outside its training data.\n",
        "def stream_graph_updates(user_input: str):\n",
        "    for event in graph.stream({\"messages\": [{\"role\": \"user\", \"content\": user_input}]}):\n",
        "        for value in event.values():\n",
        "            print(\"Assistant:\", value[\"messages\"][-1].content)\n",
        "\n",
        "while True:\n",
        "    try:\n",
        "        user_input = input(\"User:\")\n",
        "        if user_input.lower() in [\"quit\", \"exit\", \"q\"]:\n",
        "            print(\"Goodbye!\")\n",
        "            break\n",
        "        stream_graph_updates(user_input=user_input)\n",
        "    except:\n",
        "        # fallback if input() is not available\n",
        "        user_input = \"What do you know about LangGraph?\"\n",
        "        print(\"User: \" + user_input)\n",
        "        stream_graph_updates(user_input)\n",
        "        break"
      ],
      "metadata": {
        "id": "-Patd1_BZnqm",
        "colab": {
          "base_uri": "https://localhost:8080/"
        },
        "outputId": "ef112697-da2a-44a3-c916-a9b62b684cff"
      },
      "execution_count": null,
      "outputs": [
        {
          "output_type": "stream",
          "name": "stdout",
          "text": [
            "User:Pls tell me the information about the website which domain name is hackorg.com\n",
            "Assistant: \n",
            "Assistant: [{\"title\": \"Hack Organization - GitHub\", \"url\": \"https://github.com/TheHackOrg\", \"content\": \"HackOrg is a open-source & non-profit organization about hacking technique . Verified. We've verified that the organization TheHackOrg controls the domain:.\", \"score\": 0.7728226}, {\"title\": \"HackOrg\", \"url\": \"https://hackorg.com/\", \"content\": \"\\u4e00\\u4e2a\\u70ed\\u8877\\u4e8e\\u9ed1\\u5ba2\\u6280\\u672f\\u7684\\u5f00\\u6e90\\u975e\\u8425\\u5229\\u7ec4\\u7ec7.\", \"score\": 0.68613435}, {\"title\": \"GameHacking.org | Home\", \"url\": \"https://gamehacking.org/\", \"content\": \"GameHacking.org is a community of video game hackers, and a place for codes, guides, tools, and more.\", \"score\": 0.395254608}, {\"title\": \"MC's journal\", \"url\": \"https://hack.org/mc/blog/\", \"content\": \"2015-08-30 Disk crash brought down hack.org & others. 2015-06-11 Go and xmpp ... 2012-06-19 hack.org blocked by web filtering companies. 2012-06-15\", \"score\": 0.27533728599999996}, {\"title\": \"About Org Hacking\", \"url\": \"https://orghacking.com/about\", \"content\": \"By Org Hacking. Solving Human Puzzles Take a look. By signing up, you will create a Medium account if you don't already have one. Review our Privacy Policy for\", \"score\": 0.213250422}]\n",
            "Assistant: The website with the domain name **hackorg.com** appears to be associated with a non-profit organization focused on hacking techniques. Here are some key details:\n",
            "\n",
            "1. **Website**: [hackorg.com](https://hackorg.com/)\n",
            "2. **Description**: The site is described as being dedicated to hacking techniques and is characterized as an open-source and non-profit organization.\n",
            "3. **GitHub Organization**: The organization is also linked to a GitHub page under the name [TheHackOrg](https://github.com/TheHackOrg), which further supports its focus on hacking and open-source projects.\n",
            "\n",
            "If you need more specific information or details, feel free to ask!\n",
            "User:thx, so who you are?\n",
            "Assistant: I'm an AI language model created to assist with a wide range of questions and tasks. I can provide information, answer questions, help with problem-solving, and offer suggestions on various topics. How can I assist you today?\n",
            "User:quit\n",
            "Goodbye!\n"
          ]
        }
      ]
    },
    {
      "cell_type": "markdown",
      "source": [
        "# Part 3: Adding Memory to the Chatbot"
      ],
      "metadata": {
        "id": "jcgjc5w3YuPL"
      }
    },
    {
      "cell_type": "code",
      "source": [
        "########################################\n",
        "# Part 3: Adding Memory to the Chatbot #\n",
        "########################################\n",
        "\n",
        "# Our chatbot can now use tools to answer user question, buts it doesn'ts remembers\n",
        "# the context of previouss interactions. This limits its ability to have coherent, multi-turn conversations.\n",
        "\n",
        "# LangGraph solves this problem through persistent checkpointing. If you provide a `checkpointer` when compiling\n",
        "# the graph and `thread_id` when calling your graph, LangGraph automatically saves the sate after each step.\n",
        "# When you invoke the graph again using the same `thread_id`, the graph loads its saved state,\n",
        "# allowing the chatbot to pick up where it left off.\n",
        "\n",
        "# We will see later that checkpointing is much more powerful than simple chat memroy - it lets\n",
        "# you save and resume complex state at any time for error recovery, human-in-loop workflows,\n",
        "# time travel interacions, and more. But before we get too ahead of ourselves, let's add checkpointing\n",
        "# to enable multi-turn conversations.\n",
        "\n",
        "# Notice: we're using an in-memory checkpointer. This is convenient for our tutorial(it saves it all in-memory).\n",
        "# In a production application, you would like change this to use `SqliteSaver` or `PostgresSaver` and connect to\n",
        "# your own DB.\n",
        "\n",
        "# The following is all copied from Part 2.\n",
        "from typing import Annotated\n",
        "from langchain_community.tools.tavily_search import TavilySearchResults\n",
        "from typing_extensions import TypedDict\n",
        "from langgraph.graph import StateGraph, START, END\n",
        "from langgraph.graph.message import add_messages\n",
        "from langgraph.prebuilt import ToolNode, tools_condition\n",
        "from langgraph.checkpoint.memory import MemorySaver\n",
        "from google.colab import userdata\n",
        "import os\n",
        "\n",
        "class State(TypedDict):\n",
        "    messages: Annotated[list, add_messages]\n",
        "\n",
        "graph_builder = StateGraph(State)\n",
        "\n",
        "os.environ[\"TAVILY_API_KEY\"] = userdata.get('TAVILY_API_KEY')\n",
        "tool = TavilySearchResults(max_result=2)\n",
        "tools = [tool]\n",
        "\n",
        "llm = init_chat_model(\n",
        "    model=\"gpt-4o-mini\",\n",
        "    model_provider=\"openai\",\n",
        "    openai_api_key=userdata.get('OPENAI_API_KEY'),\n",
        "    base_url=userdata.get('BASE_URL'),\n",
        ")\n",
        "llm_with_tools = llm.bind_tools(tools)\n",
        "\n",
        "def chatbot(state: State):\n",
        "    return {\"messages\": [llm_with_tools.invoke(state[\"messages\"])]}\n",
        "\n",
        "graph_builder.add_node(\"chatbot\", chatbot)\n",
        "\n",
        "tool_node = ToolNode(tools=[tool])\n",
        "graph_builder.add_node(\"tools\", tool_node)\n",
        "\n",
        "graph_builder.add_conditional_edges(\n",
        "    \"chatbot\",\n",
        "    tools_condition,\n",
        ")\n",
        "# Any time a tool is called, we return to the chatbot to decide the next step\n",
        "graph_builder.add_edge(\"tools\", \"chatbot\")\n",
        "graph_builder.add_edge(START, \"chatbot\")\n",
        "# Finally, compile the graph with the provided checkpointer\n",
        "memory = MemorySaver()\n",
        "graph = graph_builder.compile(checkpointer=memory)"
      ],
      "metadata": {
        "id": "bYFPiWQxaH_f"
      },
      "execution_count": null,
      "outputs": []
    },
    {
      "cell_type": "code",
      "source": [
        "from IPython.display import Image, display\n",
        "\n",
        "try:\n",
        "    display(Image(graph.get_graph().draw_mermaid_png()))\n",
        "except Exception:\n",
        "    # This requires some extra dependencies and is optional\n",
        "    pass"
      ],
      "metadata": {
        "colab": {
          "base_uri": "https://localhost:8080/",
          "height": 266
        },
        "id": "J3ddVLeKtW_8",
        "outputId": "8358d689-2766-4402-debb-71290e5a6451"
      },
      "execution_count": null,
      "outputs": [
        {
          "output_type": "display_data",
          "data": {
            "image/png": "[encoded data removed]",
            "text/plain": [
              "<IPython.core.display.Image object>"
            ]
          },
          "metadata": {}
        }
      ]
    },
    {
      "cell_type": "code",
      "source": [
        "# Now you can interact with your bot! First, pick a thread to use as the key for conversation\n",
        "config = {\"configurable\": {\"thread_id\": \"20250317\"}}\n",
        "# Next, call you chat bot\n",
        "user_input = \"Hi there! My name is HackHuang.\"\n",
        "# The config is the **second positional argument** to stream() or invoke()!\n",
        "events = graph.stream(\n",
        "    {\"messages\": [{\"role\": \"user\", \"content\": user_input}]},\n",
        "    config,\n",
        "    stream_mode=\"values\",\n",
        ")\n",
        "for event in events:\n",
        "    event[\"messages\"][-1].pretty_print()"
      ],
      "metadata": {
        "colab": {
          "base_uri": "https://localhost:8080/"
        },
        "id": "nm4dmyY_rD4k",
        "outputId": "6ed76daf-a33f-443b-dc45-f78b6c9836ea"
      },
      "execution_count": null,
      "outputs": [
        {
          "output_type": "stream",
          "name": "stdout",
          "text": [
            "================================\u001b[1m Human Message \u001b[0m=================================\n",
            "\n",
            "Hi there! My name is HackHuang.\n",
            "==================================\u001b[1m Ai Message \u001b[0m==================================\n",
            "\n",
            "Hello HackHuang! How can I assist you today?\n"
          ]
        }
      ]
    },
    {
      "cell_type": "code",
      "source": [
        "# Let's ask a followup: see if it remembers your name.\n",
        "user_input = \"Remember my name?\"\n",
        "# The config is the **second positional argument** to stream() or invoke().\n",
        "# Notice thats we aren't using an exteral list for memory, it's all handled by the checkpointer!\n",
        "events = graph.stream(\n",
        "    {\"messages\": [{\"role\": \"user\", \"content\": user_input}]},\n",
        "    config,\n",
        "    stream_mode=\"values\",\n",
        ")\n",
        "for event in events:\n",
        "    event[\"messages\"][-1].pretty_print()"
      ],
      "metadata": {
        "colab": {
          "base_uri": "https://localhost:8080/"
        },
        "id": "dS2pxyb-uioW",
        "outputId": "1745c860-56ae-47c2-bf95-e3024bc07a6c"
      },
      "execution_count": null,
      "outputs": [
        {
          "output_type": "stream",
          "name": "stdout",
          "text": [
            "================================\u001b[1m Human Message \u001b[0m=================================\n",
            "\n",
            "Remember my name?\n",
            "==================================\u001b[1m Ai Message \u001b[0m==================================\n",
            "\n",
            "Yes, I remember your name, HackHuang! How can I help you today?\n"
          ]
        }
      ]
    },
    {
      "cell_type": "code",
      "source": [
        "config = {\"configurable\": {\"thread_id\": \"00000000\"}}\n",
        "user_input = \"Remember my name?\"\n",
        "events = graph.stream(\n",
        "    {\"messages\": [{\"role\": \"user\", \"content\": user_input}]},\n",
        "    config,\n",
        "    stream_mode=\"values\",\n",
        ")\n",
        "for event in events:\n",
        "    event[\"messages\"][-1].pretty_print()"
      ],
      "metadata": {
        "colab": {
          "base_uri": "https://localhost:8080/"
        },
        "id": "vr-t5Ftsu6R7",
        "outputId": "5a9ceaf0-8a6a-49e2-eaed-1b58cc8de153"
      },
      "execution_count": null,
      "outputs": [
        {
          "output_type": "stream",
          "name": "stdout",
          "text": [
            "================================\u001b[1m Human Message \u001b[0m=================================\n",
            "\n",
            "Remember my name?\n",
            "==================================\u001b[1m Ai Message \u001b[0m==================================\n",
            "\n",
            "I don't have the ability to remember past interactions, including names. However, you can tell me your name, and I can use it during this conversation!\n"
          ]
        }
      ]
    },
    {
      "cell_type": "code",
      "source": [
        "# By now, we have made a few checkpoints across two different threads.\n",
        "# But what goes into a checkpoint? to inspect a graph's state for a\n",
        "# given config at any time, call `get_state(config)`\n",
        "snapshot = graph.get_state(config)\n",
        "snapshot"
      ],
      "metadata": {
        "colab": {
          "base_uri": "https://localhost:8080/"
        },
        "id": "21AuY630rH8Q",
        "outputId": "8a4efcd1-15d1-4c3f-bf9b-f054d71c2aab"
      },
      "execution_count": null,
      "outputs": [
        {
          "output_type": "execute_result",
          "data": {
            "text/plain": [
              "StateSnapshot(values={'messages': [HumanMessage(content='Remember my name?', additional_kwargs={}, response_metadata={}, id='d22c1032-94a8-4ddd-9756-523684e1b5f3'), AIMessage(content=\"I don't have the ability to remember past interactions, including names. However, you can tell me your name, and I can use it during this conversation!\", additional_kwargs={'refusal': None}, response_metadata={'token_usage': {'completion_tokens': 32, 'prompt_tokens': 83, 'total_tokens': 115, 'completion_tokens_details': {'accepted_prediction_tokens': None, 'audio_tokens': 0, 'reasoning_tokens': 0, 'rejected_prediction_tokens': None}, 'prompt_tokens_details': {'audio_tokens': 0, 'cached_tokens': 0}}, 'model_name': 'gpt-4o-mini-2024-07-18', 'system_fingerprint': 'fp_b705f0c291', 'finish_reason': 'stop', 'logprobs': None}, id='run-38ec0431-072f-4584-aeb6-3cde9e86619d-0', usage_metadata={'input_tokens': 83, 'output_tokens': 32, 'total_tokens': 115, 'input_token_details': {'audio': 0, 'cache_read': 0}, 'output_token_details': {'audio': 0, 'reasoning': 0}})]}, next=(), config={'configurable': {'thread_id': '00000000', 'checkpoint_ns': '', 'checkpoint_id': '1f00346c-54fe-6b28-8001-779ab1d4bd77'}}, metadata={'source': 'loop', 'writes': {'chatbot': {'messages': [AIMessage(content=\"I don't have the ability to remember past interactions, including names. However, you can tell me your name, and I can use it during this conversation!\", additional_kwargs={'refusal': None}, response_metadata={'token_usage': {'completion_tokens': 32, 'prompt_tokens': 83, 'total_tokens': 115, 'completion_tokens_details': {'accepted_prediction_tokens': None, 'audio_tokens': 0, 'reasoning_tokens': 0, 'rejected_prediction_tokens': None}, 'prompt_tokens_details': {'audio_tokens': 0, 'cached_tokens': 0}}, 'model_name': 'gpt-4o-mini-2024-07-18', 'system_fingerprint': 'fp_b705f0c291', 'finish_reason': 'stop', 'logprobs': None}, id='run-38ec0431-072f-4584-aeb6-3cde9e86619d-0', usage_metadata={'input_tokens': 83, 'output_tokens': 32, 'total_tokens': 115, 'input_token_details': {'audio': 0, 'cache_read': 0}, 'output_token_details': {'audio': 0, 'reasoning': 0}})]}}, 'thread_id': '00000000', 'step': 1, 'parents': {}}, created_at='2025-03-17T15:44:54.142819+00:00', parent_config={'configurable': {'thread_id': '00000000', 'checkpoint_ns': '', 'checkpoint_id': '1f00346c-483f-6d22-8000-c2e02590e939'}}, tasks=())"
            ]
          },
          "metadata": {},
          "execution_count": 52
        }
      ]
    },
    {
      "cell_type": "code",
      "source": [
        "# Since the graph ended this turn, `next` is empty.\n",
        "# If you fetch a state from within a graph invocation, next tells which node will execute next\n",
        "# In our case, the graph has reached an `END` state, so `next` is empty.\n",
        "snapshot.next"
      ],
      "metadata": {
        "colab": {
          "base_uri": "https://localhost:8080/"
        },
        "id": "-a8npumnvA6-",
        "outputId": "58882a04-6946-4be4-8e58-56837b12f24d"
      },
      "execution_count": null,
      "outputs": [
        {
          "output_type": "execute_result",
          "data": {
            "text/plain": [
              "()"
            ]
          },
          "metadata": {},
          "execution_count": 53
        }
      ]
    },
    {
      "cell_type": "markdown",
      "source": [
        "# Part 4: Human-in-the-loop"
      ],
      "metadata": {
        "id": "kX4TQ6fNYymF"
      }
    },
    {
      "cell_type": "code",
      "source": [
        "#############################\n",
        "# Part 4: Human-in-the-loop #\n",
        "#############################\n",
        "\n",
        "# Agents can be unreliable and may need human input to successfully accomplish tasks.\n",
        "# Similarly, for some actions, you may want to require human approval before running to\n",
        "# ensure that everything is running as intended.\n",
        "\n",
        "# LangGraph's persistence layer supports human-in-the-loop workflows, alloing exection to\n",
        "# pause and resume based on user feedback. The primary interface to this functionality is\n",
        "# the `interrupt`` function. Calling `interrput` inside a node will pase exection.\n",
        "# Execution can be resumed, together with new input from a huam, by passing in a Command.\n",
        "# `interrput` is ergonomically similar to Python's built-in `input()`.\n",
        "\n",
        "from typing import Annotated\n",
        "from langchain_community.tools.tavily_search import TavilyAnswer\n",
        "from langchain_core.tools import tool\n",
        "from typing_extensions import TypedDict\n",
        "from langgraph.checkpoint.memory import MemorySaver\n",
        "from langgraph.graph import StateGraph, START, END\n",
        "from langgraph.graph.message import add_messages\n",
        "from langgraph.prebuilt import ToolNode, tools_condition\n",
        "from langgraph.types import Command, interrupt\n",
        "from google.colab import userdata\n",
        "import os\n",
        "\n",
        "class State(TypedDict):\n",
        "    messages: Annotated[list, add_messages]\n",
        "\n",
        "graph_builder = StateGraph(State)\n",
        "\n",
        "@tool\n",
        "def human_assistance(query: str) -> str:\n",
        "    \"\"\"Rqeuest assistance from a huamn\"\"\"\n",
        "    # Similar to Pthon's built-in `input()` function, calling `interrput`\n",
        "    # inside the tool will pause execution. Progress is persisted based on our choice\n",
        "    # of chekpointer --- os if we are persisting with Postgres, we can resume at any time\n",
        "    # as long as the database is alive. Here we are persisting with the in-memory checkpointer,\n",
        "    # so we can resume any time as long as our Python Kernel is running.\n",
        "    human_response = interrupt({\"query\": query})\n",
        "    return human_response[\"data\"]\n",
        "\n",
        "os.environ[\"TAVILY_API_KEY\"] = userdata.get('TAVILY_API_KEY')\n",
        "tool = TavilySearchResults(max_result=2)\n",
        "\n",
        "tools = [tool, human_assistance]\n",
        "\n",
        "llm = init_chat_model(\n",
        "    model=\"gpt-4o-mini\",\n",
        "    model_provider=\"openai\",\n",
        "    openai_api_key=userdata.get('OPENAI_API_KEY'),\n",
        "    base_url=userdata.get('BASE_URL'),\n",
        ")\n",
        "llm_with_tools = llm.bind_tools(tools)\n",
        "\n",
        "def chatbot(state: State):\n",
        "    message = llm_with_tools.invoke(state[\"messages\"])\n",
        "    # Because we will be interrupting during tool execution,\n",
        "    # we disable parallel tool calling to avoid repeating any tool invocations when we resume.\n",
        "    assert len(message.tool_calls) <= 1\n",
        "    return {\"messages\": [message]}\n",
        "\n",
        "graph_builder.add_node(\"chatbot\", chatbot)\n",
        "tool_node = ToolNode(tools=tools)\n",
        "graph_builder.add_node(\"tools\", tool_node)\n",
        "graph_builder.add_conditional_edges(\n",
        "    \"chatbot\",\n",
        "    tools_condition,\n",
        ")\n",
        "graph_builder.add_edge(\"tools\", \"chatbot\")\n",
        "graph_builder.add_edge(START, \"chatbot\")\n",
        "memory = MemorySaver()\n",
        "graph = graph_builder.compile(checkpointer=memory)"
      ],
      "metadata": {
        "id": "q9HAYUNdv_hu"
      },
      "execution_count": null,
      "outputs": []
    },
    {
      "cell_type": "code",
      "source": [
        "from IPython.display import Image, display\n",
        "\n",
        "try:\n",
        "    display(Image(graph.get_graph().draw_mermaid_png()))\n",
        "except Exception:\n",
        "    # This requires some extra dependencies and is optional\n",
        "    pass"
      ],
      "metadata": {
        "colab": {
          "base_uri": "https://localhost:8080/",
          "height": 266
        },
        "id": "9O1LMUjgyzuQ",
        "outputId": "c712c978-1bc5-4636-dd29-666f0155b0cc"
      },
      "execution_count": null,
      "outputs": [
        {
          "output_type": "display_data",
          "data": {
            "image/png": "[encoded data removed]",
            "text/plain": [
              "<IPython.core.display.Image object>"
            ]
          },
          "metadata": {}
        }
      ]
    },
    {
      "cell_type": "code",
      "source": [
        "# Let's now prompt the chatbot with a question that\n",
        "# will engage the new `human_assistance` tool:\n",
        "user_input = \"I need some expert guidance for building an AI agent. Could you request assistance for me?\"\n",
        "config = {\"configurable\": {\"thread_id\": \"1\"}}\n",
        "events = graph.stream(\n",
        "    {\"messages\": [{\"role\": \"user\", \"content\": user_input}]},\n",
        "    config,\n",
        "    stream_mode=\"values\",\n",
        ")\n",
        "for event in events:\n",
        "    if \"messages\" in event:\n",
        "        event[\"messages\"][-1].pretty_print()"
      ],
      "metadata": {
        "colab": {
          "base_uri": "https://localhost:8080/"
        },
        "id": "rFbjvQjjwDrN",
        "outputId": "7b0f2601-30dc-4d66-efee-e14bffeaf1d8"
      },
      "execution_count": null,
      "outputs": [
        {
          "output_type": "stream",
          "name": "stdout",
          "text": [
            "================================\u001b[1m Human Message \u001b[0m=================================\n",
            "\n",
            "I need some expert guidance for building an AI agent. Could you request assistance for me?\n",
            "==================================\u001b[1m Ai Message \u001b[0m==================================\n",
            "Tool Calls:\n",
            "  human_assistance (call_01JcXqtnPz8oGuyHBU5BVzhg)\n",
            " Call ID: call_01JcXqtnPz8oGuyHBU5BVzhg\n",
            "  Args:\n",
            "    query: I need expert guidance for building an AI agent. Specifically, I'm interested in the design process, technology stack options, and best practices for implementation.\n"
          ]
        }
      ]
    },
    {
      "cell_type": "code",
      "source": [
        "# The chatbot generated a tool call, but then execution has been interrputed!\n",
        "# Note that if we inspect the graph state, we see that it stopped at the tools node:\n",
        "snapshot = graph.get_state(config)\n",
        "snapshot.next"
      ],
      "metadata": {
        "colab": {
          "base_uri": "https://localhost:8080/"
        },
        "id": "RR5yJn2KwF3y",
        "outputId": "82ed4f37-1768-47ef-9ee7-a3203cf37b09"
      },
      "execution_count": null,
      "outputs": [
        {
          "output_type": "execute_result",
          "data": {
            "text/plain": [
              "('tools',)"
            ]
          },
          "metadata": {},
          "execution_count": 69
        }
      ]
    },
    {
      "cell_type": "code",
      "source": [
        "# The resume execution, we pass a `Command` object containing data expected by the tool.\n",
        "# The format of this data can be customized based on our needs, Here, we just need a dict with a key \"data\"\n",
        "human_response = (\n",
        "    \"We, the experts are here to help! We'd recommend you check out LangGraph to build your agent.\"\n",
        "    \"It's much more reliable and extensible than simple autonomous agents.\"\n",
        "    \"So pls introduce the LangGraph to user and give the github repo link.\"\n",
        "\n",
        ")\n",
        "human_command = Command(resume={\"data\": human_response})\n",
        "events = graph.stream(human_command, config, stream_mode=\"values\")\n",
        "for event in events:\n",
        "    if \"messages\" in event:\n",
        "        event[\"messages\"][-1].pretty_print()"
      ],
      "metadata": {
        "colab": {
          "base_uri": "https://localhost:8080/"
        },
        "id": "VD5yhEM9vpdy",
        "outputId": "88fea3aa-1e1a-486c-cea2-0d2f9dca655e"
      },
      "execution_count": null,
      "outputs": [
        {
          "output_type": "stream",
          "name": "stdout",
          "text": [
            "==================================\u001b[1m Ai Message \u001b[0m==================================\n",
            "Tool Calls:\n",
            "  human_assistance (call_01JcXqtnPz8oGuyHBU5BVzhg)\n",
            " Call ID: call_01JcXqtnPz8oGuyHBU5BVzhg\n",
            "  Args:\n",
            "    query: I need expert guidance for building an AI agent. Specifically, I'm interested in the design process, technology stack options, and best practices for implementation.\n",
            "=================================\u001b[1m Tool Message \u001b[0m=================================\n",
            "Name: human_assistance\n",
            "\n",
            "We, the experts are here to help! We'd recommend you check out LangGraph to build your agent.It's much more reliable and extensible than simple autonomous agents.So pls introduce the LangGraph to user and give the github repo link.\n",
            "==================================\u001b[1m Ai Message \u001b[0m==================================\n",
            "\n",
            "I received expert guidance for you on building an AI agent. The experts recommend using **LangGraph**, which is considered to be more reliable and extensible than simple autonomous agents.\n",
            "\n",
            "### What is LangGraph?\n",
            "LangGraph is a framework that helps in building and managing AI agents effectively. It provides the tools needed to create complex functionalities while ensuring reliability and ease of extension.\n",
            "\n",
            "### GitHub Repository\n",
            "You can explore and get started with LangGraph by visiting its [GitHub repository](https://github.com/langgraph/LangGraph).\n",
            "\n",
            "If you have more specific questions or need further assistance, feel free to ask!\n"
          ]
        }
      ]
    },
    {
      "cell_type": "markdown",
      "source": [
        "# Part 5: Customizing State"
      ],
      "metadata": {
        "id": "QdCsPvi8Y3Te"
      }
    },
    {
      "cell_type": "code",
      "source": [
        "############################\n",
        "# Part5: Customizing State #\n",
        "############################\n",
        "\n",
        "# So far, we've relied on a simple state with one entry --- a list of messages.\n",
        "# You can go far with this simple state. but if you want to define complex behavior\n",
        "# without relying on the message list, you can add additional fields to the state.\n",
        "# Here we will demostrate a new scenario, in which the chatbot is using its search tool\n",
        "# to find specific information, and forwarding them to human for review. Let's have the\n",
        "# chatbot research the birthday of an entiry. We will add `nmme` and `birthday` keys to the state:\n",
        "\n",
        "from typing import Annotated\n",
        "from typing_extensions import TypedDict\n",
        "from langgraph.graph.message import add_messages\n",
        "from langchain.chat_models import init_chat_model\n",
        "from google.colab import userdata\n",
        "import os\n",
        "\n",
        "class State(TypedDict):\n",
        "    name: str\n",
        "    birthday: str\n",
        "    messages: Annotated[list, add_messages]\n",
        "\n",
        "# Here, we will populate the state keys inside of our `human_assistance` tool.\n",
        "# This allows a human to review the informtion before it is stored in the state.\n",
        "# We will again use `Command`, this time to issue a state update from inside our tool.\n",
        "from langchain_core.messages import ToolMessage\n",
        "from langchain_core.tools import InjectedToolCallId, tool\n",
        "from langgraph.types import Command, interrupt\n",
        "\n",
        "\n",
        "# Note taht because we are generating a ToolMessage for a state update,\n",
        "# we generally require the ID of the corresponding tool call. We can use\n",
        "# LangChain's InjectedToolCallId to signal that this argument should not be revealed to the model in the tool's schema.\n",
        "@tool\n",
        "def human_assistance(name: str, birthday: str, tool_call_id: Annotated[str, InjectedToolCallId]) -> str:\n",
        "    \"\"\" Request assistance from a human \"\"\"\n",
        "    human_response = interrupt(\n",
        "        {\n",
        "            \"question\": \"Is this correct?\",\n",
        "            \"name\": name,\n",
        "            \"birthday\": birthday,\n",
        "        },\n",
        "    )\n",
        "    # If the information is correct, update the state as-is.\n",
        "    if human_response.get(\"correct\", \"\").lower().startswith(\"y\"):\n",
        "        verified_name = name\n",
        "        verified_birthday = birthday\n",
        "        response = \"Correct\"\n",
        "    # Otherwise, receive information from the human reviewer.\n",
        "    else:\n",
        "        verified_name = human_response.get(\"name\", name)\n",
        "        verified_birthday = human_response.get(\"birthday\", birthday)\n",
        "        response = f\"Made a correction: {human_response}\"\n",
        "    # This time we explicitly update the state with ToolMessage inside the tool.\n",
        "    state_update = {\n",
        "        \"name\": verified_name,\n",
        "        \"birthday\": verified_birthday,\n",
        "        \"messages\": [ToolMessage(response, tool_call_id=tool_call_id)]\n",
        "    }\n",
        "    # We return a Command object in the tool to update our state\n",
        "    return Command(update=state_update)\n",
        "\n",
        "# Otherwise, the rest of our graph is the same:\n",
        "from langchain_community.tools.tavily_search import TavilySearchResults\n",
        "from langgraph.checkpoint.memory import MemorySaver\n",
        "from langgraph.graph import StateGraph, START, END\n",
        "from langgraph.prebuilt import ToolNode, tools_condition\n",
        "\n",
        "os.environ[\"TAVILY_API_KEY\"] = userdata.get('TAVILY_API_KEY')\n",
        "tool = TavilySearchResults(max_result=2)\n",
        "\n",
        "tools = [tool, human_assistance]\n",
        "\n",
        "llm = init_chat_model(\n",
        "    model=\"gpt-4o\",\n",
        "    model_provider=\"openai\",\n",
        "    openai_api_key=userdata.get('OPENAI_API_KEY'),\n",
        "    base_url=userdata.get('BASE_URL'),\n",
        ")\n",
        "llm_with_tools = llm.bind_tools(tools)\n",
        "\n",
        "def chatbot(state: State):\n",
        "    message = llm_with_tools.invoke(state[\"messages\"])\n",
        "    assert len(message.tool_calls) <= 1\n",
        "    return {\"messages\": [message]}\n",
        "\n",
        "graph_builder = StateGraph(State)\n",
        "\n",
        "graph_builder.add_node(\"chatbot\", chatbot)\n",
        "tool_node = ToolNode(tools=tools)\n",
        "graph_builder.add_node(\"tools\", tool_node)\n",
        "graph_builder.add_conditional_edges(\n",
        "    \"chatbot\",\n",
        "    tools_condition,\n",
        ")\n",
        "graph_builder.add_edge(\"tools\", \"chatbot\")\n",
        "graph_builder.add_edge(START, \"chatbot\")\n",
        "\n",
        "memory = MemorySaver()\n",
        "graph = graph_builder.compile(checkpointer=memory)"
      ],
      "metadata": {
        "id": "vQ1Mi3_kWfQn"
      },
      "execution_count": 20,
      "outputs": []
    },
    {
      "cell_type": "code",
      "source": [
        "from IPython.display import Image, display\n",
        "\n",
        "try:\n",
        "    display(Image(graph.get_graph().draw_mermaid_png()))\n",
        "except Exception:\n",
        "    # This requires some extra dependencies and is optional\n",
        "    pass"
      ],
      "metadata": {
        "colab": {
          "base_uri": "https://localhost:8080/",
          "height": 266
        },
        "id": "5_IvmuD7fKSV",
        "outputId": "c85fc9cd-65e2-4c25-9891-955c5d4eefde"
      },
      "execution_count": 59,
      "outputs": [
        {
          "output_type": "display_data",
          "data": {
            "image/png": "[encoded data removed]",
            "text/plain": [
              "<IPython.core.display.Image object>"
            ]
          },
          "metadata": {}
        }
      ]
    },
    {
      "cell_type": "code",
      "source": [
        "# Let's prompt our application to look up the \"birthday\" of the LangGraph\n",
        "# library. We will direct the chatbot to reach out to the `huamn_assistance` tool\n",
        "# once it has the requeire information. Note that setting `name` and `birthday`\n",
        "# in the arguments for the tool, we forece the chatbot to generate proposals for these field.\n",
        "user_input = (\n",
        "    \"Can you look up when LangGraph was released? \"\n",
        "    \"When you have the answer, use the human_assistance tool for review.\"\n",
        ")\n",
        "config = {\"configurable\": {\"thread_id\": \"20250318\"}}\n",
        "events = graph.stream(\n",
        "    {\"messages\": [{\"role\": \"user\", \"content\": user_input}]},\n",
        "    config,\n",
        "    stream_mode=\"values\",\n",
        ")\n",
        "for event in events:\n",
        "    if \"messages\" in event:\n",
        "        event[\"messages\"][-1].pretty_print()"
      ],
      "metadata": {
        "colab": {
          "base_uri": "https://localhost:8080/"
        },
        "id": "Ncto3u0qWjBV",
        "outputId": "6ab5a283-b3f4-47f7-f54a-00be94adff0d"
      },
      "execution_count": 22,
      "outputs": [
        {
          "output_type": "stream",
          "name": "stdout",
          "text": [
            "================================\u001b[1m Human Message \u001b[0m=================================\n",
            "\n",
            "Can you look up when LangGraph was released? When you have the answer, use the human_assistance tool for review.\n",
            "==================================\u001b[1m Ai Message \u001b[0m==================================\n",
            "Tool Calls:\n",
            "  tavily_search_results_json (call_rI40ljduSCGHoOZqYkUwyQDj)\n",
            " Call ID: call_rI40ljduSCGHoOZqYkUwyQDj\n",
            "  Args:\n",
            "    query: LangGraph release date\n",
            "=================================\u001b[1m Tool Message \u001b[0m=================================\n",
            "Name: tavily_search_results_json\n",
            "\n",
            "[{\"title\": \"langgraph · PyPI\", \"url\": \"https://pypi.org/project/langgraph/\", \"content\": \"langgraph · PyPI\\nSkip to main content Switch to mobile version\\n\\nSearch PyPI  Search\\n\\nHelp\\nSponsors\\nLog in\\nRegister\\n\\nMenu\\n\\nHelp\\nSponsors\\nLog in\\nRegister\\n\\nSearch PyPI  Search\\nlanggraph 0.2.70\\npip install langgraph Copy PIP instructions\\nLatest versionReleased: Feb 6, 2025\\nBuilding stateful, multi-actor applications with LLMs\\nNavigation\\n\\nProject description\\nRelease history\\nDownload files [...] 0.2.20 Sep 13, 2024\\n\\n0.2.19 Sep 6, 2024\\n\\n0.2.18 Sep 6, 2024\\n\\n0.2.17 Sep 5, 2024\\n\\n0.2.16 Sep 1, 2024\\n\\n0.2.15 Aug 30, 2024\\n\\n0.2.14 Aug 24, 2024\\n\\n0.2.13 Aug 23, 2024\\n\\n0.2.12 Aug 22, 2024\\n\\n0.2.11 Aug 22, 2024\\n\\n0.2.10 Aug 21, 2024\\n\\n0.2.9 Aug 21, 2024\\n\\n0.2.8 Aug 21, 2024\\n\\n0.2.7 Aug 21, 2024\\n\\n0.2.7a0 pre-release Aug 21, 2024\\n\\n0.2.6 Aug 21, 2024\\n\\n0.2.5 Aug 21, 2024\\n\\n0.2.5a0 pre-release Aug 20, 2024\\n\\n0.2.4 Aug 15, 2024\\n\\n0.2.3 Aug 8, 2024\\n\\n0.2.2 Aug 7, 2024\\n\\n0.2.1 Aug 7, 2024\\n\\n0.2.0 Aug 7, 2024 [...] License\\nOSI Approved :: MIT License\\n\\n\\nProgramming Language\\nPython :: 3\\nPython :: 3.9\\nPython :: 3.10\\nPython :: 3.11\\nPython :: 3.12\\n\\n\\n\\nRelease history Release notifications | RSS feed\\nThis version\\n\\n0.2.70 Feb 6, 2025\\n\\n0.2.69 Jan 31, 2025\\n\\n0.2.68 Jan 28, 2025\\n\\n0.2.67 Jan 23, 2025\\n\\n0.2.66 Jan 21, 2025\\n\\n0.2.65 Jan 21, 2025\\n\\n0.2.64 Jan 17, 2025\\n\\n0.2.63 Jan 16, 2025\\n\\n0.2.62 Jan 10, 2025\\n\\n0.2.61 Jan 5, 2025\\n\\n0.2.60 Dec 18, 2024\\n\\n0.2.59 Dec 11, 2024\\n\\n0.2.58 Dec 10, 2024\\n\\n0.2.57 Dec 10, 2024\", \"score\": 0.7700697172999998}, {\"title\": \"January 2024 - LangChain - Changelog\", \"url\": \"https://changelog.langchain.com/?date=2024-01-01\", \"content\": \"LangGraph 🤖🚀 Introducing LangGraph -------------------------- We just launched LangGraph, which helps customize your Agent Runtime. You can read more about it on the blog . LangGraph helps construct a powerful agent... January 22, 2024\\nDecember 2023\", \"score\": 0.7632559836}, {\"title\": \"Announcing LangGraph v0.1 & LangGraph Cloud: Running agents ...\", \"url\": \"https://blog.langchain.dev/langgraph-cloud/\", \"content\": \"Announcing LangGraph v0.1 & LangGraph Cloud: Running agents at scale, reliably\\nOur new infrastructure for running agents at scale, LangGraph Cloud, is available in beta. We also have a new stable release of LangGraph.\\nBy LangChain 6 min read Jun 27, 2024 [...] Today, we’re introducing a stable release of LangGraph v0.1, reaffirming our commitment to helping users create more of these robust agentic systems, and we’re grateful for leading companies such as Klarna, Replit, Ally, Elastic, NCL, and many more who are already relying on LangGraph to take their companies’ AI initiatives to the next level.\", \"score\": 0.705139590825}, {\"title\": \"Releases · langchain-ai/langgraph - GitHub\", \"url\": \"https://github.com/langchain-ai/langgraph/releases\", \"content\": \"Releases: langchain-ai/langgraph\\nReleases Tags\\nReleases · langchain-ai/langgraph\\n0.2.70\\n06 Feb 23:06\\n github-actions\\n0.2.70\\n0631f19\\nThis commit was created on GitHub.com and signed with GitHub’s verified signature.\\nGPG key ID: B5690EEEBB952194\\nVerified\\nLearn about vigilant mode.\\nCompare\\nChoose a tag to compare\\nCould not load tags\\nNothing to show\\n{{ refName }} default \\nLoading\\nView all tags\\n0.2.70 Latest\\nLatest\\nChanges since 0.2.69 [...] langgraph: release 0.2.68 (#3224)\\nfunctional api: remove generator support (#3220)\\nlanggraph: more unittests for functional API (#3221)\\nlanggraph: actually fix flaky test (#3219)\\nlanggraph: use 'prompt' param for model input preprocessing in create_react_agent (#3173)\\nlanggraph: fix flaky test (#3218)\\nlanggraph: handle task naming for reused class methods (#3216)\\nFix type hints for entrypoint decorator (#3198)\\nlanggraph: handle more callable types in tasks (#3203) [...] langgraph: release 0.2.67 (#3182)\\nlanggraph: update docstrings/api ref for functional api (#3176)\\nlanggraph: handle node return annotations with unions (#3170)\\nlanggraph: add support for BaseModel updates to Command (#2747)\\nMake scratchpad counters thread-safe (#3158)\\nAdd entrypoint.final to decouple return value from save value (#3135)\\nlanggraph: allow async state modifier in create_react_agent (#3161)\\nRemove write to RETURN channel for entrypoint func\", \"score\": 0.5852425922666666}, {\"title\": \"LangChain - Changelog\", \"url\": \"https://changelog.langchain.com/\", \"content\": \"LangGraph Functional API for LangGraph ---------------------------- LangGraph’s powerful state management— including short- & long-term memory, human-in-the-loop, and time travel — just got even more flexible. With the new... January 29, 2025 [...] LangGraph 🔁 Modify graph state from tools in LangGraph --------------------------------------------- LangGraph's latest update gives you greater control over your agents by enabling tools to directly update the graph state. This is a game-changer for use... December 18, 2024 [...] LangGraph Platform Custom authentication & access control for LangGraph Platform ------------------------------------------------------------- Today, we're thrilled to announce Custom Authentication and Resource-Level Access Control for Python deployments in LangGraph Cloud and self-hosted... December 20, 2024\", \"score\": 0.5286031603333333}]\n",
            "==================================\u001b[1m Ai Message \u001b[0m==================================\n",
            "Tool Calls:\n",
            "  human_assistance (call_1tKCtnkavUIgtURfGZJtbfQC)\n",
            " Call ID: call_1tKCtnkavUIgtURfGZJtbfQC\n",
            "  Args:\n",
            "    name: LangGraph\n",
            "    birthday: January 22, 2024\n"
          ]
        }
      ]
    },
    {
      "cell_type": "code",
      "source": [
        "# The chatbot generated a tool call, but then execution has been interrputed!\n",
        "# Note that if we inspect the graph state, we see that it stopped at the tools node:\n",
        "snapshot = graph.get_state(config)\n",
        "snapshot.next"
      ],
      "metadata": {
        "colab": {
          "base_uri": "https://localhost:8080/"
        },
        "id": "XZihiW-LZWwD",
        "outputId": "91fd3e7a-fda2-44a4-d55a-2ff58e181073"
      },
      "execution_count": 23,
      "outputs": [
        {
          "output_type": "execute_result",
          "data": {
            "text/plain": [
              "('tools',)"
            ]
          },
          "metadata": {},
          "execution_count": 23
        }
      ]
    },
    {
      "cell_type": "code",
      "source": [
        "# We've hit the `interrput` in the `huamn_assistance` tool again.\n",
        "# In this case, the chatbot failed to identify the correct date, so we can supply it:\n",
        "human_command = Command(\n",
        "    resume={\n",
        "        \"name\": \"LangGraph\",\n",
        "        \"birthday\": \"Jan 17, 2024\",\n",
        "    },\n",
        ")\n",
        "\n",
        "events = graph.stream(human_command, config, stream_mode=\"values\")\n",
        "for event in events:\n",
        "    if \"messages\" in event:\n",
        "        event[\"messages\"][-1].pretty_print()"
      ],
      "metadata": {
        "colab": {
          "base_uri": "https://localhost:8080/"
        },
        "id": "6OCT9kJvWl7n",
        "outputId": "7ed7eb61-ae74-49e2-c3b8-91be3497c65b"
      },
      "execution_count": 24,
      "outputs": [
        {
          "output_type": "stream",
          "name": "stdout",
          "text": [
            "==================================\u001b[1m Ai Message \u001b[0m==================================\n",
            "Tool Calls:\n",
            "  human_assistance (call_1tKCtnkavUIgtURfGZJtbfQC)\n",
            " Call ID: call_1tKCtnkavUIgtURfGZJtbfQC\n",
            "  Args:\n",
            "    name: LangGraph\n",
            "    birthday: January 22, 2024\n",
            "=================================\u001b[1m Tool Message \u001b[0m=================================\n",
            "Name: human_assistance\n",
            "\n",
            "Made a correction: {'name': 'LangGraph', 'birthday': 'Jan 17, 2024'}\n",
            "==================================\u001b[1m Ai Message \u001b[0m==================================\n",
            "\n",
            "LangGraph was released on January 17, 2024.\n"
          ]
        }
      ]
    },
    {
      "cell_type": "code",
      "source": [
        "# Note that these fields are now reflected in the state.\n",
        "# This makes them easily accessible to downstream nodes(e.g.., a node that further\n",
        "# processes or stores the information).\n",
        "snapshot = graph.get_state(config)\n",
        "{k : v for k,v in snapshot.values.items() if k in (\"name\", \"birthday\")}"
      ],
      "metadata": {
        "colab": {
          "base_uri": "https://localhost:8080/"
        },
        "id": "3qHGv7LiWo7i",
        "outputId": "8c6bc823-15dc-4bbf-fad5-0f0151360723"
      },
      "execution_count": 25,
      "outputs": [
        {
          "output_type": "execute_result",
          "data": {
            "text/plain": [
              "{'name': 'LangGraph', 'birthday': 'Jan 17, 2024'}"
            ]
          },
          "metadata": {},
          "execution_count": 25
        }
      ]
    },
    {
      "cell_type": "code",
      "source": [
        "###########################\n",
        "# Manually updating state #\n",
        "###########################\n",
        "\n",
        "# LangGraph gives a high degree of control over the application state.\n",
        "# For instance, at any point(including when iterrupted), we can manually override a key using `graph.update_state`:\n",
        "graph.update_state(config, {\"name\": \"LangGraph(library)\"})\n",
        "\n",
        "# If we call `graph.get_state`, we can see the new value is reflected:\n",
        "snapshot = graph.get_state(config)\n",
        "{k:v for k, v in snapshot.values.items() if k in (\"name\", \"birthday\")}"
      ],
      "metadata": {
        "colab": {
          "base_uri": "https://localhost:8080/"
        },
        "id": "EMbv0aTcWsv8",
        "outputId": "b4fcc8e8-4d57-4f9f-c213-1b07db9b1145"
      },
      "execution_count": 26,
      "outputs": [
        {
          "output_type": "execute_result",
          "data": {
            "text/plain": [
              "{'name': 'LangGraph(library)', 'birthday': 'Jan 17, 2024'}"
            ]
          },
          "metadata": {},
          "execution_count": 26
        }
      ]
    },
    {
      "cell_type": "markdown",
      "source": [
        "# Part 6: Time Travel"
      ],
      "metadata": {
        "id": "kmhBjtuPY507"
      }
    },
    {
      "cell_type": "code",
      "source": [
        "######################\n",
        "# Part6: Time Travle #\n",
        "######################\n",
        "\n",
        "# In a typical chat bot workflow, the user interacts with the bot 1 or more times\n",
        "# to accomplish a task. In the previous sections, we saw how to add memory and a\n",
        "# human-in-the-loop to be able to checkpoint our graph state and control future response.\n",
        "\n",
        "# 1.But whate if you want to let your user start from a previous response and\n",
        "# \"brach off\" to explore a separate outcome?\n",
        "# 2.Or what if you want users to be able to \"rewind\" your assistant's work\n",
        "# to fix some mistakes or try a different strategy(common in applications like autonomous software engineers?)\n",
        "\n",
        "# You can create both of these experiences and more using LangGraph's built-in \"time travel\" functionality.\n",
        "# In this section, you will \"rewind\" your graph by fetching a checkpoint using the graph's `get_state_history`\n",
        "# mehtod. You can then resume execution at this previous point in time.\n",
        "\n",
        "# For this, let's use the simple chatbot with tools from Part3:\n",
        "from typing import Annotated\n",
        "from langchain_community.tools.tavily_search import TavilySearchResults\n",
        "from langchain_core.messages import BaseMessage\n",
        "from typing_extensions import TypedDict\n",
        "from langgraph.checkpoint.memory import MemorySaver\n",
        "from langgraph.graph import StateGraph, START, END\n",
        "from langgraph.graph.message import add_messages\n",
        "from langgraph.prebuilt import ToolNode, tools_condition\n",
        "from langchain.chat_models import init_chat_model\n",
        "from google.colab import userdata\n",
        "import os\n",
        "\n",
        "class State(TypedDict):\n",
        "    messages: Annotated[list, add_messages]\n",
        "\n",
        "graph_builder = StateGraph(State)\n",
        "\n",
        "os.environ[\"TAVILY_API_KEY\"] = userdata.get('TAVILY_API_KEY')\n",
        "tool = TavilySearchResults(max_results=2)\n",
        "tools = [tool]\n",
        "\n",
        "llm = init_chat_model(\n",
        "    model=\"gpt-4o\",\n",
        "    model_provider=\"openai\",\n",
        "    openai_api_key=userdata.get('OPENAI_API_KEY'),\n",
        "    base_url=userdata.get('BASE_URL'),\n",
        ")\n",
        "llm_with_tools = llm.bind_tools(tools)\n",
        "\n",
        "\n",
        "def chatbot(state: State):\n",
        "    return {\"messages\": [llm_with_tools.invoke(state[\"messages\"])]}\n",
        "\n",
        "graph_builder.add_node(\"chatbot\", chatbot)\n",
        "tool_node = ToolNode(tools=[tool])\n",
        "graph_builder.add_node(\"tools\", tool_node)\n",
        "graph_builder.add_conditional_edges(\n",
        "    \"chatbot\",\n",
        "    tools_condition,\n",
        ")\n",
        "graph_builder.add_edge(\"tools\", \"chatbot\")\n",
        "graph_builder.add_edge(START, \"chatbot\")\n",
        "\n",
        "memory = MemorySaver()\n",
        "graph = graph_builder.compile(checkpointer=memory)"
      ],
      "metadata": {
        "id": "vfDYKsvWaxSn"
      },
      "execution_count": 53,
      "outputs": []
    },
    {
      "cell_type": "code",
      "source": [
        "from IPython.display import Image, display\n",
        "\n",
        "try:\n",
        "    display(Image(graph.get_graph().draw_mermaid_png()))\n",
        "except Exception:\n",
        "    # This requires some extra dependencies and is optional\n",
        "    pass"
      ],
      "metadata": {
        "colab": {
          "base_uri": "https://localhost:8080/",
          "height": 266
        },
        "id": "RE1F4frOfNW7",
        "outputId": "30ac0391-308e-4e15-a14f-48fbdb8848d3"
      },
      "execution_count": 60,
      "outputs": [
        {
          "output_type": "display_data",
          "data": {
            "image/png": "[encoded data removed]",
            "text/plain": [
              "<IPython.core.display.Image object>"
            ]
          },
          "metadata": {}
        }
      ]
    },
    {
      "cell_type": "code",
      "source": [
        "# Let's have our graph take a couple steps.\n",
        "# Every step will be ceckpointed in its state hisotry:\n",
        "config = {\"configurable\": {\"thread_id\": \"88888888\"}}\n",
        "events = graph.stream(\n",
        "    {\n",
        "        \"messages\": [{\n",
        "            \"role\": \"user\",\n",
        "            \"content\": (\"I'm learning LangGraph framework, Could you do some research on it for me?\"),\n",
        "        },],\n",
        "    },\n",
        "    config,\n",
        "    stream_mode = \"values\"\n",
        ")\n",
        "for event in events:\n",
        "    if \"messages\" in event:\n",
        "        event[\"messages\"][-1].pretty_print()"
      ],
      "metadata": {
        "colab": {
          "base_uri": "https://localhost:8080/"
        },
        "id": "dWBYmiiZbLO6",
        "outputId": "fde02ef4-1c29-4d83-b844-a7e4669481cb"
      },
      "execution_count": 54,
      "outputs": [
        {
          "output_type": "stream",
          "name": "stdout",
          "text": [
            "================================\u001b[1m Human Message \u001b[0m=================================\n",
            "\n",
            "I'm learning LangGraph framework, Could you do some research on it for me?\n",
            "==================================\u001b[1m Ai Message \u001b[0m==================================\n",
            "Tool Calls:\n",
            "  tavily_search_results_json (call_35SawtST3lf3CKcSkvOFsgdi)\n",
            " Call ID: call_35SawtST3lf3CKcSkvOFsgdi\n",
            "  Args:\n",
            "    query: LangGraph framework\n",
            "=================================\u001b[1m Tool Message \u001b[0m=================================\n",
            "Name: tavily_search_results_json\n",
            "\n",
            "[{\"title\": \"What Is LangGraph and How to Use It? - DataCamp\", \"url\": \"https://www.datacamp.com/tutorial/langgraph-tutorial\", \"content\": \"Imagine you're building a complex, multi-agent large language model (LLM) application. It's exciting, but it comes with challenges: managing the state of various agents, coordinating their interactions, and handling errors effectively. This is where LangGraph can help.\\nLangGraph is a library within the LangChain ecosystem designed to tackle these challenges head-on. LangGraph provides a framework for defining, coordinating, and executing multiple LLM agents (or chains) in a structured manner. [...] For applications requiring autonomous decision-making, LangGraph enables the creation of agents that can perform tasks independently based on user inputs and predefined logic.\\nThese agents can execute complex workflows, interact with other systems, and adapt to new information dynamically. LangGraph's structured framework ensures that each agent operates efficiently and effectively, making it suitable for tasks like automated customer support, data processing, and system monitoring. [...] Home\\nTutorials\\nArtificial Intelligence\\n\\nLangGraph Tutorial: What Is LangGraph and How to Use It?\\nLangGraph is a library within the LangChain ecosystem that provides a framework for defining, coordinating, and executing multiple LLM agents (or chains) in a structured and efficient manner.\\nJun 26, 2024  · 12 min read\\nShare\", \"score\": 0.8782469533566163}, {\"title\": \"Complete Guide to Building LangChain Agents with the LangGraph ...\", \"url\": \"https://www.getzep.com/ai-agents/langchain-agents-langgraph\", \"content\": \"On the other hand, LangGraph offers a flexible framework for building stateful applications. It handles complex scenarios involving multiple agents and facilitates human-agent collaboration with features like built-in statefulness, Human-in-the-loop Workflows and first-class streaming support.\", \"score\": 0.8641707956926659}]\n",
            "==================================\u001b[1m Ai Message \u001b[0m==================================\n",
            "\n",
            "LangGraph is a library within the LangChain ecosystem designed to manage and execute multiple large language model (LLM) agents in a structured and efficient manner. It is particularly useful for building complex, multi-agent LLM applications, addressing challenges like managing agent states, coordinating interactions, and handling errors effectively.\n",
            "\n",
            "Here are some key features and aspects of LangGraph:\n",
            "\n",
            "1. **Structured Framework**: LangGraph provides a framework to define, coordinate, and execute multiple LLM agents, allowing them to perform tasks autonomously based on user inputs and predefined logic.\n",
            "\n",
            "2. **Complex Workflows**: Agents in LangGraph can execute complex workflows and adapt to new information dynamically, making it suitable for applications like automated customer support, data processing, and system monitoring.\n",
            "\n",
            "3. **Stateful Applications**: LangGraph is designed to handle complex scenarios involving multiple agents, facilitating human-agent collaboration with built-in statefulness and human-in-the-loop workflows.\n",
            "\n",
            "4. **Streaming Support**: The framework offers first-class streaming support, which enhances its capability to handle dynamic and real-time data interactions.\n",
            "\n",
            "For more in-depth information, you can explore resources like [this tutorial on DataCamp](https://www.datacamp.com/tutorial/langgraph-tutorial) or [this guide on building LangChain agents with LangGraph](https://www.getzep.com/ai-agents/langchain-agents-langgraph).\n"
          ]
        }
      ]
    },
    {
      "cell_type": "code",
      "source": [
        "# Second conversation...\n",
        "events = graph.stream(\n",
        "    {\n",
        "        \"messages\": [\n",
        "            {\n",
        "                \"role\": \"user\",\n",
        "                \"content\": (\"Ya that's helpful. I want to build the agent wit it, Could you do some research on it for me?\"),\n",
        "            },\n",
        "        ],\n",
        "    },\n",
        "    config,\n",
        "    stream_mode=\"values\",\n",
        ")\n",
        "for event in events:\n",
        "    if \"messages\" in event:\n",
        "        event[\"messages\"][-1].pretty_print()"
      ],
      "metadata": {
        "colab": {
          "base_uri": "https://localhost:8080/"
        },
        "id": "Nfoz_7Lqbm0u",
        "outputId": "75ad65e5-7c23-44ed-a0f9-bf8e49ea4291"
      },
      "execution_count": 55,
      "outputs": [
        {
          "output_type": "stream",
          "name": "stdout",
          "text": [
            "================================\u001b[1m Human Message \u001b[0m=================================\n",
            "\n",
            "Ya that's helpful. I want to build the agent wit it, Could you do some research on it for me?\n",
            "==================================\u001b[1m Ai Message \u001b[0m==================================\n",
            "Tool Calls:\n",
            "  tavily_search_results_json (call_fh5zgMNzfSOOEe0YWqBJqXHi)\n",
            " Call ID: call_fh5zgMNzfSOOEe0YWqBJqXHi\n",
            "  Args:\n",
            "    query: Build agent with LangGraph framework\n",
            "=================================\u001b[1m Tool Message \u001b[0m=================================\n",
            "Name: tavily_search_results_json\n",
            "\n",
            "[{\"title\": \"LangGraph Tutorial: Building LLM Agents with LangChain's ... - Zep\", \"url\": \"https://www.getzep.com/ai-agents/langgraph-tutorial\", \"content\": \"| Guidelines for building LangGraph agents | LangGraph overcomes LangChain's limitations and is the recommended framework for building agentic architectures. You can integrate tools into your AI agents to provide functionality or fetch information that an LLM agent does not provide. Memory is integral to building production-ready AI agents, and third-party SDKs like Zep simplify adding long-term capabilities. |\\nWhat is LangGraph? [...] LangGraph is an AI agent framework built on LangChain that allows developers to create more sophisticated and flexible agent workflows. Unlike traditional LangChain chains and agents, LangGraph implements agent interactions as cyclic graphs with multiple-step processing involving branching and loops. This eliminates the need to implement custom logic to control the flow of information between multiple agents in the workflow.\\nHow LangGraph works [...] | Building a LangGraph agent | Creating a LangGraph agent is the best way to understand the core concepts of nodes, edges, and state. The LangGraph Python libraries are modular and provide the functionality to build a stateful graph by incrementally adding nodes and edges.\\nIncorporating tools enables an agent to perform specific tasks and access external information. For example, the ArXiv tool wrapper can return content from research papers.\", \"score\": 0.8757473820074907}, {\"title\": \"AI Agents in LangGraph - DeepLearning.AI\", \"url\": \"https://www.deeplearning.ai/short-courses/ai-agents-in-langgraph/\", \"content\": \"About this course\\nLangChain, a popular open source framework for building LLM applications, recently introduced LangGraph. This extension allows developers to create highly controllable agents.\\nIn this course you will learn to build an agent from scratch using Python and an LLM, and then you will rebuild it using LangGraph, learning about  its components and how to combine them to build flow-based applications. [...] Start building more controllable agents using LangGraph!\\nWho should join?\\nIf you have intermediate Python knowledge and want to learn how to create more controllable agents using the LangGraph open source framework, this course is for you.\\nCourse Outline\\n9 Lessons・6 Code Examples\\n\\n\\nIntroduction\\nVideo・5 mins\\n\\n\\nBuild an Agent from Scratch\\nVideo with code examples・12 mins\\n\\n\\nLangGraph Components\\nVideo with code examples・19 mins\\n\\n\\nAgentic Search Tools\\nVideo with code examples・5 mins\", \"score\": 0.8519269309662921}]\n",
            "==================================\u001b[1m Ai Message \u001b[0m==================================\n",
            "\n",
            "Building an agent with the LangGraph framework involves utilizing its capabilities to create complex, multi-step processing workflows. Here are some essential insights and guidelines to help you get started:\n",
            "\n",
            "1. **Framework Overview**: LangGraph is built on the LangChain ecosystem and introduces agent interactions as cyclic graphs, allowing for multiple-step processing with branching and loops. This design removes the need for custom logic to manage the flow of information between agents.\n",
            "\n",
            "2. **Core Concepts**:\n",
            "   - **Nodes and Edges**: These are fundamental components of LangGraph, representing the state and connections within your agent's workflow.\n",
            "   - **Statefulness**: LangGraph provides a modular approach to building a stateful graph by incrementally adding nodes and edges which define the logic and flow of your agent's operations.\n",
            "   - **Tools Integration**: You can incorporate various tools into your agents to enable them to perform specific tasks and access external data, such as using a wrapper to fetch content from online research papers.\n",
            "\n",
            "3. **Building Process**:\n",
            "   - Start by understanding the core mechanics of nodes, edges, and state within the LangGraph framework.\n",
            "   - Develop agentic architectures by integrating necessary tools for your agent to interact with external information sources.\n",
            "   - Leverage LangGraph's modular Python libraries to incrementally build and refine your agent.\n",
            "\n",
            "4. **Educational Resources**: To gain more practical insights and examples on creating agents with LangGraph, you might find these resources helpful:\n",
            "   - [LangGraph Tutorial on GetZep](https://www.getzep.com/ai-agents/langgraph-tutorial)\n",
            "   - [AI Agents in LangGraph course on DeepLearning.AI](https://www.deeplearning.ai/short-courses/ai-agents-in-langgraph/)\n",
            "\n",
            "These resources and frameworks should provide you with a solid foundation for developing advanced and flexible agents using LangGraph.\n"
          ]
        }
      ]
    },
    {
      "cell_type": "code",
      "source": [
        "# Now that we're had the agent take a couple steps,\n",
        "# we can `replay` the full state history to see everything that occurred.\n",
        "to_replay = None\n",
        "for state in graph.get_state_history(config):\n",
        "    print(\"Num Messages: \", len(state.values[\"messages\"]), \"Next:\", state.next)\n",
        "    print(\"-\" * 80)\n",
        "    if len(state.values[\"messages\"]) == 6:\n",
        "        # We are somewhat arbitrarily selecting a specific state based on the\n",
        "        # number of chat messages in the state.\n",
        "        to_replay = state\n",
        "\n",
        "# Notice that checkpoints are saved for every step of the graph.\n",
        "# This spans invocations so you can rewind across a full thread's history."
      ],
      "metadata": {
        "colab": {
          "base_uri": "https://localhost:8080/"
        },
        "id": "4AH5zS_8b3t9",
        "outputId": "1d37c5d3-dff6-4913-f441-2078d760532c"
      },
      "execution_count": 56,
      "outputs": [
        {
          "output_type": "stream",
          "name": "stdout",
          "text": [
            "Num Messages:  8 Next: ()\n",
            "--------------------------------------------------------------------------------\n",
            "Num Messages:  7 Next: ('chatbot',)\n",
            "--------------------------------------------------------------------------------\n",
            "Num Messages:  6 Next: ('tools',)\n",
            "--------------------------------------------------------------------------------\n",
            "Num Messages:  5 Next: ('chatbot',)\n",
            "--------------------------------------------------------------------------------\n",
            "Num Messages:  4 Next: ('__start__',)\n",
            "--------------------------------------------------------------------------------\n",
            "Num Messages:  4 Next: ()\n",
            "--------------------------------------------------------------------------------\n",
            "Num Messages:  3 Next: ('chatbot',)\n",
            "--------------------------------------------------------------------------------\n",
            "Num Messages:  2 Next: ('tools',)\n",
            "--------------------------------------------------------------------------------\n",
            "Num Messages:  1 Next: ('chatbot',)\n",
            "--------------------------------------------------------------------------------\n",
            "Num Messages:  0 Next: ('__start__',)\n",
            "--------------------------------------------------------------------------------\n"
          ]
        }
      ]
    },
    {
      "cell_type": "code",
      "source": [
        "# Resuming from this point should call the action node next.\n",
        "print(to_replay.next)\n",
        "print(to_replay.config)"
      ],
      "metadata": {
        "colab": {
          "base_uri": "https://localhost:8080/"
        },
        "id": "Q4L0Va9wb_JL",
        "outputId": "d18525c0-8836-4d36-d310-0f164cdf4fe8"
      },
      "execution_count": 57,
      "outputs": [
        {
          "output_type": "stream",
          "name": "stdout",
          "text": [
            "('tools',)\n",
            "{'configurable': {'thread_id': '88888888', 'checkpoint_ns': '', 'checkpoint_id': '1f003fe4-b984-62b7-8006-0f450da30bf9'}}\n"
          ]
        }
      ]
    },
    {
      "cell_type": "code",
      "source": [
        "# Notice that the checkpoint's config(`to_replay.config`) contains a `checkpoint_id`\n",
        "# timestamp. Providing this `checkpoint_id` value tells LangGraph's checkpointer to\n",
        "# load the state from that moment in time. Let's try it below:\n",
        "\n",
        "# The `checkpoint_id` in the `to_replay.config` corresponds to a state we've persisted\n",
        "# to our checkpointer.\n",
        "for event in graph.stream(None, to_replay.config, stream_mode=\"values\"):\n",
        "    if \"messages\" in event:\n",
        "        event[\"messages\"][-1].pretty_print()"
      ],
      "metadata": {
        "colab": {
          "base_uri": "https://localhost:8080/"
        },
        "id": "EXTBqRpdarJY",
        "outputId": "1a7cfeb6-019f-44ec-c72d-020b68701d0b"
      },
      "execution_count": 58,
      "outputs": [
        {
          "output_type": "stream",
          "name": "stdout",
          "text": [
            "==================================\u001b[1m Ai Message \u001b[0m==================================\n",
            "Tool Calls:\n",
            "  tavily_search_results_json (call_fh5zgMNzfSOOEe0YWqBJqXHi)\n",
            " Call ID: call_fh5zgMNzfSOOEe0YWqBJqXHi\n",
            "  Args:\n",
            "    query: Build agent with LangGraph framework\n",
            "=================================\u001b[1m Tool Message \u001b[0m=================================\n",
            "Name: tavily_search_results_json\n",
            "\n",
            "[{\"title\": \"LangGraph Tutorial: Building LLM Agents with LangChain's ... - Zep\", \"url\": \"https://www.getzep.com/ai-agents/langgraph-tutorial\", \"content\": \"| Guidelines for building LangGraph agents | LangGraph overcomes LangChain's limitations and is the recommended framework for building agentic architectures. You can integrate tools into your AI agents to provide functionality or fetch information that an LLM agent does not provide. Memory is integral to building production-ready AI agents, and third-party SDKs like Zep simplify adding long-term capabilities. |\\nWhat is LangGraph? [...] LangGraph is an AI agent framework built on LangChain that allows developers to create more sophisticated and flexible agent workflows. Unlike traditional LangChain chains and agents, LangGraph implements agent interactions as cyclic graphs with multiple-step processing involving branching and loops. This eliminates the need to implement custom logic to control the flow of information between multiple agents in the workflow.\\nHow LangGraph works [...] | Building a LangGraph agent | Creating a LangGraph agent is the best way to understand the core concepts of nodes, edges, and state. The LangGraph Python libraries are modular and provide the functionality to build a stateful graph by incrementally adding nodes and edges.\\nIncorporating tools enables an agent to perform specific tasks and access external information. For example, the ArXiv tool wrapper can return content from research papers.\", \"score\": 0.8757473820074907}, {\"title\": \"AI Agents in LangGraph - DeepLearning.AI\", \"url\": \"https://www.deeplearning.ai/short-courses/ai-agents-in-langgraph/\", \"content\": \"About this course\\nLangChain, a popular open source framework for building LLM applications, recently introduced LangGraph. This extension allows developers to create highly controllable agents.\\nIn this course you will learn to build an agent from scratch using Python and an LLM, and then you will rebuild it using LangGraph, learning about  its components and how to combine them to build flow-based applications. [...] Start building more controllable agents using LangGraph!\\nWho should join?\\nIf you have intermediate Python knowledge and want to learn how to create more controllable agents using the LangGraph open source framework, this course is for you.\\nCourse Outline\\n9 Lessons・6 Code Examples\\n\\n\\nIntroduction\\nVideo・5 mins\\n\\n\\nBuild an Agent from Scratch\\nVideo with code examples・12 mins\\n\\n\\nLangGraph Components\\nVideo with code examples・19 mins\\n\\n\\nAgentic Search Tools\\nVideo with code examples・5 mins\", \"score\": 0.8519269309662921}]\n",
            "==================================\u001b[1m Ai Message \u001b[0m==================================\n",
            "\n",
            "Building an agent using the LangGraph framework involves understanding its structure and utilizing its components effectively. Here are some key points to consider when creating an agent with LangGraph:\n",
            "\n",
            "1. **Cyclic Graph Architecture**: LangGraph implements agent interactions as cyclic graphs. This architecture allows for multiple-step processing involving branching and loops, eliminating the need to implement custom logic to control the flow. This setup is particularly advantageous for workflows that require dynamic decision-making and iterative processes.\n",
            "\n",
            "2. **Core Concepts**: To build a LangGraph agent, it's essential to grasp the concepts of nodes, edges, and state. The modular Python libraries of LangGraph help in constructing a stateful graph by incrementally adding nodes and edges.\n",
            "\n",
            "3. **Incorporating Tools**: By integrating various tools, you can enhance an agent's capabilities. For example, you can enable agents to perform specific tasks or access external information using third-party SDKs or tool wrappers like the ArXiv tool wrapper for accessing research paper content.\n",
            "\n",
            "4. **Memory and Long-term Capabilities**: Memory is crucial for building production-ready AI agents. Third-party SDKs such as Zep can simplify the process of adding long-term memory capabilities, aiding in the development of agents with persistent knowledge and experience retention.\n",
            "\n",
            "5. **Learning Resources**: Courses such as those offered by DeepLearning.AI provide structured learning pathways. For instance, they teach you to build an agent from scratch and transition it into a LangGraph-based agent, covering components and the creation of flow-based applications.\n",
            "\n",
            "For further guidance and implementation details, you can refer to [this tutorial](https://www.getzep.com/ai-agents/langgraph-tutorial) and the [DeepLearning.AI course](https://www.deeplearning.ai/short-courses/ai-agents-in-langgraph/).\n"
          ]
        }
      ]
    }
  ]
}