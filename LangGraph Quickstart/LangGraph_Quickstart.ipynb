{
  "nbformat": 4,
  "nbformat_minor": 0,
  "metadata": {
    "colab": {
      "provenance": [],
      "toc_visible": true
    },
    "kernelspec": {
      "name": "python3",
      "display_name": "Python 3"
    },
    "language_info": {
      "name": "python"
    }
  },
  "cells": [
    {
      "cell_type": "markdown",
      "source": [
        "# Installation"
      ],
      "metadata": {
        "id": "Y-gB8ut9YR4Y"
      }
    },
    {
      "cell_type": "code",
      "execution_count": 2,
      "metadata": {
        "id": "czBqZ9HfWPAV",
        "colab": {
          "base_uri": "https://localhost:8080/"
        },
        "outputId": "a4d7d12a-c701-4676-8698-05f0dfdb9cc2"
      },
      "outputs": [
        {
          "output_type": "stream",
          "name": "stdout",
          "text": [
            "Collecting langgraph\n",
            "  Downloading langgraph-0.3.11-py3-none-any.whl.metadata (7.5 kB)\n",
            "Collecting langchain-openai\n",
            "  Downloading langchain_openai-0.3.8-py3-none-any.whl.metadata (2.3 kB)\n",
            "Collecting langchain_community\n",
            "  Downloading langchain_community-0.3.19-py3-none-any.whl.metadata (2.4 kB)\n",
            "Requirement already satisfied: langchain-core<0.4,>=0.1 in /usr/local/lib/python3.11/dist-packages (from langgraph) (0.3.44)\n",
            "Collecting langgraph-checkpoint<3.0.0,>=2.0.10 (from langgraph)\n",
            "  Downloading langgraph_checkpoint-2.0.20-py3-none-any.whl.metadata (4.6 kB)\n",
            "Collecting langgraph-prebuilt<0.2,>=0.1.1 (from langgraph)\n",
            "  Downloading langgraph_prebuilt-0.1.3-py3-none-any.whl.metadata (5.0 kB)\n",
            "Collecting langgraph-sdk<0.2.0,>=0.1.42 (from langgraph)\n",
            "  Downloading langgraph_sdk-0.1.57-py3-none-any.whl.metadata (1.8 kB)\n",
            "Requirement already satisfied: openai<2.0.0,>=1.58.1 in /usr/local/lib/python3.11/dist-packages (from langchain-openai) (1.61.1)\n",
            "Collecting tiktoken<1,>=0.7 (from langchain-openai)\n",
            "  Downloading tiktoken-0.9.0-cp311-cp311-manylinux_2_17_x86_64.manylinux2014_x86_64.whl.metadata (6.7 kB)\n",
            "Requirement already satisfied: langchain<1.0.0,>=0.3.20 in /usr/local/lib/python3.11/dist-packages (from langchain_community) (0.3.20)\n",
            "Requirement already satisfied: SQLAlchemy<3,>=1.4 in /usr/local/lib/python3.11/dist-packages (from langchain_community) (2.0.39)\n",
            "Requirement already satisfied: requests<3,>=2 in /usr/local/lib/python3.11/dist-packages (from langchain_community) (2.32.3)\n",
            "Requirement already satisfied: PyYAML>=5.3 in /usr/local/lib/python3.11/dist-packages (from langchain_community) (6.0.2)\n",
            "Requirement already satisfied: aiohttp<4.0.0,>=3.8.3 in /usr/local/lib/python3.11/dist-packages (from langchain_community) (3.11.13)\n",
            "Requirement already satisfied: tenacity!=8.4.0,<10,>=8.1.0 in /usr/local/lib/python3.11/dist-packages (from langchain_community) (9.0.0)\n",
            "Collecting dataclasses-json<0.7,>=0.5.7 (from langchain_community)\n",
            "  Downloading dataclasses_json-0.6.7-py3-none-any.whl.metadata (25 kB)\n",
            "Collecting pydantic-settings<3.0.0,>=2.4.0 (from langchain_community)\n",
            "  Downloading pydantic_settings-2.8.1-py3-none-any.whl.metadata (3.5 kB)\n",
            "Requirement already satisfied: langsmith<0.4,>=0.1.125 in /usr/local/lib/python3.11/dist-packages (from langchain_community) (0.3.13)\n",
            "Collecting httpx-sse<1.0.0,>=0.4.0 (from langchain_community)\n",
            "  Downloading httpx_sse-0.4.0-py3-none-any.whl.metadata (9.0 kB)\n",
            "Requirement already satisfied: numpy<3,>=1.26.2 in /usr/local/lib/python3.11/dist-packages (from langchain_community) (1.26.4)\n",
            "Requirement already satisfied: aiohappyeyeballs>=2.3.0 in /usr/local/lib/python3.11/dist-packages (from aiohttp<4.0.0,>=3.8.3->langchain_community) (2.6.1)\n",
            "Requirement already satisfied: aiosignal>=1.1.2 in /usr/local/lib/python3.11/dist-packages (from aiohttp<4.0.0,>=3.8.3->langchain_community) (1.3.2)\n",
            "Requirement already satisfied: attrs>=17.3.0 in /usr/local/lib/python3.11/dist-packages (from aiohttp<4.0.0,>=3.8.3->langchain_community) (25.2.0)\n",
            "Requirement already satisfied: frozenlist>=1.1.1 in /usr/local/lib/python3.11/dist-packages (from aiohttp<4.0.0,>=3.8.3->langchain_community) (1.5.0)\n",
            "Requirement already satisfied: multidict<7.0,>=4.5 in /usr/local/lib/python3.11/dist-packages (from aiohttp<4.0.0,>=3.8.3->langchain_community) (6.1.0)\n",
            "Requirement already satisfied: propcache>=0.2.0 in /usr/local/lib/python3.11/dist-packages (from aiohttp<4.0.0,>=3.8.3->langchain_community) (0.3.0)\n",
            "Requirement already satisfied: yarl<2.0,>=1.17.0 in /usr/local/lib/python3.11/dist-packages (from aiohttp<4.0.0,>=3.8.3->langchain_community) (1.18.3)\n",
            "Collecting marshmallow<4.0.0,>=3.18.0 (from dataclasses-json<0.7,>=0.5.7->langchain_community)\n",
            "  Downloading marshmallow-3.26.1-py3-none-any.whl.metadata (7.3 kB)\n",
            "Collecting typing-inspect<1,>=0.4.0 (from dataclasses-json<0.7,>=0.5.7->langchain_community)\n",
            "  Downloading typing_inspect-0.9.0-py3-none-any.whl.metadata (1.5 kB)\n",
            "Requirement already satisfied: langchain-text-splitters<1.0.0,>=0.3.6 in /usr/local/lib/python3.11/dist-packages (from langchain<1.0.0,>=0.3.20->langchain_community) (0.3.6)\n",
            "Requirement already satisfied: pydantic<3.0.0,>=2.7.4 in /usr/local/lib/python3.11/dist-packages (from langchain<1.0.0,>=0.3.20->langchain_community) (2.10.6)\n",
            "Requirement already satisfied: jsonpatch<2.0,>=1.33 in /usr/local/lib/python3.11/dist-packages (from langchain-core<0.4,>=0.1->langgraph) (1.33)\n",
            "Requirement already satisfied: packaging<25,>=23.2 in /usr/local/lib/python3.11/dist-packages (from langchain-core<0.4,>=0.1->langgraph) (24.2)\n",
            "Requirement already satisfied: typing-extensions>=4.7 in /usr/local/lib/python3.11/dist-packages (from langchain-core<0.4,>=0.1->langgraph) (4.12.2)\n",
            "Requirement already satisfied: msgpack<2.0.0,>=1.1.0 in /usr/local/lib/python3.11/dist-packages (from langgraph-checkpoint<3.0.0,>=2.0.10->langgraph) (1.1.0)\n",
            "Requirement already satisfied: httpx>=0.25.2 in /usr/local/lib/python3.11/dist-packages (from langgraph-sdk<0.2.0,>=0.1.42->langgraph) (0.28.1)\n",
            "Requirement already satisfied: orjson>=3.10.1 in /usr/local/lib/python3.11/dist-packages (from langgraph-sdk<0.2.0,>=0.1.42->langgraph) (3.10.15)\n",
            "Requirement already satisfied: requests-toolbelt<2.0.0,>=1.0.0 in /usr/local/lib/python3.11/dist-packages (from langsmith<0.4,>=0.1.125->langchain_community) (1.0.0)\n",
            "Requirement already satisfied: zstandard<0.24.0,>=0.23.0 in /usr/local/lib/python3.11/dist-packages (from langsmith<0.4,>=0.1.125->langchain_community) (0.23.0)\n",
            "Requirement already satisfied: anyio<5,>=3.5.0 in /usr/local/lib/python3.11/dist-packages (from openai<2.0.0,>=1.58.1->langchain-openai) (3.7.1)\n",
            "Requirement already satisfied: distro<2,>=1.7.0 in /usr/local/lib/python3.11/dist-packages (from openai<2.0.0,>=1.58.1->langchain-openai) (1.9.0)\n",
            "Requirement already satisfied: jiter<1,>=0.4.0 in /usr/local/lib/python3.11/dist-packages (from openai<2.0.0,>=1.58.1->langchain-openai) (0.9.0)\n",
            "Requirement already satisfied: sniffio in /usr/local/lib/python3.11/dist-packages (from openai<2.0.0,>=1.58.1->langchain-openai) (1.3.1)\n",
            "Requirement already satisfied: tqdm>4 in /usr/local/lib/python3.11/dist-packages (from openai<2.0.0,>=1.58.1->langchain-openai) (4.67.1)\n",
            "Collecting python-dotenv>=0.21.0 (from pydantic-settings<3.0.0,>=2.4.0->langchain_community)\n",
            "  Downloading python_dotenv-1.0.1-py3-none-any.whl.metadata (23 kB)\n",
            "Requirement already satisfied: charset-normalizer<4,>=2 in /usr/local/lib/python3.11/dist-packages (from requests<3,>=2->langchain_community) (3.4.1)\n",
            "Requirement already satisfied: idna<4,>=2.5 in /usr/local/lib/python3.11/dist-packages (from requests<3,>=2->langchain_community) (3.10)\n",
            "Requirement already satisfied: urllib3<3,>=1.21.1 in /usr/local/lib/python3.11/dist-packages (from requests<3,>=2->langchain_community) (2.3.0)\n",
            "Requirement already satisfied: certifi>=2017.4.17 in /usr/local/lib/python3.11/dist-packages (from requests<3,>=2->langchain_community) (2025.1.31)\n",
            "Requirement already satisfied: greenlet!=0.4.17 in /usr/local/lib/python3.11/dist-packages (from SQLAlchemy<3,>=1.4->langchain_community) (3.1.1)\n",
            "Requirement already satisfied: regex>=2022.1.18 in /usr/local/lib/python3.11/dist-packages (from tiktoken<1,>=0.7->langchain-openai) (2024.11.6)\n",
            "Requirement already satisfied: httpcore==1.* in /usr/local/lib/python3.11/dist-packages (from httpx>=0.25.2->langgraph-sdk<0.2.0,>=0.1.42->langgraph) (1.0.7)\n",
            "Requirement already satisfied: h11<0.15,>=0.13 in /usr/local/lib/python3.11/dist-packages (from httpcore==1.*->httpx>=0.25.2->langgraph-sdk<0.2.0,>=0.1.42->langgraph) (0.14.0)\n",
            "Requirement already satisfied: jsonpointer>=1.9 in /usr/local/lib/python3.11/dist-packages (from jsonpatch<2.0,>=1.33->langchain-core<0.4,>=0.1->langgraph) (3.0.0)\n",
            "Requirement already satisfied: annotated-types>=0.6.0 in /usr/local/lib/python3.11/dist-packages (from pydantic<3.0.0,>=2.7.4->langchain<1.0.0,>=0.3.20->langchain_community) (0.7.0)\n",
            "Requirement already satisfied: pydantic-core==2.27.2 in /usr/local/lib/python3.11/dist-packages (from pydantic<3.0.0,>=2.7.4->langchain<1.0.0,>=0.3.20->langchain_community) (2.27.2)\n",
            "Collecting mypy-extensions>=0.3.0 (from typing-inspect<1,>=0.4.0->dataclasses-json<0.7,>=0.5.7->langchain_community)\n",
            "  Downloading mypy_extensions-1.0.0-py3-none-any.whl.metadata (1.1 kB)\n",
            "Downloading langgraph-0.3.11-py3-none-any.whl (132 kB)\n",
            "\u001b[2K   \u001b[90m━━━━━━━━━━━━━━━━━━━━━━━━━━━━━━━━━━━━━━━━\u001b[0m \u001b[32m132.5/132.5 kB\u001b[0m \u001b[31m5.2 MB/s\u001b[0m eta \u001b[36m0:00:00\u001b[0m\n",
            "\u001b[?25hDownloading langchain_openai-0.3.8-py3-none-any.whl (55 kB)\n",
            "\u001b[2K   \u001b[90m━━━━━━━━━━━━━━━━━━━━━━━━━━━━━━━━━━━━━━━━\u001b[0m \u001b[32m55.4/55.4 kB\u001b[0m \u001b[31m3.0 MB/s\u001b[0m eta \u001b[36m0:00:00\u001b[0m\n",
            "\u001b[?25hDownloading langchain_community-0.3.19-py3-none-any.whl (2.5 MB)\n",
            "\u001b[2K   \u001b[90m━━━━━━━━━━━━━━━━━━━━━━━━━━━━━━━━━━━━━━━━\u001b[0m \u001b[32m2.5/2.5 MB\u001b[0m \u001b[31m28.3 MB/s\u001b[0m eta \u001b[36m0:00:00\u001b[0m\n",
            "\u001b[?25hDownloading dataclasses_json-0.6.7-py3-none-any.whl (28 kB)\n",
            "Downloading httpx_sse-0.4.0-py3-none-any.whl (7.8 kB)\n",
            "Downloading langgraph_checkpoint-2.0.20-py3-none-any.whl (39 kB)\n",
            "Downloading langgraph_prebuilt-0.1.3-py3-none-any.whl (24 kB)\n",
            "Downloading langgraph_sdk-0.1.57-py3-none-any.whl (46 kB)\n",
            "\u001b[2K   \u001b[90m━━━━━━━━━━━━━━━━━━━━━━━━━━━━━━━━━━━━━━━━\u001b[0m \u001b[32m46.0/46.0 kB\u001b[0m \u001b[31m2.2 MB/s\u001b[0m eta \u001b[36m0:00:00\u001b[0m\n",
            "\u001b[?25hDownloading pydantic_settings-2.8.1-py3-none-any.whl (30 kB)\n",
            "Downloading tiktoken-0.9.0-cp311-cp311-manylinux_2_17_x86_64.manylinux2014_x86_64.whl (1.2 MB)\n",
            "\u001b[2K   \u001b[90m━━━━━━━━━━━━━━━━━━━━━━━━━━━━━━━━━━━━━━━━\u001b[0m \u001b[32m1.2/1.2 MB\u001b[0m \u001b[31m11.9 MB/s\u001b[0m eta \u001b[36m0:00:00\u001b[0m\n",
            "\u001b[?25hDownloading marshmallow-3.26.1-py3-none-any.whl (50 kB)\n",
            "\u001b[2K   \u001b[90m━━━━━━━━━━━━━━━━━━━━━━━━━━━━━━━━━━━━━━━━\u001b[0m \u001b[32m50.9/50.9 kB\u001b[0m \u001b[31m1.6 MB/s\u001b[0m eta \u001b[36m0:00:00\u001b[0m\n",
            "\u001b[?25hDownloading python_dotenv-1.0.1-py3-none-any.whl (19 kB)\n",
            "Downloading typing_inspect-0.9.0-py3-none-any.whl (8.8 kB)\n",
            "Downloading mypy_extensions-1.0.0-py3-none-any.whl (4.7 kB)\n",
            "Installing collected packages: python-dotenv, mypy-extensions, marshmallow, httpx-sse, typing-inspect, tiktoken, pydantic-settings, langgraph-sdk, dataclasses-json, langgraph-checkpoint, langchain-openai, langgraph-prebuilt, langgraph, langchain_community\n",
            "Successfully installed dataclasses-json-0.6.7 httpx-sse-0.4.0 langchain-openai-0.3.8 langchain_community-0.3.19 langgraph-0.3.11 langgraph-checkpoint-2.0.20 langgraph-prebuilt-0.1.3 langgraph-sdk-0.1.57 marshmallow-3.26.1 mypy-extensions-1.0.0 pydantic-settings-2.8.1 python-dotenv-1.0.1 tiktoken-0.9.0 typing-inspect-0.9.0\n"
          ]
        }
      ],
      "source": [
        "!pip install -U langgraph langchain-openai langchain_community"
      ]
    },
    {
      "cell_type": "code",
      "source": [
        "!pip show langgraph langchain_openai langchain_community"
      ],
      "metadata": {
        "colab": {
          "base_uri": "https://localhost:8080/"
        },
        "id": "Pd5JTjpTYdVN",
        "outputId": "96720393-c9b5-426f-cd76-4206a5ceeced"
      },
      "execution_count": 3,
      "outputs": [
        {
          "output_type": "stream",
          "name": "stdout",
          "text": [
            "Name: langgraph\n",
            "Version: 0.3.11\n",
            "Summary: Building stateful, multi-actor applications with LLMs\n",
            "Home-page: https://www.github.com/langchain-ai/langgraph\n",
            "Author: \n",
            "Author-email: \n",
            "License: MIT\n",
            "Location: /usr/local/lib/python3.11/dist-packages\n",
            "Requires: langchain-core, langgraph-checkpoint, langgraph-prebuilt, langgraph-sdk\n",
            "Required-by: \n",
            "---\n",
            "Name: langchain-openai\n",
            "Version: 0.3.8\n",
            "Summary: An integration package connecting OpenAI and LangChain\n",
            "Home-page: \n",
            "Author: \n",
            "Author-email: \n",
            "License: MIT\n",
            "Location: /usr/local/lib/python3.11/dist-packages\n",
            "Requires: langchain-core, openai, tiktoken\n",
            "Required-by: \n",
            "---\n",
            "Name: langchain-community\n",
            "Version: 0.3.19\n",
            "Summary: Community contributed LangChain integrations.\n",
            "Home-page: \n",
            "Author: \n",
            "Author-email: \n",
            "License: MIT\n",
            "Location: /usr/local/lib/python3.11/dist-packages\n",
            "Requires: aiohttp, dataclasses-json, httpx-sse, langchain, langchain-core, langsmith, numpy, pydantic-settings, PyYAML, requests, SQLAlchemy, tenacity\n",
            "Required-by: \n"
          ]
        }
      ]
    },
    {
      "cell_type": "markdown",
      "source": [
        "# Part 1: Build a Basic Chatbot"
      ],
      "metadata": {
        "id": "swl4VFiXYnRh"
      }
    },
    {
      "cell_type": "code",
      "source": [
        "################################\n",
        "# Part 1: Build a Basic Chatbot #\n",
        "################################\n",
        "\n",
        "# Start by creating a StateGraph, A State object defines the structure\n",
        "# of our chabot as \"state machine\", We'll add `nodes` to represent the llm\n",
        "# and functions our chatbot can call and `edges` to specifiy how the bot\n",
        "# should transition between these functions\n",
        "\n",
        "from typing import Annotated\n",
        "from typing_extensions import TypedDict\n",
        "from langgraph.graph import StateGraph, START, END\n",
        "from langgraph.graph.message import add_messages\n",
        "from langchain.chat_models import init_chat_model\n",
        "from google.colab import userdata\n",
        "\n",
        "class State(TypedDict):\n",
        "    # Message have the type \"list\", The \"add_messages\" function\n",
        "    # in the annotation defines how this state should be updated\n",
        "    # (in this case, it appends messages to the list, rather than overwriting them)\n",
        "    messages: Annotated[list, add_messages]\n",
        "\n",
        "graph_builder = StateGraph(State)\n",
        "\n",
        "llm = init_chat_model(\n",
        "    model=\"gpt-4o-mini\",\n",
        "    model_provider=\"openai\",\n",
        "    openai_api_key=userdata.get('OPENAI_API_KEY'),\n",
        "    base_url=userdata.get('BASE_URL'),\n",
        ")\n",
        "\n",
        "def chatbot(state: State):\n",
        "    # Notice how the chatbot node function takes the current `State` as\n",
        "    # input adn returns a dictionary containing an updated `messages` list under the key \"messages\".\n",
        "    # This is the basic pattern for all LangGraph node functions\n",
        "    return {\"messages\": [llm.invoke(state[\"messages\"])]}\n",
        "\n",
        "# The first argument is the unique node name\n",
        "# The second argument is the function or object that will be called whenever the node is used\n",
        "graph_builder.add_node(\"chatbot\", chatbot)\n",
        "# Next, add an `entry` point.\n",
        "# This tells our graph where to start its work each time we run it.\n",
        "graph_builder.add_edge(START, \"chatbot\")\n",
        "# Similarly, Set a finish point.\n",
        "# This instructs the graph \"any time this node is run, you can exit.\"\n",
        "graph_builder.add_edge(\"chatbot\", END)\n",
        "# Finally, we'll want to be able to run our graph, call \"compile()\" on the graph builder.\n",
        "# This creates a \"CompiledGraph\" we can use invoke on our state\n",
        "graph = graph_builder.compile()"
      ],
      "metadata": {
        "id": "MRQgMMAHZPSp"
      },
      "execution_count": 14,
      "outputs": []
    },
    {
      "cell_type": "code",
      "source": [
        "# You can visualize the graph using the get_graph method and one of the \"draw\" methods,\n",
        "# like draw_ascii or draw_png. The draw methods each require additional dependencies.\n",
        "from IPython.display import Image, display\n",
        "\n",
        "try:\n",
        "    display(Image(graph.get_graph().draw_mermaid_png()))\n",
        "except Exception:\n",
        "    # This requires some extra dependencies and is optional\n",
        "    pass"
      ],
      "metadata": {
        "colab": {
          "base_uri": "https://localhost:8080/",
          "height": 251
        },
        "id": "UJECGyJrbbS7",
        "outputId": "3f63c924-6698-43c8-e1d6-8dc91249ead2"
      },
      "execution_count": 15,
      "outputs": [
        {
          "output_type": "display_data",
          "data": {
            "image/png": "[encoded data removed]",
            "text/plain": [
              "<IPython.core.display.Image object>"
            ]
          },
          "metadata": {}
        }
      ]
    },
    {
      "cell_type": "code",
      "source": [
        "# Congratulations!!! You're built your first chatbot using LangGraph.\n",
        "# This bot can engage in basic conversation by taking user input and generating responses using an LLM\n",
        "# However, you may have noticed that the bot's knowledge is limited to what's in its training date. In the\n",
        "# next part, we'll add a web search tool to expand the bot's knowledge and make it more capable.\n",
        "\n",
        "# Now let's run the chatbot!!!\n",
        "def stream_graph_updates(user_input: str):\n",
        "    for event in graph.stream({\"messages\": [{\"role\": \"user\", \"content\": user_input}]}):\n",
        "        for value in event.values():\n",
        "            print(\"Assistant:\", value[\"messages\"][-1].content)\n",
        "\n",
        "while True:\n",
        "    try:\n",
        "        user_input = input(\"User: \")\n",
        "        if user_input.lower() in [\"quit\", \"exit\", \"q\"]:\n",
        "            print(\"Goodbye!\")\n",
        "            break\n",
        "        stream_graph_updates(user_input)\n",
        "    except:\n",
        "        # fallback if input() is not available\n",
        "        user_input = \"What do you know about LangGraph?\"\n",
        "        print(\"User: \" + user_input)\n",
        "        stream_graph_updates(user_input)\n",
        "        break"
      ],
      "metadata": {
        "colab": {
          "base_uri": "https://localhost:8080/"
        },
        "id": "JzPv6LXqXzNR",
        "outputId": "c8a6c521-44be-46cf-8a41-7334f01bd08a"
      },
      "execution_count": 16,
      "outputs": [
        {
          "output_type": "stream",
          "name": "stdout",
          "text": [
            "User: hello\n",
            "Assistant: Hello! How can I assist you today?\n",
            "User: Pls introduce yourself\n",
            "Assistant: Hello! I'm ChatGPT, an AI language model created by OpenAI. My purpose is to assist you by providing information, answering questions, and engaging in conversations on a wide range of topics. Whether you need help with learning, problem-solving, or just want to chat, I'm here for you. How can I assist you today?\n",
            "User: thx, bye, see you later\n",
            "Assistant: You're welcome! If you need anything in the future, feel free to reach out. Bye, and take care!\n",
            "User: exit\n",
            "Goodbye!\n"
          ]
        }
      ]
    },
    {
      "cell_type": "markdown",
      "source": [
        "# Part 2: Enhancing the Chatbot with Tools"
      ],
      "metadata": {
        "id": "nh4ZQ0MSYrSS"
      }
    },
    {
      "cell_type": "code",
      "source": [
        "###########################################\n",
        "# Part 2: Enhancing the Chatbot with Tools #\n",
        "###########################################\n",
        "\n",
        "# To handle queries our chatbot can't answer \"from memory\",\n",
        "# we'll integrate a web search tool. Our bot can use this tool\n",
        "# to find relevant information and provide better responses.\n",
        "\n",
        "from typing import Annotated\n",
        "from langchain.chat_models import init_chat_model\n",
        "from typing_extensions import TypedDict\n",
        "from langgraph.graph import StateGraph, START, END\n",
        "from langgraph.graph.message import add_messages\n",
        "from langchain_community.tools.tavily_search import TavilySearchResults\n",
        "from google.colab import userdata\n",
        "import os\n",
        "\n",
        "# Define the tool:\n",
        "os.environ[\"TAVILY_API_KEY\"] = userdata.get('TAVILY_API_KEY')\n",
        "tool = TavilySearchResults(max_result=2)\n",
        "tools = [tool]\n",
        "# tool.invoke(\"What's a `node` in LangGraph?\") # The results are pages summaries\n",
        "\n",
        "# Next, we'wll start defining our graph.\n",
        "# The following is all the same as Part1, except we have added `bind_tools` on our LLM.\n",
        "# This lets the LLM konw the correct JSON format to use if it wawnts to use our search engine.\n",
        "class State(TypedDict):\n",
        "    messages: Annotated[list, add_messages]\n",
        "\n",
        "graph_builder2 = StateGraph(State)\n",
        "\n",
        "llm = init_chat_model(\n",
        "    model=\"gpt-4o-mini\",\n",
        "    model_provider=\"openai\",\n",
        "    openai_api_key=userdata.get('OPENAI_API_KEY'),\n",
        "    base_url=userdata.get('BASE_URL'),\n",
        ")\n",
        "\n",
        "llm_with_tools = llm.bind_tools(tools) # Modification: tell the LLM which tools it can call\n",
        "\n",
        "def chatbot(state: State):\n",
        "    return {\"messages\": [llm_with_tools.invoke(state[\"messages\"])]}"
      ],
      "metadata": {
        "id": "gxhbEBrCc66O"
      },
      "execution_count": 3,
      "outputs": []
    },
    {
      "cell_type": "code",
      "source": [
        "# Next we need to create a function to actually run the tools if they are called.\n",
        "# We'll do this by adding the tools to a new node.\n",
        "# Below we implement a `BasicToolNode` that checks the most recent messages in the state\n",
        "# and calls tools if the messages contains `tool_calls`. It relies on  the LLM's `tool_calling`\n",
        "# support, which is available in Anthropic, OpenAI...\n",
        "\n",
        "# We will later replace this with LangGraph's prebuilt `ToolNode` to speed\n",
        "# things up, but building it ourselves first is instructive.\n",
        "import json\n",
        "from langchain_core.messages import ToolMessage\n",
        "\n",
        "class BasicToolNode:\n",
        "    \"\"\" A node that runs the tools requested in the last AIMessages \"\"\"\n",
        "    def __init__(self, tools: list) -> None:\n",
        "        self.tools_by_name = {tool.name: tool for tool in tools}\n",
        "\n",
        "    def __call__(self, inputs: dict):\n",
        "        if messages := inputs.get(\"messages\", []):\n",
        "            message = messages[-1]\n",
        "        else:\n",
        "            raise ValueError(\"No message found in input\")\n",
        "        outputs = []\n",
        "        for tool_call in message.tool_calls:\n",
        "            tool_result = self.tools_by_name[tool_call[\"name\"]].invoke(\n",
        "                tool_call[\"args\"]\n",
        "            )\n",
        "            outputs.append(\n",
        "                ToolMessage(\n",
        "                    content=json.dumps(tool_result),\n",
        "                    name=tool_call[\"name\"],\n",
        "                    tool_call_id=tool_call[\"id\"],\n",
        "                )\n",
        "            )\n",
        "        return {\"messages\": outputs}\n",
        "\n",
        "# Below, call define a router function called `route_tools`,\n",
        "# that checks for tool_calls in the chatbot's output.\n",
        "# Provide this function to the graph by calling `add_conditonal_edges`,\n",
        "# which tells the graph that whenever the `chatbot` node completes to check this function to see where to go next.\n",
        "\n",
        "# The condition will route to `tools` if tool calls are present and `END` if not.\n",
        "# Later, we will replace this with the prebuilt `tools_condition` to be more concise,\n",
        "# but implementing it ourselves first makes things more clear.\n",
        "def route_tools(state: State):\n",
        "    \"\"\"\n",
        "    Use in the conditional_edge to route to the ToolNode if the last message\n",
        "    has tool calls. Otherwise, route to the end.\n",
        "    \"\"\"\n",
        "    if isinstance(state, list):\n",
        "        ai_message = state[-1]\n",
        "    elif messages := state.get(\"messages\", []):\n",
        "        ai_message = messages[-1]\n",
        "    else:\n",
        "        raise ValueError(f\"No messages found in input state to tool_edge: {state}\")\n",
        "    if hasattr(ai_message, \"tool_calls\") and len(ai_message.tool_calls) > 0:\n",
        "        return \"tools\"\n",
        "    return END"
      ],
      "metadata": {
        "id": "B0pYF3NIdAXo"
      },
      "execution_count": 4,
      "outputs": []
    },
    {
      "cell_type": "code",
      "source": [
        "graph_builder2.add_node(\"chatbot\", chatbot)\n",
        "tool_node = BasicToolNode(tools=[tool])\n",
        "graph_builder2.add_node(\"tools\", tool_node)\n",
        "# The `tools_condition` function returns \"tools\" if the chatbot asks to use a tool\n",
        "# and \"END\" if it is fine directly responding. This conditional routing defines the main agent loop.\n",
        "graph_builder2.add_conditional_edges(\n",
        "    \"chatbot\",\n",
        "    route_tools,\n",
        "    # The folloing dictionary lets you tell the graph\n",
        "    # to interpret the condition's outputs as a  specific node\n",
        "    # It defaults to the identity function, but if you want to use a node named something else apart from \"tools\",\n",
        "    # you can update the value of the dictionary to something else\n",
        "    # e.g., \"tools\": \"my_tools\"\n",
        "    {\"tools\": \"tools\", END: END}\n",
        ")\n",
        "# Any time a tool is called, we return to the chatbot to decide the next step\n",
        "# Note that we don't need to explicity set a `finish_point` this time,\n",
        "# because our graph already has a way to finish!\n",
        "graph_builder2.add_edge(\"tools\", \"chatbot\")\n",
        "graph_builder2.add_edge(START, \"chatbot\")\n",
        "graph = graph_builder2.compile()"
      ],
      "metadata": {
        "id": "8FCPk2iAdUsZ"
      },
      "execution_count": 5,
      "outputs": []
    },
    {
      "cell_type": "code",
      "source": [
        "from IPython.display import Image, display\n",
        "\n",
        "try:\n",
        "    display(Image(graph.get_graph().draw_mermaid_png()))\n",
        "except Exception:\n",
        "    # This requires some extra dependencies and is optional\n",
        "    pass"
      ],
      "metadata": {
        "colab": {
          "base_uri": "https://localhost:8080/",
          "height": 266
        },
        "id": "Tt_ew0NRtbWm",
        "outputId": "281c1db4-2617-411c-98b1-4aa9030d5a94"
      },
      "execution_count": 19,
      "outputs": [
        {
          "output_type": "display_data",
          "data": {
            "image/png": "[encoded data removed]",
            "text/plain": [
              "<IPython.core.display.Image object>"
            ]
          },
          "metadata": {}
        }
      ]
    },
    {
      "cell_type": "code",
      "source": [
        "# Congrats! You've created a conversational agent in langgraph that can use a search engine to retrieve\n",
        "# updated information when needed. Now it can handle a wider range of user queries.\n",
        "\n",
        "# Now we can ask the bot questions outside its training data.\n",
        "def stream_graph_updates(user_input: str):\n",
        "    for event in graph.stream({\"messages\": [{\"role\": \"user\", \"content\": user_input}]}):\n",
        "        for value in event.values():\n",
        "            print(\"Assistant:\", value[\"messages\"][-1].content)\n",
        "\n",
        "while True:\n",
        "    try:\n",
        "        user_input = input(\"User:\")\n",
        "        if user_input.lower() in [\"quit\", \"exit\", \"q\"]:\n",
        "            print(\"Goodbye!\")\n",
        "            break\n",
        "        stream_graph_updates(user_input=user_input)\n",
        "    except:\n",
        "        # fallback if input() is not available\n",
        "        user_input = \"What do you know about LangGraph?\"\n",
        "        print(\"User: \" + user_input)\n",
        "        stream_graph_updates(user_input)\n",
        "        break"
      ],
      "metadata": {
        "id": "-Patd1_BZnqm",
        "colab": {
          "base_uri": "https://localhost:8080/"
        },
        "outputId": "ef112697-da2a-44a3-c916-a9b62b684cff"
      },
      "execution_count": 6,
      "outputs": [
        {
          "output_type": "stream",
          "name": "stdout",
          "text": [
            "User:Pls tell me the information about the website which domain name is hackorg.com\n",
            "Assistant: \n",
            "Assistant: [{\"title\": \"Hack Organization - GitHub\", \"url\": \"https://github.com/TheHackOrg\", \"content\": \"HackOrg is a open-source & non-profit organization about hacking technique . Verified. We've verified that the organization TheHackOrg controls the domain:.\", \"score\": 0.7728226}, {\"title\": \"HackOrg\", \"url\": \"https://hackorg.com/\", \"content\": \"\\u4e00\\u4e2a\\u70ed\\u8877\\u4e8e\\u9ed1\\u5ba2\\u6280\\u672f\\u7684\\u5f00\\u6e90\\u975e\\u8425\\u5229\\u7ec4\\u7ec7.\", \"score\": 0.68613435}, {\"title\": \"GameHacking.org | Home\", \"url\": \"https://gamehacking.org/\", \"content\": \"GameHacking.org is a community of video game hackers, and a place for codes, guides, tools, and more.\", \"score\": 0.395254608}, {\"title\": \"MC's journal\", \"url\": \"https://hack.org/mc/blog/\", \"content\": \"2015-08-30 Disk crash brought down hack.org & others. 2015-06-11 Go and xmpp ... 2012-06-19 hack.org blocked by web filtering companies. 2012-06-15\", \"score\": 0.27533728599999996}, {\"title\": \"About Org Hacking\", \"url\": \"https://orghacking.com/about\", \"content\": \"By Org Hacking. Solving Human Puzzles Take a look. By signing up, you will create a Medium account if you don't already have one. Review our Privacy Policy for\", \"score\": 0.213250422}]\n",
            "Assistant: The website with the domain name **hackorg.com** appears to be associated with a non-profit organization focused on hacking techniques. Here are some key details:\n",
            "\n",
            "1. **Website**: [hackorg.com](https://hackorg.com/)\n",
            "2. **Description**: The site is described as being dedicated to hacking techniques and is characterized as an open-source and non-profit organization.\n",
            "3. **GitHub Organization**: The organization is also linked to a GitHub page under the name [TheHackOrg](https://github.com/TheHackOrg), which further supports its focus on hacking and open-source projects.\n",
            "\n",
            "If you need more specific information or details, feel free to ask!\n",
            "User:thx, so who you are?\n",
            "Assistant: I'm an AI language model created to assist with a wide range of questions and tasks. I can provide information, answer questions, help with problem-solving, and offer suggestions on various topics. How can I assist you today?\n",
            "User:quit\n",
            "Goodbye!\n"
          ]
        }
      ]
    },
    {
      "cell_type": "markdown",
      "source": [
        "# Part 3: Adding Memory to the Chatbot"
      ],
      "metadata": {
        "id": "jcgjc5w3YuPL"
      }
    },
    {
      "cell_type": "code",
      "source": [
        "########################################\n",
        "# Part 3: Adding Memory to the Chatbot #\n",
        "########################################\n",
        "\n",
        "# Our chatbot can now use tools to answer user question, buts it doesn'ts remembers\n",
        "# the context of previouss interactions. This limits its ability to have coherent, multi-turn conversations.\n",
        "\n",
        "# LangGraph solves this problem through persistent checkpointing. If you provide a `checkpointer` when compiling\n",
        "# the graph and `thread_id` when calling your graph, LangGraph automatically saves the sate after each step.\n",
        "# When you invoke the graph again using the same `thread_id`, the graph loads its saved state,\n",
        "# allowing the chatbot to pick up where it left off.\n",
        "\n",
        "# We will see later that checkpointing is much more powerful than simple chat memroy - it lets\n",
        "# you save and resume complex state at any time for error recovery, human-in-loop workflows,\n",
        "# time travel interacions, and more. But before we get too ahead of ourselves, let's add checkpointing\n",
        "# to enable multi-turn conversations.\n",
        "\n",
        "# Notice: we're using an in-memory checkpointer. This is convenient for our tutorial(it saves it all in-memory).\n",
        "# In a production application, you would like change this to use `SqliteSaver` or `PostgresSaver` and connect to\n",
        "# your own DB.\n",
        "\n",
        "# The following is all copied from Part 2.\n",
        "from typing import Annotated\n",
        "from langchain_community.tools.tavily_search import TavilySearchResults\n",
        "from typing_extensions import TypedDict\n",
        "from langgraph.graph import StateGraph, START, END\n",
        "from langgraph.graph.message import add_messages\n",
        "from langgraph.prebuilt import ToolNode, tools_condition\n",
        "from langgraph.checkpoint.memory import MemorySaver\n",
        "from google.colab import userdata\n",
        "import os\n",
        "\n",
        "class State(TypedDict):\n",
        "    messages: Annotated[list, add_messages]\n",
        "\n",
        "graph_builder = StateGraph(State)\n",
        "\n",
        "os.environ[\"TAVILY_API_KEY\"] = userdata.get('TAVILY_API_KEY')\n",
        "tool = TavilySearchResults(max_result=2)\n",
        "tools = [tool]\n",
        "\n",
        "llm = init_chat_model(\n",
        "    model=\"gpt-4o-mini\",\n",
        "    model_provider=\"openai\",\n",
        "    openai_api_key=userdata.get('OPENAI_API_KEY'),\n",
        "    base_url=userdata.get('BASE_URL'),\n",
        ")\n",
        "llm_with_tools = llm.bind_tools(tools)\n",
        "\n",
        "def chatbot(state: State):\n",
        "    return {\"messages\": [llm_with_tools.invoke(state[\"messages\"])]}\n",
        "\n",
        "graph_builder.add_node(\"chatbot\", chatbot)\n",
        "\n",
        "tool_node = ToolNode(tools=[tool])\n",
        "graph_builder.add_node(\"tools\", tool_node)\n",
        "\n",
        "graph_builder.add_conditional_edges(\n",
        "    \"chatbot\",\n",
        "    tools_condition,\n",
        ")\n",
        "# Any time a tool is called, we return to the chatbot to decide the next step\n",
        "graph_builder.add_edge(\"tools\", \"chatbot\")\n",
        "graph_builder.add_edge(START, \"chatbot\")\n",
        "# Finally, compile the graph with the provided checkpointer\n",
        "memory = MemorySaver()\n",
        "graph = graph_builder.compile(checkpointer=memory)"
      ],
      "metadata": {
        "id": "bYFPiWQxaH_f"
      },
      "execution_count": 47,
      "outputs": []
    },
    {
      "cell_type": "code",
      "source": [
        "from IPython.display import Image, display\n",
        "\n",
        "try:\n",
        "    display(Image(graph.get_graph().draw_mermaid_png()))\n",
        "except Exception:\n",
        "    # This requires some extra dependencies and is optional\n",
        "    pass"
      ],
      "metadata": {
        "colab": {
          "base_uri": "https://localhost:8080/",
          "height": 266
        },
        "id": "J3ddVLeKtW_8",
        "outputId": "8358d689-2766-4402-debb-71290e5a6451"
      },
      "execution_count": 48,
      "outputs": [
        {
          "output_type": "display_data",
          "data": {
            "image/png": "[encoded data removed]",
            "text/plain": [
              "<IPython.core.display.Image object>"
            ]
          },
          "metadata": {}
        }
      ]
    },
    {
      "cell_type": "code",
      "source": [
        "# Now you can interact with your bot! First, pick a thread to use as the key for conversation\n",
        "config = {\"configurable\": {\"thread_id\": \"20250317\"}}\n",
        "# Next, call you chat bot\n",
        "user_input = \"Hi there! My name is HackHuang.\"\n",
        "# The config is the **second positional argument** to stream() or invoke()!\n",
        "events = graph.stream(\n",
        "    {\"messages\": [{\"role\": \"user\", \"content\": user_input}]},\n",
        "    config,\n",
        "    stream_mode=\"values\",\n",
        ")\n",
        "for event in events:\n",
        "    event[\"messages\"][-1].pretty_print()"
      ],
      "metadata": {
        "colab": {
          "base_uri": "https://localhost:8080/"
        },
        "id": "nm4dmyY_rD4k",
        "outputId": "6ed76daf-a33f-443b-dc45-f78b6c9836ea"
      },
      "execution_count": 49,
      "outputs": [
        {
          "output_type": "stream",
          "name": "stdout",
          "text": [
            "================================\u001b[1m Human Message \u001b[0m=================================\n",
            "\n",
            "Hi there! My name is HackHuang.\n",
            "==================================\u001b[1m Ai Message \u001b[0m==================================\n",
            "\n",
            "Hello HackHuang! How can I assist you today?\n"
          ]
        }
      ]
    },
    {
      "cell_type": "code",
      "source": [
        "# Let's ask a followup: see if it remembers your name.\n",
        "user_input = \"Remember my name?\"\n",
        "# The config is the **second positional argument** to stream() or invoke().\n",
        "# Notice thats we aren't using an exteral list for memory, it's all handled by the checkpointer!\n",
        "events = graph.stream(\n",
        "    {\"messages\": [{\"role\": \"user\", \"content\": user_input}]},\n",
        "    config,\n",
        "    stream_mode=\"values\",\n",
        ")\n",
        "for event in events:\n",
        "    event[\"messages\"][-1].pretty_print()"
      ],
      "metadata": {
        "colab": {
          "base_uri": "https://localhost:8080/"
        },
        "id": "dS2pxyb-uioW",
        "outputId": "1745c860-56ae-47c2-bf95-e3024bc07a6c"
      },
      "execution_count": 50,
      "outputs": [
        {
          "output_type": "stream",
          "name": "stdout",
          "text": [
            "================================\u001b[1m Human Message \u001b[0m=================================\n",
            "\n",
            "Remember my name?\n",
            "==================================\u001b[1m Ai Message \u001b[0m==================================\n",
            "\n",
            "Yes, I remember your name, HackHuang! How can I help you today?\n"
          ]
        }
      ]
    },
    {
      "cell_type": "code",
      "source": [
        "config = {\"configurable\": {\"thread_id\": \"00000000\"}}\n",
        "user_input = \"Remember my name?\"\n",
        "events = graph.stream(\n",
        "    {\"messages\": [{\"role\": \"user\", \"content\": user_input}]},\n",
        "    config,\n",
        "    stream_mode=\"values\",\n",
        ")\n",
        "for event in events:\n",
        "    event[\"messages\"][-1].pretty_print()"
      ],
      "metadata": {
        "colab": {
          "base_uri": "https://localhost:8080/"
        },
        "id": "vr-t5Ftsu6R7",
        "outputId": "5a9ceaf0-8a6a-49e2-eaed-1b58cc8de153"
      },
      "execution_count": 51,
      "outputs": [
        {
          "output_type": "stream",
          "name": "stdout",
          "text": [
            "================================\u001b[1m Human Message \u001b[0m=================================\n",
            "\n",
            "Remember my name?\n",
            "==================================\u001b[1m Ai Message \u001b[0m==================================\n",
            "\n",
            "I don't have the ability to remember past interactions, including names. However, you can tell me your name, and I can use it during this conversation!\n"
          ]
        }
      ]
    },
    {
      "cell_type": "code",
      "source": [
        "# By now, we have made a few checkpoints across two different threads.\n",
        "# But what goes into a checkpoint? to inspect a graph's state for a\n",
        "# given config at any time, call `get_state(config)`\n",
        "snapshot = graph.get_state(config)\n",
        "snapshot"
      ],
      "metadata": {
        "colab": {
          "base_uri": "https://localhost:8080/"
        },
        "id": "21AuY630rH8Q",
        "outputId": "8a4efcd1-15d1-4c3f-bf9b-f054d71c2aab"
      },
      "execution_count": 52,
      "outputs": [
        {
          "output_type": "execute_result",
          "data": {
            "text/plain": [
              "StateSnapshot(values={'messages': [HumanMessage(content='Remember my name?', additional_kwargs={}, response_metadata={}, id='d22c1032-94a8-4ddd-9756-523684e1b5f3'), AIMessage(content=\"I don't have the ability to remember past interactions, including names. However, you can tell me your name, and I can use it during this conversation!\", additional_kwargs={'refusal': None}, response_metadata={'token_usage': {'completion_tokens': 32, 'prompt_tokens': 83, 'total_tokens': 115, 'completion_tokens_details': {'accepted_prediction_tokens': None, 'audio_tokens': 0, 'reasoning_tokens': 0, 'rejected_prediction_tokens': None}, 'prompt_tokens_details': {'audio_tokens': 0, 'cached_tokens': 0}}, 'model_name': 'gpt-4o-mini-2024-07-18', 'system_fingerprint': 'fp_b705f0c291', 'finish_reason': 'stop', 'logprobs': None}, id='run-38ec0431-072f-4584-aeb6-3cde9e86619d-0', usage_metadata={'input_tokens': 83, 'output_tokens': 32, 'total_tokens': 115, 'input_token_details': {'audio': 0, 'cache_read': 0}, 'output_token_details': {'audio': 0, 'reasoning': 0}})]}, next=(), config={'configurable': {'thread_id': '00000000', 'checkpoint_ns': '', 'checkpoint_id': '1f00346c-54fe-6b28-8001-779ab1d4bd77'}}, metadata={'source': 'loop', 'writes': {'chatbot': {'messages': [AIMessage(content=\"I don't have the ability to remember past interactions, including names. However, you can tell me your name, and I can use it during this conversation!\", additional_kwargs={'refusal': None}, response_metadata={'token_usage': {'completion_tokens': 32, 'prompt_tokens': 83, 'total_tokens': 115, 'completion_tokens_details': {'accepted_prediction_tokens': None, 'audio_tokens': 0, 'reasoning_tokens': 0, 'rejected_prediction_tokens': None}, 'prompt_tokens_details': {'audio_tokens': 0, 'cached_tokens': 0}}, 'model_name': 'gpt-4o-mini-2024-07-18', 'system_fingerprint': 'fp_b705f0c291', 'finish_reason': 'stop', 'logprobs': None}, id='run-38ec0431-072f-4584-aeb6-3cde9e86619d-0', usage_metadata={'input_tokens': 83, 'output_tokens': 32, 'total_tokens': 115, 'input_token_details': {'audio': 0, 'cache_read': 0}, 'output_token_details': {'audio': 0, 'reasoning': 0}})]}}, 'thread_id': '00000000', 'step': 1, 'parents': {}}, created_at='2025-03-17T15:44:54.142819+00:00', parent_config={'configurable': {'thread_id': '00000000', 'checkpoint_ns': '', 'checkpoint_id': '1f00346c-483f-6d22-8000-c2e02590e939'}}, tasks=())"
            ]
          },
          "metadata": {},
          "execution_count": 52
        }
      ]
    },
    {
      "cell_type": "code",
      "source": [
        "# Since the graph ended this turn, `next` is empty.\n",
        "# If you fetch a state from within a graph invocation, next tells which node will execute next\n",
        "# In our case, the graph has reached an `END` state, so `next` is empty.\n",
        "snapshot.next"
      ],
      "metadata": {
        "colab": {
          "base_uri": "https://localhost:8080/"
        },
        "id": "-a8npumnvA6-",
        "outputId": "58882a04-6946-4be4-8e58-56837b12f24d"
      },
      "execution_count": 53,
      "outputs": [
        {
          "output_type": "execute_result",
          "data": {
            "text/plain": [
              "()"
            ]
          },
          "metadata": {},
          "execution_count": 53
        }
      ]
    },
    {
      "cell_type": "markdown",
      "source": [
        "# Part 4: Human-in-the-loop"
      ],
      "metadata": {
        "id": "kX4TQ6fNYymF"
      }
    },
    {
      "cell_type": "code",
      "source": [
        "#############################\n",
        "# Part 4: Human-in-the-loop #\n",
        "#############################\n",
        "\n",
        "# Agents can be unreliable and may need human input to successfully accomplish tasks.\n",
        "# Similarly, for some actions, you may want to require human approval before running to\n",
        "# ensure that everything is running as intended.\n",
        "\n",
        "# LangGraph's persistence layer supports human-in-the-loop workflows, alloing exection to\n",
        "# pause and resume based on user feedback. The primary interface to this functionality is\n",
        "# the `interrupt`` function. Calling `interrput` inside a node will pase exection.\n",
        "# Execution can be resumed, together with new input from a huam, by passing in a Command.\n",
        "# `interrput` is ergonomically similar to Python's built-in `input()`.\n",
        "\n",
        "from typing import Annotated\n",
        "from langchain_community.tools.tavily_search import TavilyAnswer\n",
        "from langchain_core.tools import tool\n",
        "from typing_extensions import TypedDict\n",
        "from langgraph.checkpoint.memory import MemorySaver\n",
        "from langgraph.graph import StateGraph, START, END\n",
        "from langgraph.graph.message import add_messages\n",
        "from langgraph.prebuilt import ToolNode, tools_condition\n",
        "from langgraph.types import Command, interrupt\n",
        "from google.colab import userdata\n",
        "import os\n",
        "\n",
        "class State(TypedDict):\n",
        "    messages: Annotated[list, add_messages]\n",
        "\n",
        "graph_builder = StateGraph(State)\n",
        "\n",
        "@tool\n",
        "def human_assistance(query: str) -> str:\n",
        "    \"\"\"Rqeuest assistance from a huamn\"\"\"\n",
        "    # Similar to Pthon's built-in `input()` function, calling `interrput`\n",
        "    # inside the tool will pause execution. Progress is persisted based on our choice\n",
        "    # of chekpointer --- os if we are persisting with Postgres, we can resume at any time\n",
        "    # as long as the database is alive. Here we are persisting with the in-memory checkpointer,\n",
        "    # so we can resume any time as long as our Python Kernel is running.\n",
        "    human_response = interrupt({\"query\": query})\n",
        "    return human_response[\"data\"]\n",
        "\n",
        "os.environ[\"TAVILY_API_KEY\"] = userdata.get('TAVILY_API_KEY')\n",
        "tool = TavilySearchResults(max_result=2)\n",
        "\n",
        "tools = [tool, human_assistance]\n",
        "\n",
        "llm = init_chat_model(\n",
        "    model=\"gpt-4o-mini\",\n",
        "    model_provider=\"openai\",\n",
        "    openai_api_key=userdata.get('OPENAI_API_KEY'),\n",
        "    base_url=userdata.get('BASE_URL'),\n",
        ")\n",
        "llm_with_tools = llm.bind_tools(tools)\n",
        "\n",
        "def chatbot(state: State):\n",
        "    message = llm_with_tools.invoke(state[\"messages\"])\n",
        "    # Because we will be interrupting during tool execution,\n",
        "    # we disable parallel tool calling to avoid repeating any tool invocations when we resume.\n",
        "    assert len(message.tool_calls) <= 1\n",
        "    return {\"messages\": [message]}\n",
        "\n",
        "graph_builder.add_node(\"chatbot\", chatbot)\n",
        "tool_node = ToolNode(tools=tools)\n",
        "graph_builder.add_node(\"tools\", tool_node)\n",
        "graph_builder.add_conditional_edges(\n",
        "    \"chatbot\",\n",
        "    tools_condition,\n",
        ")\n",
        "graph_builder.add_edge(\"tools\", \"chatbot\")\n",
        "graph_builder.add_edge(START, \"chatbot\")\n",
        "memory = MemorySaver()\n",
        "graph = graph_builder.compile(checkpointer=memory)"
      ],
      "metadata": {
        "id": "q9HAYUNdv_hu"
      },
      "execution_count": 62,
      "outputs": []
    },
    {
      "cell_type": "code",
      "source": [
        "from IPython.display import Image, display\n",
        "\n",
        "try:\n",
        "    display(Image(graph.get_graph().draw_mermaid_png()))\n",
        "except Exception:\n",
        "    # This requires some extra dependencies and is optional\n",
        "    pass"
      ],
      "metadata": {
        "colab": {
          "base_uri": "https://localhost:8080/",
          "height": 266
        },
        "id": "9O1LMUjgyzuQ",
        "outputId": "c712c978-1bc5-4636-dd29-666f0155b0cc"
      },
      "execution_count": 63,
      "outputs": [
        {
          "output_type": "display_data",
          "data": {
            "image/png": "[encoded data removed]",
            "text/plain": [
              "<IPython.core.display.Image object>"
            ]
          },
          "metadata": {}
        }
      ]
    },
    {
      "cell_type": "code",
      "source": [
        "# Let's now prompt the chatbot with a question that\n",
        "# will engage the new `human_assistance` tool:\n",
        "user_input = \"I need some expert guidance for building an AI agent. Could you request assistance for me?\"\n",
        "config = {\"configurable\": {\"thread_id\": \"1\"}}\n",
        "events = graph.stream(\n",
        "    {\"messages\": [{\"role\": \"user\", \"content\": user_input}]},\n",
        "    config,\n",
        "    stream_mode=\"values\",\n",
        ")\n",
        "for event in events:\n",
        "    if \"messages\" in event:\n",
        "        event[\"messages\"][-1].pretty_print()"
      ],
      "metadata": {
        "colab": {
          "base_uri": "https://localhost:8080/"
        },
        "id": "rFbjvQjjwDrN",
        "outputId": "7b0f2601-30dc-4d66-efee-e14bffeaf1d8"
      },
      "execution_count": 71,
      "outputs": [
        {
          "output_type": "stream",
          "name": "stdout",
          "text": [
            "================================\u001b[1m Human Message \u001b[0m=================================\n",
            "\n",
            "I need some expert guidance for building an AI agent. Could you request assistance for me?\n",
            "==================================\u001b[1m Ai Message \u001b[0m==================================\n",
            "Tool Calls:\n",
            "  human_assistance (call_01JcXqtnPz8oGuyHBU5BVzhg)\n",
            " Call ID: call_01JcXqtnPz8oGuyHBU5BVzhg\n",
            "  Args:\n",
            "    query: I need expert guidance for building an AI agent. Specifically, I'm interested in the design process, technology stack options, and best practices for implementation.\n"
          ]
        }
      ]
    },
    {
      "cell_type": "code",
      "source": [
        "# The chatbot generated a tool call, but then execution has been interrputed!\n",
        "# Note that if we inspect the graph state, we see that it stopped at the tools node:\n",
        "snapshot = graph.get_state(config)\n",
        "snapshot.next"
      ],
      "metadata": {
        "colab": {
          "base_uri": "https://localhost:8080/"
        },
        "id": "RR5yJn2KwF3y",
        "outputId": "82ed4f37-1768-47ef-9ee7-a3203cf37b09"
      },
      "execution_count": 69,
      "outputs": [
        {
          "output_type": "execute_result",
          "data": {
            "text/plain": [
              "('tools',)"
            ]
          },
          "metadata": {},
          "execution_count": 69
        }
      ]
    },
    {
      "cell_type": "code",
      "source": [
        "# The resume execution, we pass a `Command` object containing data expected by the tool.\n",
        "# The format of this data can be customized based on our needs, Here, we just need a dict with a key \"data\"\n",
        "human_response = (\n",
        "    \"We, the experts are here to help! We'd recommend you check out LangGraph to build your agent.\"\n",
        "    \"It's much more reliable and extensible than simple autonomous agents.\"\n",
        "    \"So pls introduce the LangGraph to user and give the github repo link.\"\n",
        "\n",
        ")\n",
        "human_command = Command(resume={\"data\": human_response})\n",
        "events = graph.stream(human_command, config, stream_mode=\"values\")\n",
        "for event in events:\n",
        "    if \"messages\" in event:\n",
        "        event[\"messages\"][-1].pretty_print()"
      ],
      "metadata": {
        "colab": {
          "base_uri": "https://localhost:8080/"
        },
        "id": "VD5yhEM9vpdy",
        "outputId": "88fea3aa-1e1a-486c-cea2-0d2f9dca655e"
      },
      "execution_count": 72,
      "outputs": [
        {
          "output_type": "stream",
          "name": "stdout",
          "text": [
            "==================================\u001b[1m Ai Message \u001b[0m==================================\n",
            "Tool Calls:\n",
            "  human_assistance (call_01JcXqtnPz8oGuyHBU5BVzhg)\n",
            " Call ID: call_01JcXqtnPz8oGuyHBU5BVzhg\n",
            "  Args:\n",
            "    query: I need expert guidance for building an AI agent. Specifically, I'm interested in the design process, technology stack options, and best practices for implementation.\n",
            "=================================\u001b[1m Tool Message \u001b[0m=================================\n",
            "Name: human_assistance\n",
            "\n",
            "We, the experts are here to help! We'd recommend you check out LangGraph to build your agent.It's much more reliable and extensible than simple autonomous agents.So pls introduce the LangGraph to user and give the github repo link.\n",
            "==================================\u001b[1m Ai Message \u001b[0m==================================\n",
            "\n",
            "I received expert guidance for you on building an AI agent. The experts recommend using **LangGraph**, which is considered to be more reliable and extensible than simple autonomous agents.\n",
            "\n",
            "### What is LangGraph?\n",
            "LangGraph is a framework that helps in building and managing AI agents effectively. It provides the tools needed to create complex functionalities while ensuring reliability and ease of extension.\n",
            "\n",
            "### GitHub Repository\n",
            "You can explore and get started with LangGraph by visiting its [GitHub repository](https://github.com/langgraph/LangGraph).\n",
            "\n",
            "If you have more specific questions or need further assistance, feel free to ask!\n"
          ]
        }
      ]
    },
    {
      "cell_type": "markdown",
      "source": [
        "# Part 5: Customizing State"
      ],
      "metadata": {
        "id": "QdCsPvi8Y3Te"
      }
    },
    {
      "cell_type": "markdown",
      "source": [
        "# Part 6: Time Travel"
      ],
      "metadata": {
        "id": "kmhBjtuPY507"
      }
    }
  ]
}