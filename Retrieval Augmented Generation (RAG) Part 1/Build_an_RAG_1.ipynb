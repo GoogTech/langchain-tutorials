{
  "nbformat": 4,
  "nbformat_minor": 0,
  "metadata": {
    "colab": {
      "provenance": [],
      "toc_visible": true
    },
    "kernelspec": {
      "name": "python3",
      "display_name": "Python 3"
    },
    "language_info": {
      "name": "python"
    }
  },
  "cells": [
    {
      "cell_type": "markdown",
      "source": [
        "<a href=\"https://colab.research.google.com/github/GoogTech/langchain-tutorials/blob/master/Agents/Build_an_RAG_1.ipynb\">\n",
        "<img src=\"https://colab.research.google.com/assets/colab-badge.svg\" alt=\"Open In Colab\"/>\n",
        "</a>\n",
        "\n",
        "Refer to the langchain tutorials of `v0.3` : https://python.langchain.com/docs/tutorials/rag/"
      ],
      "metadata": {
        "id": "JSwA0kBlLSxY"
      }
    },
    {
      "cell_type": "markdown",
      "source": [
        "# Overview"
      ],
      "metadata": {
        "id": "VIiKDIUeLkZO"
      }
    },
    {
      "cell_type": "markdown",
      "source": [
        "A typical RAG application has two main components:\n",
        "\n",
        "* `Indexing`: a pipeline for ingesting data from a source and indexing it. This usually happens offline.\n",
        "\n",
        "* `Retrieval and generation`: the actual RAG chain, which takes the user query at run time and retrieves the relevant data from the index, then passes that to the model."
      ],
      "metadata": {
        "id": "oR71ptVuL1Yk"
      }
    },
    {
      "cell_type": "markdown",
      "source": [
        "## Indexing"
      ],
      "metadata": {
        "id": "nKxd9yDXMCfx"
      }
    },
    {
      "cell_type": "markdown",
      "source": [
        "1. `Load`: First we need to load our data. This is done with Document Loaders.\n",
        "2. `Split`: Text splitters break large Documents into smaller chunks. This is useful both for indexing data and passing it into a model, as large chunks are harder to search over and won't fit in a model's finite context window.\n",
        "3. `Store`: We need somewhere to store and index our splits, so that they can be searched over later. This is often done using a VectorStore and Embeddings model."
      ],
      "metadata": {
        "id": "k72blPzJMMBm"
      }
    },
    {
      "cell_type": "markdown",
      "source": [
        "![](https://python.langchain.com/assets/images/rag_indexing-8160f90a90a33253d0154659cf7d453f.png)"
      ],
      "metadata": {
        "id": "VKtauY9AMYeV"
      }
    },
    {
      "cell_type": "markdown",
      "source": [
        "## Retrieval and generation"
      ],
      "metadata": {
        "id": "zjOno6HmMe6D"
      }
    },
    {
      "cell_type": "markdown",
      "source": [
        "4. `Retrieve`: Given a user input, relevant splits are retrieved from storage using a Retriever.\n",
        "5. `Generate`: A ChatModel / LLM produces an answer using a prompt that includes both the question with the retrieved data"
      ],
      "metadata": {
        "id": "gqsiJutbMi1o"
      }
    },
    {
      "cell_type": "markdown",
      "source": [
        "![](https://python.langchain.com/assets/images/rag_retrieval_generation-1046a4668d6bb08786ef73c56d4f228a.png)"
      ],
      "metadata": {
        "id": "Hwn8q_ewMoKQ"
      }
    },
    {
      "cell_type": "markdown",
      "source": [
        "# Installation"
      ],
      "metadata": {
        "id": "iRF5GHofMwBo"
      }
    },
    {
      "cell_type": "code",
      "source": [
        "!pip install -U  langchain-text-splitters langchain-community langgraph langchain-openai"
      ],
      "metadata": {
        "colab": {
          "base_uri": "https://localhost:8080/"
        },
        "id": "PSSspq7BLSZP",
        "outputId": "d7de0799-3ecc-4f07-d0be-38b30645758f"
      },
      "execution_count": 3,
      "outputs": [
        {
          "output_type": "stream",
          "name": "stdout",
          "text": [
            "Requirement already satisfied: langchain-text-splitters in /usr/local/lib/python3.11/dist-packages (0.3.6)\n",
            "Collecting langchain-community\n",
            "  Downloading langchain_community-0.3.17-py3-none-any.whl.metadata (2.4 kB)\n",
            "Collecting langgraph\n",
            "  Downloading langgraph-0.2.72-py3-none-any.whl.metadata (17 kB)\n",
            "Collecting langchain-openai\n",
            "  Downloading langchain_openai-0.3.5-py3-none-any.whl.metadata (2.3 kB)\n",
            "Requirement already satisfied: langchain-core<1.0.0,>=0.3.34 in /usr/local/lib/python3.11/dist-packages (from langchain-text-splitters) (0.3.35)\n",
            "Requirement already satisfied: langchain<1.0.0,>=0.3.18 in /usr/local/lib/python3.11/dist-packages (from langchain-community) (0.3.18)\n",
            "Requirement already satisfied: SQLAlchemy<3,>=1.4 in /usr/local/lib/python3.11/dist-packages (from langchain-community) (2.0.38)\n",
            "Requirement already satisfied: requests<3,>=2 in /usr/local/lib/python3.11/dist-packages (from langchain-community) (2.32.3)\n",
            "Requirement already satisfied: PyYAML>=5.3 in /usr/local/lib/python3.11/dist-packages (from langchain-community) (6.0.2)\n",
            "Requirement already satisfied: aiohttp<4.0.0,>=3.8.3 in /usr/local/lib/python3.11/dist-packages (from langchain-community) (3.11.12)\n",
            "Requirement already satisfied: tenacity!=8.4.0,<10,>=8.1.0 in /usr/local/lib/python3.11/dist-packages (from langchain-community) (9.0.0)\n",
            "Collecting dataclasses-json<0.7,>=0.5.7 (from langchain-community)\n",
            "  Downloading dataclasses_json-0.6.7-py3-none-any.whl.metadata (25 kB)\n",
            "Collecting pydantic-settings<3.0.0,>=2.4.0 (from langchain-community)\n",
            "  Downloading pydantic_settings-2.7.1-py3-none-any.whl.metadata (3.5 kB)\n",
            "Requirement already satisfied: langsmith<0.4,>=0.1.125 in /usr/local/lib/python3.11/dist-packages (from langchain-community) (0.3.8)\n",
            "Collecting httpx-sse<1.0.0,>=0.4.0 (from langchain-community)\n",
            "  Downloading httpx_sse-0.4.0-py3-none-any.whl.metadata (9.0 kB)\n",
            "Requirement already satisfied: numpy<2,>=1.26.4 in /usr/local/lib/python3.11/dist-packages (from langchain-community) (1.26.4)\n",
            "Collecting langgraph-checkpoint<3.0.0,>=2.0.10 (from langgraph)\n",
            "  Downloading langgraph_checkpoint-2.0.15-py3-none-any.whl.metadata (4.6 kB)\n",
            "Collecting langgraph-sdk<0.2.0,>=0.1.42 (from langgraph)\n",
            "  Downloading langgraph_sdk-0.1.51-py3-none-any.whl.metadata (1.8 kB)\n",
            "Requirement already satisfied: openai<2.0.0,>=1.58.1 in /usr/local/lib/python3.11/dist-packages (from langchain-openai) (1.61.1)\n",
            "Collecting tiktoken<1,>=0.7 (from langchain-openai)\n",
            "  Downloading tiktoken-0.9.0-cp311-cp311-manylinux_2_17_x86_64.manylinux2014_x86_64.whl.metadata (6.7 kB)\n",
            "Requirement already satisfied: aiohappyeyeballs>=2.3.0 in /usr/local/lib/python3.11/dist-packages (from aiohttp<4.0.0,>=3.8.3->langchain-community) (2.4.6)\n",
            "Requirement already satisfied: aiosignal>=1.1.2 in /usr/local/lib/python3.11/dist-packages (from aiohttp<4.0.0,>=3.8.3->langchain-community) (1.3.2)\n",
            "Requirement already satisfied: attrs>=17.3.0 in /usr/local/lib/python3.11/dist-packages (from aiohttp<4.0.0,>=3.8.3->langchain-community) (25.1.0)\n",
            "Requirement already satisfied: frozenlist>=1.1.1 in /usr/local/lib/python3.11/dist-packages (from aiohttp<4.0.0,>=3.8.3->langchain-community) (1.5.0)\n",
            "Requirement already satisfied: multidict<7.0,>=4.5 in /usr/local/lib/python3.11/dist-packages (from aiohttp<4.0.0,>=3.8.3->langchain-community) (6.1.0)\n",
            "Requirement already satisfied: propcache>=0.2.0 in /usr/local/lib/python3.11/dist-packages (from aiohttp<4.0.0,>=3.8.3->langchain-community) (0.2.1)\n",
            "Requirement already satisfied: yarl<2.0,>=1.17.0 in /usr/local/lib/python3.11/dist-packages (from aiohttp<4.0.0,>=3.8.3->langchain-community) (1.18.3)\n",
            "Collecting marshmallow<4.0.0,>=3.18.0 (from dataclasses-json<0.7,>=0.5.7->langchain-community)\n",
            "  Downloading marshmallow-3.26.1-py3-none-any.whl.metadata (7.3 kB)\n",
            "Collecting typing-inspect<1,>=0.4.0 (from dataclasses-json<0.7,>=0.5.7->langchain-community)\n",
            "  Downloading typing_inspect-0.9.0-py3-none-any.whl.metadata (1.5 kB)\n",
            "Requirement already satisfied: pydantic<3.0.0,>=2.7.4 in /usr/local/lib/python3.11/dist-packages (from langchain<1.0.0,>=0.3.18->langchain-community) (2.10.6)\n",
            "Requirement already satisfied: jsonpatch<2.0,>=1.33 in /usr/local/lib/python3.11/dist-packages (from langchain-core<1.0.0,>=0.3.34->langchain-text-splitters) (1.33)\n",
            "Requirement already satisfied: packaging<25,>=23.2 in /usr/local/lib/python3.11/dist-packages (from langchain-core<1.0.0,>=0.3.34->langchain-text-splitters) (24.2)\n",
            "Requirement already satisfied: typing-extensions>=4.7 in /usr/local/lib/python3.11/dist-packages (from langchain-core<1.0.0,>=0.3.34->langchain-text-splitters) (4.12.2)\n",
            "Requirement already satisfied: msgpack<2.0.0,>=1.1.0 in /usr/local/lib/python3.11/dist-packages (from langgraph-checkpoint<3.0.0,>=2.0.10->langgraph) (1.1.0)\n",
            "Requirement already satisfied: httpx>=0.25.2 in /usr/local/lib/python3.11/dist-packages (from langgraph-sdk<0.2.0,>=0.1.42->langgraph) (0.28.1)\n",
            "Requirement already satisfied: orjson>=3.10.1 in /usr/local/lib/python3.11/dist-packages (from langgraph-sdk<0.2.0,>=0.1.42->langgraph) (3.10.15)\n",
            "Requirement already satisfied: requests-toolbelt<2.0.0,>=1.0.0 in /usr/local/lib/python3.11/dist-packages (from langsmith<0.4,>=0.1.125->langchain-community) (1.0.0)\n",
            "Requirement already satisfied: zstandard<0.24.0,>=0.23.0 in /usr/local/lib/python3.11/dist-packages (from langsmith<0.4,>=0.1.125->langchain-community) (0.23.0)\n",
            "Requirement already satisfied: anyio<5,>=3.5.0 in /usr/local/lib/python3.11/dist-packages (from openai<2.0.0,>=1.58.1->langchain-openai) (3.7.1)\n",
            "Requirement already satisfied: distro<2,>=1.7.0 in /usr/local/lib/python3.11/dist-packages (from openai<2.0.0,>=1.58.1->langchain-openai) (1.9.0)\n",
            "Requirement already satisfied: jiter<1,>=0.4.0 in /usr/local/lib/python3.11/dist-packages (from openai<2.0.0,>=1.58.1->langchain-openai) (0.8.2)\n",
            "Requirement already satisfied: sniffio in /usr/local/lib/python3.11/dist-packages (from openai<2.0.0,>=1.58.1->langchain-openai) (1.3.1)\n",
            "Requirement already satisfied: tqdm>4 in /usr/local/lib/python3.11/dist-packages (from openai<2.0.0,>=1.58.1->langchain-openai) (4.67.1)\n",
            "Collecting python-dotenv>=0.21.0 (from pydantic-settings<3.0.0,>=2.4.0->langchain-community)\n",
            "  Downloading python_dotenv-1.0.1-py3-none-any.whl.metadata (23 kB)\n",
            "Requirement already satisfied: charset-normalizer<4,>=2 in /usr/local/lib/python3.11/dist-packages (from requests<3,>=2->langchain-community) (3.4.1)\n",
            "Requirement already satisfied: idna<4,>=2.5 in /usr/local/lib/python3.11/dist-packages (from requests<3,>=2->langchain-community) (3.10)\n",
            "Requirement already satisfied: urllib3<3,>=1.21.1 in /usr/local/lib/python3.11/dist-packages (from requests<3,>=2->langchain-community) (2.3.0)\n",
            "Requirement already satisfied: certifi>=2017.4.17 in /usr/local/lib/python3.11/dist-packages (from requests<3,>=2->langchain-community) (2025.1.31)\n",
            "Requirement already satisfied: greenlet!=0.4.17 in /usr/local/lib/python3.11/dist-packages (from SQLAlchemy<3,>=1.4->langchain-community) (3.1.1)\n",
            "Requirement already satisfied: regex>=2022.1.18 in /usr/local/lib/python3.11/dist-packages (from tiktoken<1,>=0.7->langchain-openai) (2024.11.6)\n",
            "Requirement already satisfied: httpcore==1.* in /usr/local/lib/python3.11/dist-packages (from httpx>=0.25.2->langgraph-sdk<0.2.0,>=0.1.42->langgraph) (1.0.7)\n",
            "Requirement already satisfied: h11<0.15,>=0.13 in /usr/local/lib/python3.11/dist-packages (from httpcore==1.*->httpx>=0.25.2->langgraph-sdk<0.2.0,>=0.1.42->langgraph) (0.14.0)\n",
            "Requirement already satisfied: jsonpointer>=1.9 in /usr/local/lib/python3.11/dist-packages (from jsonpatch<2.0,>=1.33->langchain-core<1.0.0,>=0.3.34->langchain-text-splitters) (3.0.0)\n",
            "Requirement already satisfied: annotated-types>=0.6.0 in /usr/local/lib/python3.11/dist-packages (from pydantic<3.0.0,>=2.7.4->langchain<1.0.0,>=0.3.18->langchain-community) (0.7.0)\n",
            "Requirement already satisfied: pydantic-core==2.27.2 in /usr/local/lib/python3.11/dist-packages (from pydantic<3.0.0,>=2.7.4->langchain<1.0.0,>=0.3.18->langchain-community) (2.27.2)\n",
            "Collecting mypy-extensions>=0.3.0 (from typing-inspect<1,>=0.4.0->dataclasses-json<0.7,>=0.5.7->langchain-community)\n",
            "  Downloading mypy_extensions-1.0.0-py3-none-any.whl.metadata (1.1 kB)\n",
            "Downloading langchain_community-0.3.17-py3-none-any.whl (2.5 MB)\n",
            "\u001b[2K   \u001b[90m━━━━━━━━━━━━━━━━━━━━━━━━━━━━━━━━━━━━━━━━\u001b[0m \u001b[32m2.5/2.5 MB\u001b[0m \u001b[31m43.5 MB/s\u001b[0m eta \u001b[36m0:00:00\u001b[0m\n",
            "\u001b[?25hDownloading langgraph-0.2.72-py3-none-any.whl (150 kB)\n",
            "\u001b[2K   \u001b[90m━━━━━━━━━━━━━━━━━━━━━━━━━━━━━━━━━━━━━━━━\u001b[0m \u001b[32m150.2/150.2 kB\u001b[0m \u001b[31m12.8 MB/s\u001b[0m eta \u001b[36m0:00:00\u001b[0m\n",
            "\u001b[?25hDownloading langchain_openai-0.3.5-py3-none-any.whl (54 kB)\n",
            "\u001b[2K   \u001b[90m━━━━━━━━━━━━━━━━━━━━━━━━━━━━━━━━━━━━━━━━\u001b[0m \u001b[32m55.0/55.0 kB\u001b[0m \u001b[31m4.3 MB/s\u001b[0m eta \u001b[36m0:00:00\u001b[0m\n",
            "\u001b[?25hDownloading dataclasses_json-0.6.7-py3-none-any.whl (28 kB)\n",
            "Downloading httpx_sse-0.4.0-py3-none-any.whl (7.8 kB)\n",
            "Downloading langgraph_checkpoint-2.0.15-py3-none-any.whl (38 kB)\n",
            "Downloading langgraph_sdk-0.1.51-py3-none-any.whl (44 kB)\n",
            "\u001b[2K   \u001b[90m━━━━━━━━━━━━━━━━━━━━━━━━━━━━━━━━━━━━━━━━\u001b[0m \u001b[32m44.7/44.7 kB\u001b[0m \u001b[31m3.2 MB/s\u001b[0m eta \u001b[36m0:00:00\u001b[0m\n",
            "\u001b[?25hDownloading pydantic_settings-2.7.1-py3-none-any.whl (29 kB)\n",
            "Downloading tiktoken-0.9.0-cp311-cp311-manylinux_2_17_x86_64.manylinux2014_x86_64.whl (1.2 MB)\n",
            "\u001b[2K   \u001b[90m━━━━━━━━━━━━━━━━━━━━━━━━━━━━━━━━━━━━━━━━\u001b[0m \u001b[32m1.2/1.2 MB\u001b[0m \u001b[31m55.5 MB/s\u001b[0m eta \u001b[36m0:00:00\u001b[0m\n",
            "\u001b[?25hDownloading marshmallow-3.26.1-py3-none-any.whl (50 kB)\n",
            "\u001b[2K   \u001b[90m━━━━━━━━━━━━━━━━━━━━━━━━━━━━━━━━━━━━━━━━\u001b[0m \u001b[32m50.9/50.9 kB\u001b[0m \u001b[31m4.0 MB/s\u001b[0m eta \u001b[36m0:00:00\u001b[0m\n",
            "\u001b[?25hDownloading python_dotenv-1.0.1-py3-none-any.whl (19 kB)\n",
            "Downloading typing_inspect-0.9.0-py3-none-any.whl (8.8 kB)\n",
            "Downloading mypy_extensions-1.0.0-py3-none-any.whl (4.7 kB)\n",
            "Installing collected packages: python-dotenv, mypy-extensions, marshmallow, httpx-sse, typing-inspect, tiktoken, pydantic-settings, langgraph-sdk, dataclasses-json, langgraph-checkpoint, langchain-openai, langgraph, langchain-community\n",
            "Successfully installed dataclasses-json-0.6.7 httpx-sse-0.4.0 langchain-community-0.3.17 langchain-openai-0.3.5 langgraph-0.2.72 langgraph-checkpoint-2.0.15 langgraph-sdk-0.1.51 marshmallow-3.26.1 mypy-extensions-1.0.0 pydantic-settings-2.7.1 python-dotenv-1.0.1 tiktoken-0.9.0 typing-inspect-0.9.0\n"
          ]
        }
      ]
    },
    {
      "cell_type": "code",
      "source": [
        "!pip show langchain langgraph langchain_openai"
      ],
      "metadata": {
        "colab": {
          "base_uri": "https://localhost:8080/"
        },
        "id": "srdRCI3HNVLy",
        "outputId": "3d989139-8993-44d7-cefd-c4d4bfa4d7e1"
      },
      "execution_count": null,
      "outputs": [
        {
          "output_type": "stream",
          "name": "stdout",
          "text": [
            "Name: langchain\n",
            "Version: 0.3.18\n",
            "Summary: Building applications with LLMs through composability\n",
            "Home-page: \n",
            "Author: \n",
            "Author-email: \n",
            "License: MIT\n",
            "Location: /usr/local/lib/python3.11/dist-packages\n",
            "Requires: aiohttp, langchain-core, langchain-text-splitters, langsmith, numpy, pydantic, PyYAML, requests, SQLAlchemy, tenacity\n",
            "Required-by: langchain-community\n",
            "---\n",
            "Name: langgraph\n",
            "Version: 0.2.72\n",
            "Summary: Building stateful, multi-actor applications with LLMs\n",
            "Home-page: https://www.github.com/langchain-ai/langgraph\n",
            "Author: \n",
            "Author-email: \n",
            "License: MIT\n",
            "Location: /usr/local/lib/python3.11/dist-packages\n",
            "Requires: langchain-core, langgraph-checkpoint, langgraph-sdk\n",
            "Required-by: \n",
            "---\n",
            "Name: langchain-openai\n",
            "Version: 0.3.5\n",
            "Summary: An integration package connecting OpenAI and LangChain\n",
            "Home-page: \n",
            "Author: \n",
            "Author-email: \n",
            "License: MIT\n",
            "Location: /usr/local/lib/python3.11/dist-packages\n",
            "Requires: langchain-core, openai, tiktoken\n",
            "Required-by: \n"
          ]
        }
      ]
    },
    {
      "cell_type": "markdown",
      "source": [
        "# 1.Indexing"
      ],
      "metadata": {
        "id": "CtgdAc19NUlq"
      }
    },
    {
      "cell_type": "markdown",
      "source": [
        "## 1.1.Loading documents"
      ],
      "metadata": {
        "id": "f54iCUGyUBQF"
      }
    },
    {
      "cell_type": "markdown",
      "source": [
        "We need to first load the blog post contents. We can use `DocumentLoaders` for this, which are objects that load in data from a source and return a list of `Document` objects.\n",
        "\n",
        "In this case we’ll use the `WebBaseLoader`, which uses urllib to load HTML from web URLs and BeautifulSoup to parse it to text."
      ],
      "metadata": {
        "id": "0K_mBuF2WNI3"
      }
    },
    {
      "cell_type": "code",
      "source": [
        "import bs4\n",
        "from langchain_community.document_loaders import WebBaseLoader\n",
        "\n",
        "# Load and chunk contents of the blog\n",
        "loader = WebBaseLoader(\n",
        "    web_paths=(\"https://lilianweng.github.io/posts/2023-06-23-agent/\",),\n",
        "    bs_kwargs=dict(\n",
        "        # Only keep post title, headers, and content from the full HTML.\n",
        "        parse_only=bs4.SoupStrainer(\n",
        "            class_=(\"post-content\", \"post-title\", \"post-header\")\n",
        "        )\n",
        "    ),\n",
        ")\n",
        "\n",
        "docs = loader.load()\n",
        "print(f\"Total characters: {len(docs[0].page_content)}\")"
      ],
      "metadata": {
        "colab": {
          "base_uri": "https://localhost:8080/"
        },
        "id": "HEeKRNMqU244",
        "outputId": "1ac1f648-065f-4720-9587-3bbf7113538c"
      },
      "execution_count": null,
      "outputs": [
        {
          "output_type": "stream",
          "name": "stdout",
          "text": [
            "Total characters: 43130\n"
          ]
        }
      ]
    },
    {
      "cell_type": "markdown",
      "source": [
        "## 1.2.Splitting documents"
      ],
      "metadata": {
        "id": "S1tFT4psUEZ9"
      }
    },
    {
      "cell_type": "markdown",
      "source": [
        "Our loaded document is over 42k characters which is too long to fit into the context window of many models. Even for those models that could fit the full post in their context window, models can struggle to find information in very long inputs.\n",
        "\n",
        "To handle this we’ll split the `Document` into chunks for `embedding` and `vector storage`. This should help us retrieve only the most relevant parts of the blog post at run time."
      ],
      "metadata": {
        "id": "WivcrLRPW_B6"
      }
    },
    {
      "cell_type": "code",
      "source": [
        "import bs4\n",
        "from langchain_community.document_loaders import WebBaseLoader\n",
        "from langchain_text_splitters import RecursiveCharacterTextSplitter\n",
        "\n",
        "# 1.Loading documents\n",
        "loader = WebBaseLoader(\n",
        "    web_paths=(\"https://lilianweng.github.io/posts/2023-06-23-agent/\",),\n",
        "    bs_kwargs=dict(\n",
        "        # Only keep post title, headers, and content from the full HTML.\n",
        "        parse_only=bs4.SoupStrainer(\n",
        "            class_=(\"post-content\", \"post-title\", \"post-header\")\n",
        "        )\n",
        "    ),\n",
        ")\n",
        "docs = loader.load()\n",
        "\n",
        "# 2.Splitting documents\n",
        "text_splitter = RecursiveCharacterTextSplitter(\n",
        "    chunk_size=1000,  # chunk size (characters)\n",
        "    chunk_overlap=200,  # chunk overlap (characters)\n",
        "    add_start_index=True,  # track index in original document\n",
        ")\n",
        "all_splits = text_splitter.split_documents(docs)\n",
        "print(f\"Split blog post into {len(all_splits)} sub-documents.\")"
      ],
      "metadata": {
        "colab": {
          "base_uri": "https://localhost:8080/"
        },
        "id": "3TX4G5naXP70",
        "outputId": "2f4cf6e3-eca9-43dd-c560-f618d9361ca1"
      },
      "execution_count": null,
      "outputs": [
        {
          "output_type": "stream",
          "name": "stdout",
          "text": [
            "Split blog post into 66 sub-documents.\n"
          ]
        }
      ]
    },
    {
      "cell_type": "markdown",
      "source": [
        "## 1.3.Storing documents"
      ],
      "metadata": {
        "id": "gbiGTNyyUK7l"
      }
    },
    {
      "cell_type": "markdown",
      "source": [
        "Now we need to index our 66 text chunks so that we can search over them at runtime. Following the semantic search tutorial, our approach is to `embed` the contents of each document split and insert these `embeddings` into a `vector store`. Given an input query, we can then use vector search to retrieve relevant documents."
      ],
      "metadata": {
        "id": "HWGyhViuYOd1"
      }
    },
    {
      "cell_type": "code",
      "source": [
        "import bs4\n",
        "from langchain_community.document_loaders import WebBaseLoader\n",
        "from langchain_text_splitters import RecursiveCharacterTextSplitter\n",
        "from langchain_openai import OpenAIEmbeddings\n",
        "from langchain_core.vectorstores import InMemoryVectorStore\n",
        "from google.colab import userdata\n",
        "\n",
        "# 1.Loading documents\n",
        "loader = WebBaseLoader(\n",
        "    web_paths=(\"https://lilianweng.github.io/posts/2023-06-23-agent/\",),\n",
        "    bs_kwargs=dict(\n",
        "        # Only keep post title, headers, and content from the full HTML.\n",
        "        parse_only=bs4.SoupStrainer(\n",
        "            class_=(\"post-content\", \"post-title\", \"post-header\")\n",
        "        )\n",
        "    ),\n",
        ")\n",
        "docs = loader.load()\n",
        "\n",
        "# 2.Splitting documents\n",
        "text_splitter = RecursiveCharacterTextSplitter(\n",
        "    chunk_size=1000,  # chunk size (characters)\n",
        "    chunk_overlap=200,  # chunk overlap (characters)\n",
        "    add_start_index=True,  # track index in original document\n",
        ")\n",
        "all_splits = text_splitter.split_documents(docs)\n",
        "\n",
        "# 3.Storing documents\n",
        "embeddings = OpenAIEmbeddings(\n",
        "    model=\"text-embedding-3-large\",\n",
        "    openai_api_key=userdata.get('OPENAI_API_KEY'),\n",
        "    base_url=userdata.get('BASE_URL'),\n",
        ")\n",
        "vector_store = InMemoryVectorStore(embeddings)\n",
        "document_ids = vector_store.add_documents(documents=all_splits)\n",
        "\n",
        "# Ouput\n",
        "print(document_ids[:3],'\\n')\n",
        "for doc in vector_store.store.values():\n",
        "  print(doc)\n",
        "  break"
      ],
      "metadata": {
        "colab": {
          "base_uri": "https://localhost:8080/"
        },
        "id": "n6QAGR0FY7hR",
        "outputId": "8047c0da-7bea-4fac-aa70-4c3e10072d2d"
      },
      "execution_count": 22,
      "outputs": [
        {
          "output_type": "stream",
          "name": "stdout",
          "text": [
            "['fe12f70d-071f-441d-b291-9d7e42d4a120', 'a86b8397-57fe-46d8-88e3-f3f4a67a0dd1', '13477d5e-c2fb-45b9-bb24-e5dfc95b838f'] \n",
            "\n",
            "{'id': 'fe12f70d-071f-441d-b291-9d7e42d4a120', 'vector': [-0.004727883730083704, -0.014942447654902935, -0.01796206645667553, -0.03346485644578934, 0.0010341029847040772, 0.012319736182689667, 0.011237965896725655, 0.036920297890901566, -0.014016326516866684, 0.033371467143297195, 0.022366976365447044, 0.022460365667939186, 0.0019018544116988778, -0.022460365667939186, 0.009471332654356956, 0.03558170422911644, -0.020623689517378807, 0.003480734070762992, -0.015697352588176727, -0.03386954590678215, -0.008086043410003185, 4.1420662455493584e-07, -0.0266006700694561, 0.02331644296646118, 0.01902049034833908, -0.015938609838485718, 0.02462390810251236, 0.01844458281993866, -0.03159705176949501, 0.023145228624343872, 0.032624341547489166, 0.007891479879617691, 0.014732318930327892, -0.022008979693055153, 0.0028328390326350927, -0.033278074115514755, 0.021137336269021034, 0.015440529212355614, 0.0062065632082521915, 0.02133968286216259, 0.02453051693737507, 0.009385724551975727, -0.034149717539548874, -0.031706005334854126, 0.02085716649889946, 0.0007412854465655982, -0.018413452431559563, -0.02235141023993492, -0.009883806109428406, -0.022382540628314018, -0.006642384920269251, -0.047255489975214005, 0.06643162667751312, -0.030336281284689903, -4.715115574072115e-05, -0.0006649194401688874, 0.029916023835539818, -0.011432528495788574, 0.005019728560000658, -0.003613037057220936, 0.007650221697986126, -0.030118370428681374, -0.04632158577442169, -0.012553212232887745, -0.005856349598616362, -0.00894212070852518, -0.014444366097450256, 0.03221965208649635, 0.0016810253728181124, -0.00012421638530213386, -0.008576341904699802, 0.02221132442355156, -0.01651451736688614, -0.04906103387475014, 0.019004926085472107, 0.010903317481279373, 0.008856512606143951, 0.037480637431144714, 0.00964254792779684, -0.024374866858124733, 0.012607689946889877, 0.0169192086905241, 0.017759721726179123, -0.008132738061249256, 0.09170927107334137, 0.004941903054714203, 0.03176826611161232, -0.07433867454528809, 0.029869329184293747, 0.004583906847983599, -0.011985087767243385, 0.02611815184354782, -0.004362104926258326, 0.0006979951867833734, -0.009837111458182335, -0.018849274143576622, 0.002017619553953409, -0.021900024265050888, 0.0009908126667141914, -0.0031947263050824404, 0.003646112745627761, -0.0115492669865489, -0.017806416377425194, -0.013245857320725918, 0.003290062304586172, -0.02554224617779255, -0.010397452861070633, 0.0031597050838172436, 0.009253421798348427, 0.07564613968133926, -0.02435930259525776, -0.03343372419476509, -0.038445670157670975, 0.015370486304163933, -0.019736481830477715, -0.011634874157607555, -0.034336499869823456, -0.06923333555459976, 0.01743285544216633, -0.03125461935997009, -0.0028056001756340265, 0.021106207743287086, 0.016716862097382545, -0.03720046952366829, -0.02896655723452568, 0.05528705567121506, 0.007015945855528116, -0.008638602681457996, 0.005766850896179676, 0.002179106930270791, -0.0309277530759573, 0.022024543955922127, -0.041340772062540054, 0.032530952244997025, -0.021433072164654732, -0.0016567049315199256, -0.0063622137531638145, -0.011494789272546768, 0.04554333537817001, -0.0037647963035851717, -0.010109499096870422, -0.04744226858019829, -0.01593082770705223, -0.01583743840456009, 0.020001089200377464, 0.004541103262454271, -0.014537756331264973, 0.035083621740341187, -0.030133934691548347, 0.003852349705994129, -0.03754289820790291, 0.027799177914857864, -6.548265082528815e-05, 0.0018872622167691588, -0.018740318715572357, -0.0054905712604522705, -0.017199380323290825, 0.02730109728872776, -0.009603635407984257, 0.03386954590678215, 0.002865914721041918, -0.024001305922865868, 0.010669841431081295, 0.03567509353160858, 0.02677188441157341, 0.012553212232887745, 0.008335083723068237, 0.006564559414982796, -0.06437704712152481, 0.031706005334854126, -0.01320694386959076, 0.014794579707086086, 0.012109608389437199, -0.02479512430727482, 0.03418084979057312, -0.006794143933802843, 0.016576778143644333, 0.033589377999305725, -0.004544994328171015, 0.022802798077464104, -0.012490952387452126, 0.029075512662529945, 0.038321152329444885, 0.05422862991690636, 0.033060163259506226, 0.034243106842041016, 0.07676682621240616, 0.005081988405436277, 0.015526136383414268, -0.007408963516354561, -0.034554410725831985, -0.006883643101900816, 0.01979874260723591, -0.03421197831630707, -0.013004599139094353, -0.03133244439959526, -0.0032180738635361195, 0.019487442448735237, -0.04180772230029106, -0.005918609909713268, -0.002922337967902422, -0.04202563315629959, -0.009416854940354824, 0.026273803785443306, 0.019425181671977043, 0.00775528559461236, -0.02247593179345131, -0.003906827419996262, 0.006871969439089298, -0.04009556770324707, 0.029760373756289482, -0.008117172867059708, -0.042617104947566986, -0.027659092098474503, -0.005327138118445873, -0.0198921337723732, 0.000314462638925761, 0.008358431048691273, 0.02081046998500824, -0.00916003156453371, 0.0023055728524923325, 0.009891589172184467, 0.033060163259506226, 0.009673678316175938, -0.0360175222158432, -0.005393289495259523, -0.006622928660362959, 0.002523483708500862, -0.0022588777355849743, -0.018039891496300697, -0.009167813695967197, 0.04115398973226547, 0.04766017943620682, 0.004595580976456404, 0.020514734089374542, 0.017853111028671265, 0.020265694707632065, -0.0014086369192227721, -0.004677297081798315, 0.018039891496300697, 0.010506408289074898, -0.032095130532979965, -0.006272715050727129, -0.022008979693055153, 0.025557810440659523, -0.022024543955922127, 0.009821546263992786, 0.018958229571580887, 0.032966773957014084, 0.018086588010191917, -0.0008118146215565503, 0.017121553421020508, -0.0006736748036928475, -0.020032217726111412, -0.018958229571580887, 0.006560668349266052, 0.047473400831222534, -0.031534790992736816, -0.001153759309090674, 0.0028620234224945307, 0.01839788816869259, -0.02025012858211994, 0.03405632823705673, 0.06169985607266426, -0.033589377999305725, -0.02993158996105194, 0.0370759479701519, 0.014498843811452389, 0.008047130890190601, -0.0037395029794424772, -0.012942338362336159, -0.017541810870170593, -0.011728264391422272, 0.02913777157664299, -0.009043294005095959, -0.042866144329309464, 0.0041013904847204685, 0.007156031206250191, 0.018071021884679794, 0.009253421798348427, 0.012062912806868553, -0.05522479489445686, 0.025666765868663788, 0.010537538677453995, -0.021573157981038094, -0.014887969940900803, -0.014288715086877346, -0.032406434416770935, -0.055971916764974594, 0.023518789559602737, -0.014117499813437462, 0.0344298891723156, 0.005953631363809109, -0.00992271862924099, 0.04342648759484291, 0.0009227155824191868, 0.033153556287288666, 0.0070237284526228905, 0.01134692132472992, 0.005848567467182875, 0.0051286835223436356, -0.008311736397445202, 0.007992653176188469, -0.019783178344368935, -0.0157129168510437, 0.024732863530516624, -0.002363941865041852, 0.02037465013563633, -0.026009198278188705, 0.021962285041809082, 0.045325424522161484, -0.013222509063780308, -0.016281042248010635, 0.004996380768716335, 0.010459712706506252, 0.07334250956773758, 0.02116846665740013, -0.013121336698532104, -0.01270886231213808, -0.018895970657467842, 0.022008979693055153, 0.005731829442083836, -0.057995375245809555, 0.024592777714133263, 0.007572396658360958, -0.003834838978946209, 0.02102838084101677, 0.007576287724077702, -0.02831282466650009, 0.006471169181168079, -0.04912329465150833, -0.009284552186727524, -0.026585103943943977, -0.01516035757958889, -0.010031674057245255, -0.048531822860240936, -0.03281112387776375, 0.04174546152353287, -0.012903425842523575, -0.008070478215813637, -0.009518027305603027, -0.043270837515592575, -0.0037978719919919968, -0.03486571088433266, -0.0032842254731804132, -0.02756570279598236, -0.04271049425005913, 0.01709042489528656, 0.010918881744146347, 0.05114675313234329, 0.0010049184784293175, -0.023300878703594208, 0.031130097806453705, -0.007113227620720863, 6.3233012042474e-05, -0.036826904863119125, 0.023549919947981834, 0.0017102097626775503, -0.07128792256116867, 0.04594802483916283, 0.043831177055835724, -0.033309206366539, -0.02488851360976696, 0.010630928911268711, -0.03486571088433266, -0.037667419761419296, 0.0007495544268749654, -0.013619418255984783, 0.0020857166964560747, 0.023643309250473976, 0.011845002882182598, 0.032188523560762405, 0.014358757995069027, -0.006798035465180874, 0.008482951670885086, -0.013105771504342556, 0.033184684813022614, -0.01586078479886055, -0.011385833844542503, 0.04074930027127266, 0.02305183745920658, 0.007245530374348164, -0.015261530876159668, 0.01810215227305889, -0.012117390520870686, -0.008342866785824299, 0.0031811068765819073, -0.03567509353160858, 0.03164374455809593, 0.028094913810491562, -0.0016372486716136336, -0.016000870615243912, -0.04551220312714577, -0.01677912287414074, 0.027425616979599, 0.021184032782912254, 0.03265547379851341, -0.015168140642344952, -0.0032316932920366526, -0.01573626510798931, -0.02527764067053795, 0.005229856353253126, 0.03785419836640358, 0.009619200602173805, -0.031223488971590996, -0.024437127634882927, 0.019907698035240173, -0.0327799953520298, -0.005731829442083836, 0.004564450588077307, -0.001304545672610402, -0.033153556287288666, -0.05292116850614548, -0.02708318643271923, 0.03776080906391144, 0.02225802093744278, -0.025121988728642464, 0.026320498436689377, -0.006860295310616493, 0.007926501333713531, -0.016545647755265236, 0.029386812821030617, 0.029215596616268158, 0.036484476178884506, -0.06300731748342514, 0.023425398394465446, 0.026149282231926918, 0.005941957700997591, -0.050150588154792786, -0.03695142641663551, 0.026927534490823746, 0.014849057421088219, 0.03080323338508606, -0.03589300438761711, -0.028141608461737633, -0.04713096842169762, -0.008623037487268448, 0.020343519747257233, -0.006965359672904015, 0.0019164467230439186, 0.005957522429525852, 0.0015662331134080887, -0.008669732138514519, -0.024079130962491035, -0.061014994978904724, -0.007599635515362024, -0.0012870350619778037, 0.012343084439635277, 0.014794579707086086, -0.0250130333006382, -0.04093607887625694, 0.009556939825415611, -0.058742497116327286, 0.011051185429096222, 0.045200902968645096, 0.013347029685974121, 0.03130131587386131, -0.010739884339272976, -0.015705134719610214, -0.02358105033636093, 0.02537102997303009, 0.0010088097769767046, 0.009883806109428406, -0.012701080180704594, -0.001191699062474072, -0.003081879811361432, -0.033278074115514755, -0.022071240469813347, 0.020001089200377464, 0.016545647755265236, 0.03102114237844944, -0.004093607887625694, 0.02971367910504341, -0.010350758209824562, -0.02326974831521511, -0.007506244815886021, 0.004529429133981466, -0.030647581443190575, 0.00232697487808764, -0.012459821999073029, 0.019440745934844017, -0.009774850681424141, 0.011214617639780045, -0.04093607887625694, 0.010202890262007713, -0.001952440827153623, 0.03716933727264404, -0.00986045878380537, 0.004992489702999592, -0.019269531592726707, -0.05236082524061203, 0.023082967847585678, -0.00852186419069767, 0.002379506826400757, 0.0013434583088383079, -0.018382323905825615, 0.01139361597597599, -0.02032795362174511, 0.01209404319524765, 0.04554333537817001, -0.05304568633437157, 0.0077513945288956165, 0.006906990427523851, 0.021106207743287086, -0.006860295310616493, 0.03053862601518631, -0.022273585200309753, -0.02085716649889946, 0.0005506136221811175, -0.026958664879202843, -0.008373996242880821, -0.010008326731622219, 0.009533592499792576, -0.021261857822537422, 0.014771231450140476, -0.014203107915818691, 0.0006960495375096798, 0.004984707105904818, 0.0467262789607048, 0.025402160361409187, -0.005973087623715401, 0.015565048903226852, 0.007837002165615559, 0.022584887221455574, -0.010918881744146347, 0.018740318715572357, 0.013051293790340424, -0.02414139173924923, 0.010895534418523312, -0.009276769123971462, -0.02300514280796051, 0.02602476254105568, -0.007681351620703936, -0.007085988763719797, -0.02952689863741398, -0.011627092026174068, 0.01590747945010662, 0.018693624064326286, -0.006047021597623825, -0.004346540197730064, -0.013191379606723785, 0.035426050424575806, 0.005731829442083836, 0.02839064970612526, -0.009665895253419876, -0.02725440077483654, 0.04526316374540329, -0.018895970657467842, -0.01110566221177578, 0.004299845080822706, -0.023549919947981834, -0.0023016815539449453, -0.012810035608708858, 2.9868479032302275e-05, -0.02387678623199463, -0.005548940040171146, 0.012817817740142345, -0.016888078302145004, -0.047255489975214005, -0.00682527432218194, 0.013004599139094353, -0.0027880894485861063, -0.03723159804940224, 0.008265040814876556, 0.011074532754719257, -0.006887534167617559, 0.03947296366095543, 0.014950229786336422, 0.009494679979979992, 0.02194671891629696, -0.013954066671431065, 0.012405344285070896, -0.004591689445078373, -0.005700699519366026, 0.006366105284541845, 0.03000941500067711, -0.0239234808832407, 0.024297041818499565, -0.016841383650898933, -0.016156520694494247, 0.00552170118317008, -0.0038970992900431156, -0.0006021728622727096, 0.01699703373014927, 0.01651451736688614, 0.0025526680983603, -0.019051620736718178, -0.011004489846527576, 0.02397017553448677, -0.010483060963451862, 0.006836947984993458, 0.0053154644556343555, -0.004739557392895222, -0.02348765917122364, 0.00660347193479538, -0.017759721726179123, 0.01327698677778244, -0.00784478522837162, 0.019425181671977043, -0.06350540369749069, -0.014405453577637672, -0.013479332439601421, 0.020390214398503304, 0.008475169539451599, -0.017806416377425194, -0.015705134719610214, 0.013051293790340424, 0.027269966900348663, 0.0139774139970541, 0.0010097825434058905, 0.005078097339719534, 0.01687251403927803, 0.016498953104019165, -0.0015098097501322627, 0.019253965467214584, -0.026445018127560616, 0.004782361444085836, 0.001479652477428317, -0.0023094641510397196, -0.01182943768799305, 0.008008217439055443, -0.0054788971319794655, 0.014779014512896538, -0.02155759371817112, 0.0005632602260448039, 0.03362050652503967, 0.014646711759269238, -0.03944183513522148, 0.021526463329792023, 0.00794206652790308, -0.019534137099981308, 0.012584342621266842, -0.028203869238495827, -0.023067403584718704, -0.0004387398366816342, -0.0039029361214488745, -0.0022744429297745228, -0.008840948343276978, 0.02256932109594345, -0.008903208188712597, -0.042430322617292404, -0.0050236196257174015, -0.018086588010191917, 0.047566790133714676, -0.007918719202280045, -0.0005369941936805844, 0.008218346163630486, -0.00468897121027112, 0.021884460002183914, 0.00029938400257378817, 0.011432528495788574, 0.001337621477432549, 0.027487877756357193, 0.03162818029522896, -0.0030235107988119125, 0.002887316746637225, 0.009844893589615822, -0.01880257949233055, 0.006580124609172344, 0.028857601806521416, 0.01588413305580616, 0.004797926638275385, 0.009852676652371883, -0.001120683504268527, 0.012911207973957062, -0.006813600193709135, 0.013588287867605686, -0.0062571498565375805, 0.00016866190708242357, 0.0446094311773777, -0.00812495592981577, -0.014537756331264973, -0.020141173154115677, 0.011588179506361485, -0.003148031188175082, -0.0068291653878986835, 0.01810215227305889, 0.019207270815968513, -0.013152467086911201, 0.005401072092354298, -0.033371467143297195, -0.01056088600307703, 0.001933957333676517, -0.005953631363809109, -0.010350758209824562, -0.00039593593101017177, -0.04168320074677467, 0.0006595689919777215, -0.00615597702562809, 0.007319464348256588, -0.03523927181959152, 0.010934446938335896, 0.0068992082960903645, -0.0071404664777219296, 0.0059263925068080425, 0.024997469037771225, -0.017588505521416664, 0.012428691610693932, 0.03203286975622177, 0.0028270019683986902, -0.020701516419649124, 0.012739992700517178, -0.025884676724672318, 0.009813763201236725, 0.034461017698049545, -0.019689787179231644, -0.0032842254731804132, 0.015541701577603817, 0.003976869862526655, 0.025822415947914124, 0.0012111554387956858, 0.03486571088433266, -0.009837111458182335, -8.86478228494525e-05, 0.028779776766896248, 0.012327519245445728, 0.009183378890156746, -0.025448855012655258, -0.03408745676279068, 0.002846458461135626, -0.00472010113298893, 0.004642276093363762, -0.0030098913703113794, -0.042305804789066315, -0.035114750266075134, -0.008086043410003185, -0.01330033503472805, 0.015650657936930656, 0.00025414806441403925, -0.013533810153603554, 0.015697352588176727, -0.03483457863330841, -0.004599472042173147, 0.015603962354362011, 0.013113553635776043, -0.024156956002116203, 0.0032219651620835066, 0.022102370858192444, 0.004198672249913216, -0.027970394119620323, 0.041371900588274, 0.003980761393904686, 0.033309206366539, -0.032406434416770935, -0.02063925564289093, -0.02379896119236946, -0.036826904863119125, 0.005731829442083836, -0.016965903341770172, 0.02085716649889946, 0.03067871183156967, -0.01042858324944973, 0.02300514280796051, 0.01673242822289467, 0.008373996242880821, 0.015386051498353481, 0.0268652755767107, -0.013572722673416138, 0.0022472040727734566, -0.0017423126846551895, 0.01203178334981203, 0.0174795500934124, -0.005342703312635422, 0.008350648917257786, 0.022600451484322548, -0.015230400487780571, 0.007774742320179939, -0.026569539681077003, -0.0016032001003623009, 0.006408908870071173, 0.02940237894654274, -0.015518354251980782, 0.02541772462427616, -0.02242923527956009, 0.03676464781165123, -0.03598639369010925, -0.01909831538796425, -0.025822415947914124, -0.025775721296668053, 0.006782470270991325, -0.05074205994606018, 3.672378807095811e-05, -0.0045683421194553375, 0.023674439638853073, 0.003455440979450941, 0.0021868895273655653, 0.001763714593835175, -0.049932677298784256, 0.012887860648334026, 0.023472094908356667, 0.02510642446577549, -0.018413452431559563, -0.007957631722092628, 0.019113879650831223, -0.0035118642263114452, -0.0068992082960903645, -0.006397235207259655, 0.008335083723068237, 0.011284660547971725, -0.03321581333875656, 0.04258597642183304, 0.008498516865074635, -0.026227107271552086, 0.0526721253991127, 0.003445712849497795, -0.028733080253005028, -0.017666330561041832, -0.004836839158087969, -0.021884460002183914, 0.006801926530897617, 0.0017238291911780834, 0.04451604187488556, -0.0033639962784945965, 0.05310794711112976, 0.01012506429105997, 0.017666330561041832, -0.02440599724650383, 0.03969087451696396, -0.016156520694494247, -0.035643961280584335, -0.01343263778835535, -0.004856295417994261, 0.01323029212653637, 0.052298564463853836, -0.031052272766828537, -0.00032224514870904386, 0.013066858984529972, 0.01056088600307703, 0.016016434878110886, -0.009502463042736053, 0.021635418757796288, 0.012366431765258312, -0.0045488858595490456, 0.013487115502357483, -0.023736700415611267, 0.043800048530101776, 0.013440419919788837, -0.005144248716533184, -0.009276769123971462, 0.01849127933382988, -0.05074205994606018, -0.006646275985985994, 0.016639037057757378, 0.01670129783451557, -0.03452327847480774, -0.005241530481725931, 0.007323355879634619, -0.04009556770324707, -0.005152031313627958, -0.01215630304068327, 0.0031519224867224693, 0.0012169922702014446, 0.008918773382902145, 0.021573157981038094, 0.008163868449628353, 0.0060625867918133736, 0.02160428836941719, 0.04544994235038757, -0.007716373074799776, -0.015424964018166065, 0.004829056560993195, -0.007015945855528116, 0.02826613001525402, -0.04741114005446434, 0.005206509027630091, -0.03804098069667816, 0.012981250882148743, -0.015362703241407871, -0.011666004545986652, -0.01321472693234682, 0.024219216778874397, -0.013736155815422535, -0.01822667196393013, 0.009883806109428406, -0.004965250845998526, 0.016903644427657127, -0.008156085386872292, -0.012677732855081558, -0.00021657306933775544, -0.020623689517378807, -0.010988924652338028, -0.005288225598633289, 0.013471550308167934, -0.014164194464683533, -0.00024904077872633934, -0.008093825541436672, -0.015354921109974384, -0.029542462900280952, 0.0018736427882686257, -0.021619852632284164, -0.010031674057245255, 0.004264823626726866, -0.015495006926357746, -0.00685640424489975, 0.027145445346832275, 0.055100273340940475, 0.013798416592180729, -0.0061871069483459, -0.0035702332388609648, 0.002756959293037653, -0.0008867214201018214, 0.0021265747491270304, -0.01292677316814661, 0.005097553599625826, 0.01779085211455822, -0.0212462916970253, 0.026227107271552086, 0.002681079786270857, 0.002264714566990733, -0.007000381126999855, -0.014755667187273502, -0.006879751570522785, 0.015518354251980782, -0.03032071515917778, 0.021495332941412926, 0.007498462684452534, -0.01704372838139534, -0.009463549591600895, 0.037667419761419296, 0.023472094908356667, 0.03449214994907379, 0.009012163616716862, 0.023690005764365196, 0.02650727890431881, -0.046290457248687744, 0.01069318875670433, -0.012592124752700329, 0.011985087767243385, -0.0028639689553529024, 0.005443876143544912, -0.03701368719339371, 0.014226455241441727, 0.009556939825415611, -0.0198921337723732, 0.038974884897470474, -0.015549484640359879, -0.017588505521416664, 0.009821546263992786, -0.028359519317746162, 0.001990380696952343, -0.014047456905245781, 0.003758959472179413, 0.021137336269021034, 0.008132738061249256, -0.01743285544216633, 2.3165170205174945e-05, 0.018724754452705383, 0.026958664879202843, 0.02708318643271923, -0.002770578721538186, 0.00825725868344307, 0.01849127933382988, 0.0099460668861866, -0.019331790506839752, -0.005899153649806976, 0.009556939825415611, -0.0005929311155341566, -0.019425181671977043, 0.0005622874014079571, 0.049714766442775726, 0.010016108863055706, 0.02812604419887066, -0.0058213286101818085, -0.018818143755197525, 0.010249584913253784, 0.021152902394533157, -0.035301532596349716, -0.00957250501960516, -0.01769746094942093, -0.00260130874812603, -0.0077513945288956165, -0.0276902224868536, -0.0209505558013916, 0.010163976810872555, 0.010879969224333763, -0.018818143755197525, -0.027596833184361458, 0.0002665514766704291, -0.0435510091483593, 0.007202726788818836, 0.0230985339730978, -0.030616451054811478, 0.005066423676908016, 0.021433072164654732, 0.007420637179166079, -0.029698114842176437, -0.006245476193726063, 0.020312389358878136, -0.006584015674889088, 0.005611200351268053, -0.017370594665408134, 0.02387678623199463, 0.006315518636256456, -0.02773691713809967, -0.03738724812865257, -0.009097771719098091, -0.009805981069803238, -0.02025012858211994, 0.0008993680239655077, 0.03234417364001274, -0.004179215524345636, -0.056376609951257706, -0.004334866069257259, 0.04417360946536064, -0.0028347845654934645, 0.03956635668873787, 0.0006590825505554676, 0.016374431550502777, -0.025511115789413452, 0.0282194335013628, 0.02597806788980961, -0.0008220291929319501, -0.0032978449016809464, 0.01200843509286642, -0.0014018272049725056, 0.034678928554058075, 0.007447876036167145, -0.00025706650922074914, -0.007432310841977596, 0.015417180955410004, 0.001570124295540154, -0.03598639369010925, 0.003126629162579775, -0.025386596098542213, 0.014296498149633408, 0.017168249934911728, 0.0028211651369929314, -0.007039293646812439, 0.005541157443076372, 0.01673242822289467, -0.0005491544143296778, 0.0011595961404964328, -0.009370159357786179, 0.0035721787717193365, -0.004922446794807911, 0.015821872279047966, -0.013354812748730183, -0.05506914481520653, -0.011946175247430801, 0.025355465710163116, -0.0016868622042238712, -0.006778578739613295, -0.02274053730070591, 0.03751176968216896, -0.019253965467214584, -0.007786415982991457, -0.005225965287536383, -0.0026207652408629656, 0.007366159465163946, -0.0011362485820427537, 0.0045683421194553375, 0.01321472693234682, 0.009136684238910675, 0.002122683683410287, -0.006926447153091431, 0.00039593593101017177, -0.0008721291669644415, 0.0020020543597638607, 0.029106643050909042, 0.0022472040727734566, -0.003305627265945077, -0.0008366213878616691, 0.01117570511996746, -0.013673895969986916, -0.006179324351251125, 0.01810215227305889, 0.0006362213753163815, -0.0018561321776360273, -0.0067241014912724495, 0.011736047454178333, -0.00010998896323144436, 0.0029106643050909042, -0.009876023977994919, -0.004439930431544781, -0.004782361444085836, 0.010327409952878952, 0.004934120457619429, 0.0056345476768910885, -0.007669677957892418, -0.022117935121059418, 0.007062640972435474, -0.015681786462664604, -0.022008979693055153, 0.021308552473783493, -0.03570622205734253, -0.02962028793990612, -0.03539492189884186, 0.008241693489253521, 0.017386160790920258, -0.01629660651087761, -0.016810253262519836, 0.025837982073426247, 0.005864132195711136, 0.0058407848700881, -0.013837329111993313, -0.025308771058917046, -0.014405453577637672, 0.056719038635492325, -0.003313409863039851, -0.034118589013814926, -0.0058018723502755165, -0.026491714641451836, 0.003961305133998394, 0.005011945962905884, -0.038663581013679504, 0.027674658223986626, -0.018382323905825615, 0.02633606269955635, 0.0032278019934892654, -0.0028192196041345596, -0.026834145188331604, 0.002416473813354969, 0.045107513666152954, -0.020078914240002632, 0.0003171378921251744, 0.004673406016081572, 0.007552940398454666, -0.022802798077464104, 0.020841600373387337, 0.014187542721629143, 0.024483822286128998, -0.01356494054198265, 0.012288606725633144, -0.007696916814893484, 0.013284769840538502, -0.02028125897049904, -0.022942882031202316, 0.00593806616961956, 0.018522407859563828, 0.010654276236891747, -0.0004688971093855798, -0.008887642994523048, 0.03620430454611778, 0.005416637286543846, -0.007210508920252323, -0.020623689517378807, -0.018304498866200447, 0.03302903473377228, 0.021635418757796288, 0.0025176466442644596, 0.0035001905634999275, 0.0056267655454576015, -0.016950339078903198, 0.005875806324183941, 0.004805708769708872, -0.021277422085404396, 0.004043021705001593, -0.009230074472725391, 0.011027837172150612, -0.014094152487814426, -0.002698590513318777, -0.01972091756761074, 0.02090386115014553, 0.018039891496300697, -0.008693080395460129, -0.023892350494861603, 0.018506843596696854, 0.0072961170226335526, 0.018117716535925865, -0.00838956143707037, -0.011370268650352955, 0.015845220535993576, -0.007969304919242859, -0.0008910990436561406, -0.013806198723614216, 0.010685406625270844, 0.009082206524908543, -0.014296498149633408, 0.02667849510908127, 0.0017471767496317625, 0.0033464855514466763, 0.018071021884679794, -0.01270886231213808, -0.005868023727089167, -0.015020272694528103, 0.005031402222812176, 0.0005598553689196706, 0.027285531163215637, 0.015635091811418533, 0.0039360118098556995, 0.012895643711090088, -0.005724046844989061, -0.021526463329792023, 0.016094261780381203, 0.01222634594887495, -0.02283392660319805, -0.006759122479707003, -0.0002770092396531254, 0.01454553846269846, 0.0037395029794424772, -0.023814525455236435, 0.003243367187678814, 0.017541810870170593, 0.01844458281993866, -0.000316651479806751, 0.00964254792779684, -0.014382105320692062, -0.01516035757958889, 0.007035402115434408, 0.016934772953391075, -0.012989033944904804, 0.011440311558544636, -0.012195216491818428, 0.006159868091344833, -0.009502463042736053, -0.015821872279047966, -0.003805654589086771, 0.010109499096870422, -0.012918991036713123, 0.011432528495788574, 0.01844458281993866, 0.01670129783451557, -0.01362720038741827, 0.02326974831521511, 0.012483169324696064, 0.021401943638920784, -0.006654058583080769, -0.027441181242465973, 0.010218454524874687, 0.006136520765721798, -0.024343736469745636, 0.011736047454178333, 0.01252986490726471, -0.02107507735490799, 0.012942338362336159, 0.0031908350065350533, 0.017650766298174858, 0.009346812032163143, 0.005109227262437344, 0.0051987264305353165, 0.0039749243296682835, -0.0010593961924314499, 0.0027063728775829077, 0.01634330116212368, 0.007015945855528116, 0.024561647325754166, 0.0009679514914751053, -0.004319301340728998, -0.022071240469813347, 0.024950774386525154, -0.004225911106914282, 0.0007427447126246989, -0.015891915187239647, -0.01866249367594719, 0.043924570083618164, -0.003130520461127162, 0.01056088600307703, -0.0045877983793616295, -0.005358268041163683, 0.004797926638275385, -0.01400076225399971, 0.016903644427657127, -0.016950339078903198, 0.017604071646928787, -0.02546442113816738, 0.03386954590678215, 0.017463985830545425, 0.017168249934911728, 0.0024086914490908384, 0.02235141023993492, -0.02633606269955635, 0.0028192196041345596, -0.009626982733607292, 0.035332661122083664, 0.0473177507519722, -0.007568505126982927, 0.008856512606143951, 0.012319736182689667, 0.003659732174128294, 0.011798307299613953, 0.0032414214219897985, 0.026195978745818138, 0.0068486216478049755, 0.00309355347417295, -0.014358757995069027, 0.025651201605796814, -0.019534137099981308, -0.012934556230902672, -0.010288497433066368, -0.02218019589781761, -0.017899807542562485, 0.019565267488360405, 0.008023782633244991, -0.0115492669865489, 0.0028153283055871725, -0.013736155815422535, 0.01805545762181282, 0.016592342406511307, 0.0033464855514466763, 0.01084105670452118, -0.023145228624343872, 0.015308225527405739, 0.017557375133037567, -0.027285531163215637, -0.034678928554058075, -0.008117172867059708, -0.03576848283410072, -0.023067403584718704, -0.029962720349431038, -0.029978284612298012, -0.0137128084897995, 0.002935957396402955, -0.02882647141814232, -0.016576778143644333, 0.007720264606177807, -0.0026655145920813084, -0.035301532596349716, 0.01595417596399784, -0.029122207313776016, 0.005078097339719534, -0.027441181242465973, 0.00387764279730618, 0.006918664555996656, -0.02165098302066326, -0.010576451197266579, 0.008226128295063972, 0.0039846524596214294, -0.017121553421020508, -0.006766905076801777, -0.01474788412451744, 0.005132575053721666, 0.010662058368325233, -0.006786361336708069, 0.045107513666152954, -0.02484181895852089, 0.006969250738620758, 0.03421197831630707, -0.005580069962888956, 0.03421197831630707, -0.014296498149633408, 0.03576848283410072, 0.00015382646233774722, -0.022507062181830406, -0.005580069962888956, -0.008568559773266315, 0.009961631149053574, 0.024125825613737106, 0.06512416899204254, 0.02532433532178402, -0.01502805482596159, 0.014646711759269238, -0.006424474064260721, -0.00020599369599949569, -0.00552170118317008, -0.011938393115997314, -0.005724046844989061, -0.023643309250473976, 0.0017627418274059892, -0.03480345010757446, -0.0003626170218922198, -0.04130963981151581, -0.03075653687119484, 0.005700699519366026, -0.008086043410003185, 0.019689787179231644, -0.0029845982789993286, -0.02129298821091652, 0.012887860648334026, 0.009300117380917072, 0.025308771058917046, 0.0031558137852698565, 0.007560722529888153, -0.009043294005095959, -0.009455767460167408, 0.00507031474262476, 0.016934772953391075, 0.009230074472725391, -0.030305150896310806, -0.0016197379445657134, 0.01375950314104557, 0.0065567768178880215, 0.005210400093346834, -0.013751721009612083, 0.0076152002438902855, -0.02940237894654274, -0.005101445131003857, 0.008467386476695538, 0.007837002165615559, 0.054135240614414215, -0.01180608943104744, -0.04685079678893089, 0.0012471495429053903, 0.024950774386525154, 0.02025012858211994, -0.040687039494514465, 0.0002215587446698919, -0.03127018362283707, -0.011510353535413742, -0.023456528782844543, -0.03829002007842064, 0.0018405670998618007, -0.013510462827980518, 0.008623037487268448, 7.217075471999124e-05, 0.031052272766828537, -0.020436909049749374, 0.005724046844989061, 0.01936292089521885, -0.025822415947914124, 0.014421017840504646, -0.0008828301215544343, 0.01097335945814848, -0.012218563817441463, -0.020172303542494774, 0.009689243510365486, 0.0035391030833125114, -0.003969087731093168, 0.019954392686486244, -0.003445712849497795, -0.019705353304743767, 0.01365054864436388, -0.03206400200724602, -0.007342812139540911, -0.012125173583626747, -0.016981469467282295, -0.0059069362469017506, 0.009821546263992786, -0.02194671891629696, 0.024032436311244965, 0.012887860648334026, -0.004583906847983599, -0.02361217886209488, -0.0019397942814975977, -0.016000870615243912, 0.017152683809399605, -0.028375085443258286, -0.0016061185160651803, -0.018911534920334816, -0.00045235923607833683, 0.0004226883756928146, 0.006296062376350164, 0.0019475767621770501, 0.011977305635809898, -0.026445018127560616, 0.013666112907230854, -0.02054586447775364, -0.01014062948524952, -0.014257584698498249, 0.008179433643817902, -0.0010341029847040772, 0.041652072221040726, -0.02590024285018444, -0.020359084010124207, 0.02168211340904236, -0.003749231342226267, -0.016981469467282295, -0.0024942990858107805, -0.006144303362816572, 0.02698979526758194, 0.002965141786262393, -0.033184684813022614, -0.011136792600154877, -0.01445993036031723, 0.019643092527985573, 0.015806308016180992, -0.009549157693982124, 0.0014942447887733579, -0.013152467086911201, -0.003426256589591503, -0.01783754676580429, -0.02537102997303009, 0.006226019933819771, 0.01752624474465847, -0.0056656780652701855, -0.007397289853543043, 0.0034632235765457153, -0.010794362053275108, -0.02597806788980961, -0.0015574777498841286, 0.041340772062540054, 0.010700971819460392, 0.035550571978092194, -0.005583961494266987, -0.013938501477241516, 0.006296062376350164, -0.00670464476570487, 0.010965577326714993, -0.0054905712604522705, -0.015137010253965855, -0.001958277774974704, 0.023736700415611267, -0.01075544860213995, -0.00924563966691494, -0.01853797398507595, -0.03576848283410072, 0.0028425671625882387, 0.020530300214886665, 0.0035527225118130445, -0.004070260562002659, -0.0018755884375423193, 0.0045372117310762405, 0.023067403584718704, -0.0163899976760149, -0.012592124752700329, 0.014802361838519573, -0.002171324333176017, 0.0005763932131230831, -0.0059964354149997234, 0.015292661264538765, -0.03486571088433266, 0.014802361838519573, 0.029993850737810135, 0.0123742138966918, -0.0012500680750235915, -0.03053862601518631, -0.012389779090881348, -0.027923697605729103, 0.01909831538796425, -0.01167378667742014, -0.02063925564289093, -0.022102370858192444, 0.0008400262449868023, -0.013992979191243649, -0.00797708798199892, 0.010451930575072765, 0.005482788663357496, -0.008506298996508121, 0.006813600193709135, 0.005109227262437344, 0.013876241631805897, 0.03131688013672829, -0.007152140140533447, -0.009805981069803238, 0.007887588813900948, -0.005257095210254192, -0.003332866122946143, -0.007502353750169277, -0.019923262298107147, 0.010195107199251652, -0.002727774903178215, 0.02428147755563259, -0.01743285544216633, -0.005984761286526918, -0.004070260562002659, -0.02361217886209488, -0.006599580869078636, 0.005035293288528919, -0.017370594665408134, -0.01817997731268406, -0.034678928554058075, 0.004751231521368027, 0.017074858769774437, -0.003256986616179347, 0.00660347193479538, 0.029386812821030617, -0.0015613690484315157, -0.014218672178685665, 0.0020779340993613005, 0.01215630304068327, 0.006766905076801777, -0.003148031188175082, -0.02730109728872776, -0.00020648010831791908, 0.020530300214886665, 0.009253421798348427, -0.01962752640247345, -0.016405561938881874, -0.004447713028639555, 0.00395352253690362, -0.007517918944358826, 0.007218291517347097, -0.0019553592428565025, 0.018849274143576622, 0.01945631206035614, -0.011082314886152744, -0.0013843165943399072, 0.031052272766828537, 0.022149065509438515, 0.005607308819890022, -0.01603200100362301, -0.00048421896644867957, 0.02918446809053421, -0.03346485644578934, -0.0014076641527935863, 0.014444366097450256, 0.039722006767988205, 0.024468258023262024, 0.010148412548005581, -3.2528521842323244e-05, 0.014522191137075424, -0.0031655419152230024, 0.02172880806028843, 0.06400348246097565, 0.021759938448667526, -0.0016080641653388739, 0.005124792456626892, -0.0027199923060834408, -0.017993196845054626, -0.020296825096011162, -0.005700699519366026, 0.025339899584650993, -0.015580614097416401, -0.039628613740205765, -0.006895316764712334, -0.015876350924372673, -0.00025171603192575276, 0.0135805057361722, 0.002179106930270791, -0.006961468141525984, 0.0013210835168138146, 0.0381966307759285, 0.017930936068296432, -0.009977196343243122, 0.0015993088018149137, 0.01779085211455822, 0.009237856604158878, 0.007467332296073437, 0.016016434878110886, -0.013160249218344688, -0.0056540039367973804, 0.0029845982789993286, 0.012202998623251915, -0.02138637751340866, -0.004704535938799381, 0.031877219676971436, -0.008366214111447334, 0.005362159572541714, -0.0011829436989501119, -0.005194835364818573, -0.0030526951886713505, -0.007654112763702869, 0.0003025456389877945, 0.02107507735490799, 0.021448638290166855, 0.003891262225806713, 0.0034924079664051533, -0.0038970992900431156, -0.0062376935966312885, 0.011416963301599026, 0.0068680779077112675, -0.005860241129994392, 0.006634602323174477, -0.003696699161082506, -0.0066929711028933525, 0.008156085386872292, -0.02269384264945984, -0.0032453127205371857, -0.006451712921261787, 0.011292443610727787, -0.014296498149633408, -0.007969304919242859, 0.016312170773744583, -0.010716536082327366, 0.025090860202908516, -0.015728482976555824, -0.02169767953455448, 0.013860676437616348, 0.009868240915238857, -0.022102370858192444, 0.008864295668900013, -0.002793926279991865, 0.013020163401961327, -0.005081988405436277, -0.014491060748696327, 0.012934556230902672, -0.015066967345774174, -0.01931622624397278, -0.006860295310616493, -0.030834361910820007, -0.024468258023262024, -0.004482734017074108, 0.012817817740142345, 0.015471658669412136, 0.009907153435051441, -0.011728264391422272, -0.011269095353782177, -0.002945685526356101, -0.02037465013563633, 0.0017072913469746709, 0.0020857166964560747, 0.027534572407603264, 0.004708427470177412, -0.008397344499826431, 0.0198921337723732, 0.005249313078820705, -0.006389452610164881, 0.00046354663209058344, 0.011440311558544636, -0.015331573784351349, 0.011821654625236988, -0.015572831965982914, -0.016810253262519836, 0.011012271977961063, 0.024343736469745636, 0.0035702332388609648, -0.012771123088896275, 0.03720046952366829, 0.010918881744146347, 0.02155759371817112, 0.008669732138514519, 0.007969304919242859, -0.003260877914726734, -0.008436257019639015, 0.009549157693982124, 0.010335193015635014, -0.003858186537399888, 0.00382900214754045, -0.0022433127742260695, -0.007132683880627155, -0.016265476122498512, -0.012903425842523575, -9.150546247838065e-05, 0.006747448816895485, -0.026195978745818138, -0.0036889167968183756, -0.009603635407984257, -0.0005194835248403251, -0.0015526136849075556, 0.01612539030611515, -0.009564722888171673, 0.005416637286543846, -0.01783754676580429, 0.010926664806902409, -0.014631146565079689, -0.009206726215779781, -0.000742258271202445, -0.02177550457417965, -0.004685079678893089, -0.002542939968407154, -0.004700644873082638, 0.015168140642344952, -0.008467386476695538, -0.010669841431081295, 0.007447876036167145, -0.00415197666734457, 0.009167813695967197, -0.0007767932256683707, 0.03536379337310791, 0.01931622624397278, -0.016639037057757378, 0.01931622624397278, -0.013378160074353218, 0.026055892929434776, -0.02901325188577175, -0.020343519747257233, -0.0116815697401762, -0.00292039243504405, -0.007346703205257654, -0.005412745755165815, 0.0009864349849522114, -0.01400076225399971, -0.016530081629753113, 0.005467223469167948, 0.0016041728667914867, -0.017448419705033302, -0.0010321573354303837, -0.006424474064260721, 0.029558029025793076, 0.01805545762181282, 0.01858466863632202, 0.008638602681457996, 0.003313409863039851, -0.021884460002183914, 0.008397344499826431, -0.02194671891629696, 0.005599526688456535, 0.005747394636273384, 0.008482951670885086, 0.008156085386872292, -0.02891986072063446, -0.016639037057757378, 0.013424854725599289, 0.0012977359583601356, -0.0010555048938840628, 0.011689351871609688, 0.00992271862924099, 0.01713711954653263, -0.009829328395426273, -0.003418473992496729, -0.012934556230902672, -0.00625325832515955, -0.026273803785443306, -0.011292443610727787, 0.0014164195163175464, -0.02681857906281948, -0.01769746094942093, -0.016094261780381203, -0.013821763917803764, 0.016498953104019165, -0.002566287526860833, -0.021884460002183914, -0.007564614061266184, 0.011315790936350822, -0.026227107271552086, -0.003963250666856766, 0.019051620736718178, 0.013417072594165802, 0.014732318930327892, -0.02288062311708927, 0.02221132442355156, -0.001512728282250464, 0.0017860893858596683, -0.06587129086256027, -0.016763558611273766, 0.017059294506907463, -0.011362485587596893, 0.00759185291826725, -0.0014572776854038239, 0.00024685196694917977, -0.017012597993016243, 0.018351193517446518, 0.02628936804831028, -0.011339138261973858, -0.008047130890190601, 0.010537538677453995, 0.0019213107880204916, 0.012654385529458523, 0.0075101363472640514, -0.013806198723614216, 0.005494462326169014, 0.027441181242465973, -0.032748863101005554, 0.0020623691380023956, 0.0016070912824943662, -0.007066532503813505, -0.0008852621540427208, 0.010662058368325233, 0.019565267488360405, 0.0009509272058494389, -0.012210780754685402, -0.0013463767245411873, -0.0039846524596214294, -0.0029729243833571672, -0.023067403584718704, -0.006852513179183006, -0.009284552186727524, 0.013261421583592892, 0.01564287394285202, 0.022678276523947716, 0.012887860648334026, 0.01483349222689867, -3.2650121283950284e-05, -0.016094261780381203, 0.0017286932561546564, -0.011642657220363617, -0.0057707419618964195, 0.011736047454178333, 0.03309129551053047, -0.0008137602126225829, 0.0029612507205456495, 0.004163650795817375, -0.021355247125029564, -0.008132738061249256, -0.002321138046681881, 0.0070237284526228905, -0.01110566221177578, 0.0010311845690011978, 0.019004926085472107, -0.033184684813022614, -0.0070042721927165985, -0.00018811821064446121, 0.021230727434158325, -0.02764352783560753, -0.007864241488277912, 0.011619308963418007, 6.815788947278634e-05, 0.004533320665359497, 0.0123742138966918, 0.005311572924256325, -0.0074595496989786625, 0.019861003383994102, 0.00020964175928384066, -0.011938393115997314, 0.015354921109974384, -0.017199380323290825, -0.025651201605796814, -0.005864132195711136, -0.011206835508346558, -0.010802144184708595, 0.02081046998500824, -0.015938609838485718, 0.01735503040254116, 0.01027293223887682, 0.0034029087983071804, -0.0006819437257945538, -0.0001173458804260008, 0.009689243510365486, 0.01607869565486908, -0.022335845977067947, -0.03592413291335106, -0.004696753807365894, 0.019051620736718178, 0.0016703243600204587, -0.017775285989046097, 0.01612539030611515, 0.01624991185963154, 0.027238836511969566, 0.00048640777822583914, 0.00011175218969583511, 0.015191487967967987, 0.010148412548005581, -0.005852458532899618, -0.016452256590127945, 0.0027861439157277346, -0.0026557864621281624, 0.011946175247430801, 0.0036986449267715216, -0.005537266377359629, -0.008848730474710464, -2.193395084759686e-05, -0.013385942205786705, -0.004521647002547979, -0.008366214111447334, 0.01355715747922659, -0.0057901982218027115, -0.007529592607170343, 0.0022861165925860405, -0.020701516419649124, 0.0023055728524923325, -0.017946502193808556, -0.01362720038741827, -0.01909831538796425, 0.0033075730316340923, -0.024966338649392128, -0.01336259488016367, 0.018631363287568092, -0.0048679690808057785, 0.003795926459133625, -0.004965250845998526, -0.0025040272157639265, -0.0070042721927165985, 0.0003229747817385942, -0.007541266269981861, 0.008498516865074635, -0.03150365874171257, 0.017868677154183388, -0.004311518743634224, -0.0022997360210865736, 0.007358376868069172, -0.00545554980635643, -0.018771449103951454, 0.0125065166503191, -0.016747992485761642, -0.010109499096870422, 0.010436365380883217, -0.025620071217417717, -0.018600234761834145, -0.0031460856553167105, 0.021588724106550217, -0.011416963301599026, 0.01617208682000637, -0.0046072546392679214, 0.01788424141705036, 0.010195107199251652, 0.0017928991001099348, -0.022631581872701645, -0.018117716535925865, 0.00014786796236876398, -0.002949576824903488, 0.015339355915784836, -0.005148140247911215, 0.002585743786767125, 0.0139774139970541, 0.0006119009922258556, -0.01084105670452118, -0.006397235207259655, -0.02409469708800316, 0.006766905076801777, -0.014771231450140476, 0.011774959973990917, 0.007156031206250191, -0.02116846665740013, -0.014148630201816559, 0.028032653033733368, 0.004128629341721535, 0.007903154008090496, 0.03014950081706047, -0.0063816700130701065, -0.009549157693982124, -0.022631581872701645, -0.0002794412721414119, -0.005724046844989061, -0.010521973483264446, 0.016747992485761642, -0.0009163922513835132, -0.02264714613556862, -0.007957631722092628, 0.02930898778140545, 0.0027491769287735224, 0.009432420134544373, 0.012615472078323364, 0.014911317266523838, 0.005381615832448006, 0.015292661264538765, -0.027363356202840805, 0.012436474673449993, 0.0044321478344500065, 0.01643669232726097, -0.021090641617774963, -0.00838956143707037, -0.025729026645421982, 0.01182943768799305, 0.004050804302096367, 0.015144793316721916, 0.010872187092900276, 0.001460196217522025, 0.005187052767723799, -0.010615363717079163, 0.007101553957909346, 0.0062766061164438725, 0.009953849017620087, -0.019829872995615005, 1.4531432498188224e-05, 0.011113445274531841, -0.01769746094942093, 0.019347356632351875, -0.021759938448667526, 0.035737354308366776, 0.011736047454178333, -0.019378487020730972, 0.041869983077049255, -0.015518354251980782, 0.01861579902470112, -0.024328172206878662, 0.019923262298107147, 0.01252986490726471, -0.004373779054731131, -0.00036431942135095596, -0.005482788663357496, -0.0035994176287204027, 0.00895768590271473, 0.033060163259506226, -0.008623037487268448, 0.009774850681424141, 0.009891589172184467, 0.027487877756357193, 0.0011732155689969659, 0.0071093360893428326, 0.0007583097321912646, 0.009938283823430538, 0.005089771002531052, -0.00628827977925539, -0.007650221697986126, 0.02169767953455448, -0.020872730761766434, 0.0046072546392679214, -0.0056150914169847965, -0.008949903771281242, -0.0013979360228404403, -0.0075257015414536, -0.003587743965908885, -0.018569104373455048, 0.0062571498565375805, 0.013074641115963459, -0.003601363394409418, -0.00768913421779871, 0.018475713208317757, 0.02353435382246971, -0.0087397750467062, 0.009899371303617954, -0.004992489702999592, -0.007148249074816704, -0.008405126631259918, -0.003904881654307246, -0.007860349491238594, 0.024514952674508095, -0.009984979405999184, -0.01540161669254303, -0.004840730223804712, 0.004198672249913216, 0.017977632582187653, 0.0056656780652701855, -0.004389343783259392, -0.004864078015089035, 0.00030278885969892144, -0.0078019811771810055, 0.023549919947981834, -0.0003341621486470103, 0.0025643417611718178, 0.0043932353146374226, 0.00440490897744894, -0.003932120744138956, 0.0044321478344500065, 0.012996816076338291, -0.018195543438196182, -0.0037395029794424772, 0.00772415567189455, -0.004284279886633158, 0.016203217208385468, 0.008101608604192734, -0.002774470020085573, 0.01656121201813221, -0.021043946966528893, -0.01853797398507595, -0.004482734017074108, 0.0030293476302176714, 0.015074750408530235, -0.004506081808358431, -0.01788424141705036, -0.008623037487268448, 0.03340259566903114, 0.01656121201813221, 0.014724536798894405, 0.015347138978540897, -0.018989359959959984, 0.0036577866412699223, -0.0062376935966312885, 0.0035566138103604317, 0.008296171203255653, 0.0068680779077112675, 0.007292225491255522, -0.006879751570522785, -0.008265040814876556, 0.00031762427533976734, 0.016856947913765907, 0.022071240469813347, -0.02725440077483654, -0.00021389783069025725, 0.007342812139540911, -0.018833709880709648, 0.018787015229463577, 0.006031456403434277, -0.013370377011597157, -0.006284388713538647, 0.017713025212287903, 0.013370377011597157, 0.0012782796984538436, 0.0071599227376282215, 0.004175324458628893, 0.00475512258708477, 0.019378487020730972, -0.013175814412534237, -0.011883915401995182, -0.01709042489528656, 0.003035184694454074, 0.028546299785375595, -0.007167705334722996, -0.025386596098542213, -0.00964254792779684, -0.013455985113978386, 0.0009197971085086465, -0.028795341029763222, -0.00024709515855647624, -0.0011430582962930202, 0.002546831266954541, 4.894478479400277e-05, 0.007961522787809372, -0.013113553635776043, 0.007829220034182072, -0.008179433643817902, 0.0022491496056318283, 0.008716427721083164, 0.00430373614653945, 0.007078206166625023, 0.002776415552943945, 0.012086261063814163, -0.011354703456163406, -0.004198672249913216, 0.009876023977994919, -0.020530300214886665, -0.020312389358878136, -0.005735720507800579, -0.015782959759235382, 0.005864132195711136, -0.0066929711028933525, -0.016623472794890404, -0.021853329613804817, 0.004062477964907885, -0.01537826843559742, -0.010739884339272976, -0.0060625867918133736, -0.00015358325617853552, -0.008078260347247124, -0.0070431847125291824, -0.01005502138286829, -4.0007042116485536e-05, 0.014670059084892273, -0.0003210291324649006, 0.006669623777270317, -0.02672518976032734, 0.009564722888171673, -0.003002108773216605, -0.010887752287089825, -0.03620430454611778, 0.009183378890156746, -0.008397344499826431, 0.0041403030045330524, 0.00485240388661623, -0.00555283110588789, 0.024966338649392128, 0.00548667972907424, 0.007191052660346031, -0.012810035608708858, 0.00812495592981577, 0.011300225742161274, 0.014794579707086086, -0.004124738276004791, 0.03203286975622177, 0.032530952244997025, -0.008802035823464394, 0.009774850681424141, 0.003550776978954673, 0.024655038490891457, 0.014234237372875214, -0.013113553635776043, 0.006194889545440674, -0.024857383221387863, -0.013876241631805897, -0.0047629051841795444, 0.007226074114441872, 0.021588724106550217, -0.020748211070895195, 0.01595417596399784, -0.0009956767316907644, -0.011751612648367882, -0.0009246612316928804, -0.007074315100908279, -0.008163868449628353, -0.021977849304676056, 0.0003669946745503694, -0.0053037903271615505, -0.005467223469167948, 0.006249367259442806, 0.010708753950893879, 0.00852186419069767, 0.0030098913703113794, -0.004190889652818441, -0.006650167517364025, -0.003782307030633092, -0.001107064075767994, 0.026009198278188705, -0.0099460668861866, 0.004179215524345636, 0.007825328968465328, -0.01295012142509222, 0.006708536297082901, 0.012483169324696064, -0.02944907359778881, -0.018351193517446518, -0.003772578900679946, 0.016016434878110886, -0.0033250837586820126, -0.019347356632351875, 0.010700971819460392, -0.011432528495788574, 0.017588505521416664, -0.005338811781257391, -0.0022958447225391865, -0.017993196845054626, -0.0086074722930789, -0.004657840821892023, 0.011837219819426537, -0.003934066276997328, -0.027768047526478767, -0.00908998865634203, 0.010459712706506252, 0.010327409952878952, -0.019829872995615005, 0.018024327233433723, -0.015090315602719784, -0.007782524451613426, -0.023145228624343872, 0.006774687673896551, -0.005362159572541714, -0.0004051776777487248, -0.006035347934812307, 0.007008163258433342, -0.001899908878840506, 0.009743721224367619, 0.0069225556217134, -0.013673895969986916, -0.007222183048725128, 0.0037803612649440765, -0.006194889545440674, -0.007152140140533447, -0.026911970227956772, -1.0898574146267492e-05, 0.007486788555979729, 0.0090043805539608, -0.006097608245909214, 0.007829220034182072, 0.008599690161645412, -0.000633302959613502, -8.931662887334824e-05, -0.010700971819460392, -0.019036054611206055, -0.0026227107737213373, -0.004428256303071976, 0.011564831249415874, 0.021137336269021034, 0.0038834798615425825, 0.007712482009083033, -0.009401289746165276, 0.02291175164282322, -0.015105880796909332, -0.006794143933802843, -0.01612539030611515, -0.020296825096011162, -0.0271610114723444, -0.012039565481245518, 0.0070431847125291824, -0.0010243748547509313, -0.001956332242116332, -0.0019446583464741707, 0.006860295310616493, 0.012739992700517178, 0.024437127634882927, -0.006611254531890154, 0.007572396658360958, -0.012810035608708858, -0.005961413960903883, 3.0719693313585594e-05, -0.015969740226864815, -0.01682581752538681, 0.02909107692539692, -0.033060163259506226, -0.018460148945450783, -0.017417289316654205, -0.008817600086331367, 0.021090641617774963, -0.008973251096904278, 0.005062532145529985, 0.00795373972505331, 0.007938175462186337, 0.013487115502357483, 0.013642765581607819, 0.021137336269021034, -0.000983516569249332, -0.000979138887487352, -0.0030896621756255627, -0.015253748744726181, 0.004583906847983599, -0.004008000250905752, -0.004498299211263657, 0.01769746094942093, 0.010016108863055706, -0.0035001905634999275, -0.0016148738795891404, 0.009767068549990654, 0.017277205362915993, -0.0048874253407120705, -0.008693080395460129, -0.005288225598633289, -0.005727937910705805, 0.006949794478714466, -0.0020604233723133802, 0.007891479879617691, -0.0009003408486023545, 0.015393833629786968, -0.0027978175785392523, 0.0038367847446352243, -0.001281198114156723, -0.002928174799308181, 0.000765605887863785, 0.003862077835947275, -0.0024320390075445175, 0.01919170655310154, -6.748908162990119e-06, -0.0050430758856236935, -0.002161596203222871, -0.011720482259988785, -0.0125065166503191, 9.120145841734484e-05, 0.0004377670120447874, 0.0053154644556343555, -0.0005652058753184974, 0.02291175164282322, -0.0002748203987721354, 0.0012169922702014446, 0.01704372838139534, -0.009907153435051441, -0.0047434489242732525, 0.014288715086877346, -0.005899153649806976, 0.006261040922254324, -0.018382323905825615, -0.00520261749625206, -0.003842621576040983, 0.01979874260723591, -0.0006955631542950869, 0.010506408289074898, 0.02063925564289093, 0.0044126915745437145, -0.0007169650634750724, -0.011704917065799236, -0.021137336269021034, -0.014584450982511044, 0.012739992700517178, -0.00593806616961956, 0.002288062358275056, -0.014864621683955193, -0.007825328968465328, 0.0309277530759573, 0.022849492728710175, -0.01537826843559742, -0.01779085211455822, 0.02379896119236946, 0.030865492299199104, 0.007393398322165012, -0.018288932740688324, 0.02488851360976696, 0.002941794227808714, 0.0037044817581772804, 0.0008531592902727425, -0.014708971604704857, -0.024390432983636856, -0.014039674773812294, 0.010957794263958931, -0.0032044544350355864, -0.00810939073562622, -0.0029242837335914373, 0.01595417596399784, 0.0018405670998618007, 0.025526680052280426, -0.0013220563996583223, -0.0020117827225476503, -0.005622874014079571, -0.028468474745750427, -0.008210563100874424, 0.013121336698532104, -0.006471169181168079, 0.0006474087713286281, 0.0037122643552720547, -0.012280823662877083, 0.013837329111993313, -0.01432762760668993, -0.001248122425749898, 0.01005502138286829, 0.019611962139606476, -0.0008283524657599628, -0.020701516419649124, -0.010879969224333763, -0.001811382593587041, -0.005152031313627958, -0.005650112871080637, 0.015541701577603817, -0.004657840821892023, 0.0102106723934412, -0.016203217208385468, 0.02252262644469738, -0.001716046710498631, 0.001039939816109836, 0.01656121201813221, 0.019549701362848282, 0.014078587293624878, 0.02930898778140545, -0.018071021884679794, 0.012467604130506516, 0.02401687018573284, -0.03014950081706047, -0.0012335301144048572, -0.02020343393087387, -0.03234417364001274, 0.015853002667427063, -0.003305627265945077, -0.014288715086877346, 0.0031791613437235355, -0.009580288082361221, -0.01509809773415327, 0.01340928953140974, -0.03150365874171257, 0.009323464706540108, 0.002379506826400757, -0.0020973903592675924, -0.0042959535494446754, 0.01624991185963154, -0.003276442876085639, 0.012459821999073029, 0.001365833100862801, -0.010389670729637146, 0.0007213427452370524, 0.004572233185172081, -0.020530300214886665, 0.018257802352309227, -0.0016605962300673127, -0.013323682360351086, 0.003587743965908885, 0.009938283823430538, 0.007397289853543043, -0.012887860648334026, -0.030569756403565407, 0.0050742062740027905, 0.0010516135953366756, -0.007852567359805107, 0.0005472087650559843, 0.007253312971442938, -0.02099725231528282, -0.00608982564881444, 0.01888040453195572, -0.029635854065418243, -0.009237856604158878, 0.0006420582649298012, 0.0061871069483459, -0.006198781076818705, -0.0005603417521342635, 0.0003409718628972769, -0.010288497433066368, -0.006008109077811241, 0.02414139173924923, 0.006214345805346966, -0.0006075233104638755, 0.013518244959414005, -0.004657840821892023, -0.018849274143576622, -0.021012816578149796, 0.010265150107443333, 0.002017619553953409, -0.0038173282518982887, -0.010226237587630749, 0.002169378800317645, -0.012810035608708858, 0.006198781076818705, -0.02230471558868885, -0.016545647755265236, 0.00042001312249340117, 0.003541048616170883, -0.003634439082816243, 0.011136792600154877, -0.01145587582141161, 0.0035099186934530735, -0.0035585593432188034, 9.703835530672222e-05, -0.02853073552250862, 0.030336281284689903, -0.0033970719669014215, 0.018833709880709648, -0.0065567768178880215, 0.004218128509819508, 0.014366540126502514, 0.0123742138966918, 0.006708536297082901, -0.020779341459274292, 0.006132629234343767, 0.01203178334981203, 0.008988816291093826, -0.014039674773812294, 0.022460365667939186, 0.019160576164722443, -0.006338866427540779, -0.021090641617774963, -0.0004358213918749243, -0.015417180955410004, 0.00019359029829502106, -0.01305907592177391, -0.003910718485713005, -0.0018901806324720383, 0.013097989372909069, 0.0154483113437891, -0.019861003383994102, 0.00035775292781181633, 0.0006084961351007223, -0.0059458487667143345, 0.0038873711600899696, -0.0058096544817090034, 0.027674658223986626, -0.020452475175261497, -0.0027199923060834408, -0.019814306870102882, -0.01406302209943533, -0.009619200602173805, -0.015635091811418533, -0.024203652516007423, -0.0005734747974202037, -0.00368697103112936, 0.01112901046872139, 0.005875806324183941, -0.008700862526893616, 0.029324552044272423, 0.0023191922809928656, -0.010156194679439068, 0.005844675935804844, -0.006401126738637686, 0.0025993632152676582, 0.01139361597597599, 0.006000326480716467, 0.01365054864436388, 0.009066641330718994, 0.010833274573087692, 0.00010968495917040855, -0.009362377226352692, -0.020343519747257233, 0.013798416592180729, -0.018818143755197525, -0.01481014396995306, -0.00916003156453371, 0.006786361336708069, 0.000997135997749865, 0.011883915401995182, 0.007992653176188469, -0.00234448560513556, 0.02133968286216259, 0.024219216778874397, -0.001366805867291987, 0.022507062181830406, 0.018693624064326286, -0.015821872279047966, 0.02291175164282322, 0.008786470629274845, -0.001168351504020393, 0.007661895360797644, 0.004906881600618362, 0.0027394485659897327, -0.0174795500934124, -0.018740318715572357, -0.015175922773778439, -0.017463985830545425, -0.004910773131996393, 0.0204213447868824, 0.019331790506839752, 0.0035468856804072857, 0.02839064970612526, -0.008988816291093826, -0.002005945658311248, 0.022616015747189522, 0.020919425413012505, 0.002367833163589239, -0.014662276022136211, -0.0011605690233409405, -0.018242238089442253, -0.019876567646861076, 0.01656121201813221, -0.0044321478344500065, 0.03583074361085892, -0.020779341459274292, -0.006443930324167013, -0.011868350207805634, -0.007650221697986126, -0.02326974831521511, 0.012467604130506516, 0.005755176767706871, 0.008140521124005318, 0.005307681858539581, 0.01566622219979763, 0.003607200225815177, 0.002727774903178215, -0.008428473956882954, 0.006611254531890154, 0.01805545762181282, 0.0014533865032717586, 0.038009852170944214, -0.012996816076338291, 0.02409469708800316, 0.005669569130986929, -0.014491060748696327, -0.0006634602323174477, 0.01643669232726097, 0.006385561544448137, -0.005724046844989061, -0.00295152235776186, 0.006128738168627024, -0.008833165280520916, 0.017635200172662735, 0.0031558137852698565, 0.0009528728551231325, 0.018600234761834145, -0.00999276153743267, 0.011354703456163406, -0.02090386115014553, -0.022444801405072212, -0.021744374185800552, -0.01967422291636467, 0.0011780796339735389, -0.0015214835293591022, -0.012638820335268974, -0.019331790506839752, -0.00043411896331235766, -0.012592124752700329, -0.01553391944617033, 0.02839064970612526, -0.005591744091361761, -0.011074532754719257, 0.007961522787809372, 0.016545647755265236, 0.005097553599625826, -0.0035643961746245623, -0.010397452861070633, -0.0035760700702667236, -0.008903208188712597, 0.0058018723502755165, 0.0016732427757233381, 0.005385506898164749, -0.017012597993016243, -0.005050858482718468, -0.012957903556525707, 0.010304062627255917, -0.00972815603017807, 0.004035239107906818, 0.00408582529053092, -0.008700862526893616, -0.0014533865032717586, -0.018071021884679794, -0.009385724551975727, 0.017588505521416664, 0.00029622233705595136, -0.0032141825649887323, 0.03474118933081627, 0.012288606725633144, 0.004023565445095301, -0.008724209852516651, -0.008062695153057575, -0.007840893231332302, 0.020701516419649124, -0.002978761214762926, 0.0022374759428203106, -0.014491060748696327, 0.020966121926903725, -0.003644167212769389, -0.013611635193228722, 0.0163899976760149, 0.025448855012655258, -0.0042764972895383835, 0.004416582640260458, 0.0035799613688141108, -0.004490516614168882, 0.011704917065799236, 0.013417072594165802, -0.02344096451997757, -0.002566287526860833, 0.025137554854154587, -0.013323682360351086, -0.01147922407835722, 0.006097608245909214, 0.014498843811452389, 0.006564559414982796, 0.007408963516354561, 0.030460800975561142, 0.018429018557071686, -0.00819499883800745, 0.004264823626726866, -0.02853073552250862, 0.020841600373387337, 0.003665569005534053, 0.0024359303060919046, 0.01279447041451931, 0.020343519747257233, 0.011728264391422272, -0.006307736039161682, 0.003914610017091036, -0.016047565266489983, 0.02930898778140545, -0.010226237587630749, -0.009058858267962933, 0.0019252020865678787, 0.0087397750467062, 0.021370813250541687, 0.019829872995615005, -0.014802361838519573, -0.047909222543239594, -0.013066858984529972, -0.0006906990893185139, 0.011354703456163406, 0.0026888621505349874, 0.016156520694494247, 0.017744155600667, 0.007311681751161814, 0.0071093360893428326, 0.003323137992992997, 0.023191923275589943, -0.01448327861726284, -0.005358268041163683, -0.0009616282186470926, -0.02225802093744278, -0.019861003383994102, -0.0034768427722156048, -0.01029628049582243, 0.018864840269088745, -0.012039565481245518, 0.00199427199549973, 0.004673406016081572, -0.04099833965301514, -0.012996816076338291, -0.020390214398503304, 0.004004108719527721, -0.0008079233230091631, -0.008918773382902145, 0.0035235381219536066, 0.0016158466460183263, -0.022724971175193787, -0.0050041633658111095, -0.006478951778262854, 0.029153337702155113, -0.00023432695888914168, -0.00538939842954278, -0.019689787179231644, -0.01761963590979576, 0.02286505699157715, -0.009136684238910675, 0.023643309250473976, -0.007992653176188469, 0.004638384561985731, 0.009580288082361221, -0.004871860612183809, 0.005630656611174345, 0.019736481830477715, -0.016203217208385468, -0.013681678101420403, -0.005731829442083836, -0.00865416694432497, -0.0009591961861588061, -0.006268823519349098, -0.0018074912950396538, 0.0028756428509950638, 0.019689787179231644, 4.0219845686806366e-05, -0.02081046998500824, -5.581529330811463e-05, -0.014397670514881611, -0.023114098235964775, 0.0011284661013633013, -0.013315899297595024, -0.017105989158153534, 0.007113227620720863, -0.009759285487234592, 0.00440490897744894, 0.006934229284524918, 0.0010759340366348624, 0.010926664806902409, -0.02549555152654648, -0.00600421754643321, -0.006918664555996656, -0.014950229786336422, -0.011276878416538239, 0.0009295252966694534, 0.003488516667857766, -0.0040819342248141766, 0.01603200100362301, -0.008591907098889351, 0.006331083830446005, 0.016047565266489983, 0.011798307299613953, -0.033309206366539, -0.0035624506417661905, -0.021370813250541687, 0.018724754452705383, 0.01182943768799305, -0.0013026000233367085, 0.002751122461631894, -0.000808409764431417, 0.002509864280000329, -0.00587191479280591, -0.002033184515312314, 0.005451658740639687, 0.027627961710095406, -0.019207270815968513, 0.006763014011085033, 0.006050913129001856, 0.034243106842041016, 0.0033114643301814795, -0.015580614097416401, -0.006019782740622759, 0.003632493317127228, 0.0123742138966918, 0.004657840821892023, -0.00014421991363633424, -0.005786307156085968, 0.01474788412451744, -0.021744374185800552, 0.0104752779006958, 0.02264714613556862, -0.014436583034694195, 0.01147922407835722, -0.0059964354149997234, -0.006580124609172344, 0.002377561293542385, 0.03014950081706047, -0.0010088097769767046, -0.0026207652408629656, -0.015144793316721916, -0.01945631206035614, -0.01400076225399971, 0.021012816578149796, 0.004315409809350967, -0.009805981069803238, -0.0027161010075360537, -0.019222835078835487, 0.01827336847782135, 0.01656121201813221, 0.0007879806216806173, 0.054757844656705856, 0.0009090961539186537, -0.005681242793798447, -0.0038601323030889034, -0.012786688283085823, -0.02476399391889572, -0.007685243152081966, -0.008537429384887218, -0.013868458569049835, -1.875710040621925e-05, -0.010031674057245255, -0.009805981069803238, 0.01413306500762701, 0.006887534167617559, -0.016140956431627274, -0.007327246945351362, -0.01817997731268406, -0.003251149784773588, 0.009463549591600895, -0.013728373683989048, 0.006226019933819771, -0.014740101993083954, -0.009533592499792576, -0.008981033228337765, 0.023518789559602737, -0.011837219819426537, -0.016109826043248177, 0.016203217208385468, 0.009626982733607292, -0.004992489702999592, 0.01682581752538681, -0.006864186841994524, -0.0001291412627324462, -0.025620071217417717, 0.015354921109974384, -0.002764741890132427, 0.010903317481279373, 0.023907916620373726, 0.018382323905825615, 0.019331790506839752, -0.003825110848993063, 0.004626710899174213, -0.007377833593636751, -0.0030896621756255627, -0.017635200172662735, -0.0024359303060919046, 0.007000381126999855, 0.017012597993016243, 0.013105771504342556, 0.011712699197232723, -0.006482842843979597, 0.012716645374894142, 0.0028484039939939976, 0.003912664484232664, 0.020078914240002632, 0.017930936068296432, 0.0008293252903968096, -0.007082097232341766, -0.011292443610727787, 0.0045488858595490456, -0.004638384561985731, -0.012701080180704594, -0.014950229786336422, 0.021495332941412926, -0.014646711759269238, 0.01196174044162035, -0.018335627391934395, 0.005120901390910149, 0.007564614061266184, -0.0010302116861566901, 0.0033717788755893707, -0.019378487020730972, 0.00039447672315873206, 0.016203217208385468, 0.021977849304676056, -0.026102587580680847, -0.013455985113978386, -0.0021868895273655653, 0.00021316821221262217, -0.009549157693982124, 0.0056540039367973804, -0.004233693238347769, 0.008342866785824299, -0.007249421905726194, 0.003957413602620363, -0.031207924708724022, 0.01880257949233055, -0.002893153578042984, 0.011938393115997314, -0.006669623777270317, 0.0027783613186329603, -0.012810035608708858, 0.014467713423073292, 0.00580576341599226, 0.0026304933708161116, -0.00027336119092069566, -0.0030157282017171383, -0.0004924878594465554, -0.0031519224867224693, -0.0017744156066328287, -0.01426536776125431, 0.01012506429105997, 0.008840948343276978, 0.015191487967967987, 0.002939848694950342, -0.026087023317813873, 0.008280606009066105, 0.003928229212760925, -0.00405469536781311, 0.025697896257042885, 0.00986045878380537, 0.022631581872701645, -0.01075544860213995, 0.002941794227808714, 0.02291175164282322, 0.01677912287414074, 0.003908772952854633, 0.014856839552521706, 0.020670386031270027, 0.006416691467165947, -0.005393289495259523, 0.015339355915784836, 0.0015973631525412202, -0.01147922407835722, 0.0008478087838739157, -0.012078478001058102, 0.003809545887634158, -0.0141097167506814, 0.009198944084346294, 0.01928509585559368, -0.015129228122532368, -0.0011547320755198598, 0.006926447153091431, 0.006782470270991325, 0.0009538456797599792, 0.007763068191707134, 0.0015817981911823153, 0.007482897490262985, 0.0016693515935912728, 0.017370594665408134, -0.0150514030829072, 0.041122861206531525, -0.006447821855545044, 0.024919643998146057, 0.009518027305603027, 0.0030137826688587666, -0.014249802567064762, 0.00044506313861347735, -0.0016489224508404732, 0.018335627391934395, -0.0104752779006958, -0.004046912770718336, 0.007237747777253389, 0.01355715747922659, -0.012934556230902672, 0.01827336847782135, -0.0031130099669098854, 0.024546083062887192, 0.01252986490726471, -0.009782633744180202, -0.010903317481279373, 0.0141097167506814, 0.013619418255984783, 0.015658440068364143, 0.009665895253419876, -0.0071599227376282215, 0.015658440068364143, -0.0012296389322727919, -0.003072151681408286, -0.024639472365379333, -0.022117935121059418, -0.010288497433066368, 0.00590304471552372, -0.0006191970896907151, 0.00916003156453371, 0.013634983450174332, 0.00650619063526392, 0.0018045728793367743, 0.011012271977961063, 0.007568505126982927, 0.009237856604158878, 0.025479985401034355, -0.012241911143064499, -0.018678059801459312, 0.003126629162579775, -0.01902049034833908, -0.002369778696447611, -0.025028599426150322, 0.008428473956882954, -0.015728482976555824, 0.004521647002547979, -0.019596397876739502, -0.012841165997087955, -0.015674004331231117, -0.012420909479260445, 0.01651451736688614, -0.02571346051990986, 0.0065567768178880215, -0.004634493496268988, -0.004583906847983599, -0.0052843340672552586, -0.0016888078534975648, 0.00029184468439780176, -0.002708318643271923], 'text': 'LLM Powered Autonomous Agents\\n    \\nDate: June 23, 2023  |  Estimated Reading Time: 31 min  |  Author: Lilian Weng\\n\\n\\nBuilding agents with LLM (large language model) as its core controller is a cool concept. Several proof-of-concepts demos, such as AutoGPT, GPT-Engineer and BabyAGI, serve as inspiring examples. The potentiality of LLM extends beyond generating well-written copies, stories, essays and programs; it can be framed as a powerful general problem solver.\\nAgent System Overview#\\nIn a LLM-powered autonomous agent system, LLM functions as the agent’s brain, complemented by several key components:\\n\\nPlanning\\n\\nSubgoal and decomposition: The agent breaks down large tasks into smaller, manageable subgoals, enabling efficient handling of complex tasks.\\nReflection and refinement: The agent can do self-criticism and self-reflection over past actions, learn from mistakes and refine them for future steps, thereby improving the quality of final results.\\n\\n\\nMemory', 'metadata': {'source': 'https://lilianweng.github.io/posts/2023-06-23-agent/', 'start_index': 8}}\n"
          ]
        }
      ]
    },
    {
      "cell_type": "markdown",
      "source": [
        "# 2.Retrieval and Generation"
      ],
      "metadata": {
        "id": "DhLcE_ERUO7u"
      }
    },
    {
      "cell_type": "markdown",
      "source": [
        "## 2.Prompt"
      ],
      "metadata": {
        "id": "SjU28f49cENk"
      }
    },
    {
      "cell_type": "markdown",
      "source": [
        "### 2.1.Load Prompt"
      ],
      "metadata": {
        "id": "UtXE8y_jGw3m"
      }
    },
    {
      "cell_type": "markdown",
      "source": [
        "We’ll use a prompt for RAG that is checked into the LangChain prompt hub (here)."
      ],
      "metadata": {
        "id": "FAh4khf5XISK"
      }
    },
    {
      "cell_type": "code",
      "source": [
        "from langchain import hub\n",
        "\n",
        "prompt = hub.pull(\"rlm/rag-prompt\")\n",
        "\n",
        "example_messages = prompt.invoke(\n",
        "    {\"context\": \"(context goes here)\", \"question\": \"(question goes here)\"}\n",
        ").to_messages()\n",
        "\n",
        "assert len(example_messages) == 1\n",
        "print(example_messages[0].content)"
      ],
      "metadata": {
        "id": "kY96k_sDXM0q",
        "outputId": "13433fc6-2a1c-42de-d63a-1bef8d98be90",
        "colab": {
          "base_uri": "https://localhost:8080/"
        }
      },
      "execution_count": null,
      "outputs": [
        {
          "output_type": "stream",
          "name": "stdout",
          "text": [
            "You are an assistant for question-answering tasks. Use the following pieces of retrieved context to answer the question. If you don't know the answer, just say that you don't know. Use three sentences maximum and keep the answer concise.\n",
            "Question: (question goes here) \n",
            "Context: (context goes here) \n",
            "Answer:\n"
          ]
        },
        {
          "output_type": "stream",
          "name": "stderr",
          "text": [
            "/usr/local/lib/python3.11/dist-packages/langsmith/client.py:253: LangSmithMissingAPIKeyWarning: API key must be provided when using hosted LangSmith API\n",
            "  warnings.warn(\n"
          ]
        }
      ]
    },
    {
      "cell_type": "markdown",
      "source": [
        "### 2.2.Customizing the prompt"
      ],
      "metadata": {
        "id": "iLfi3-5CG3Gh"
      }
    },
    {
      "cell_type": "markdown",
      "source": [
        "As shown above, we can load prompts (e.g., this RAG prompt) from the prompt hub. The prompt can also be easily customized. For example:"
      ],
      "metadata": {
        "id": "5-5fP_WCG77c"
      }
    },
    {
      "cell_type": "code",
      "source": [
        "from langchain_core.prompts import PromptTemplate\n",
        "\n",
        "template = \"\"\"Use the following pieces of context to answer the question at the end.\n",
        "If you don't know the answer, just say that you don't know, don't try to make up an answer.\n",
        "Use three sentences maximum and keep the answer as concise as possible.\n",
        "Always say \"thanks for asking!\" at the end of the answer.\n",
        "\n",
        "{context}\n",
        "\n",
        "Question: {question}\n",
        "\n",
        "Helpful Answer:\"\"\"\n",
        "custom_rag_prompt = PromptTemplate.from_template(template)"
      ],
      "metadata": {
        "id": "DNXmzbPjG8m1"
      },
      "execution_count": 37,
      "outputs": []
    },
    {
      "cell_type": "markdown",
      "source": [
        "## 2.2.LangGraph⭐️"
      ],
      "metadata": {
        "id": "kv62umVccRTb"
      }
    },
    {
      "cell_type": "markdown",
      "source": [
        "⭐️⭐️⭐️ We'll use LangGraph to tie together the retrieval and generation steps into a single application. This will bring a number of benefits:\n",
        "\n",
        "* We can define our application logic once and automatically support `multiple invocation modes`, including streaming, async, and batched calls.\n",
        "\n",
        "* We get `streamlined deployments` via LangGraph Platform.\n",
        "\n",
        "* LangSmith will `automatically trace` the steps of our application together.\n",
        "\n",
        "* We can `easily add key features` to our application, including `persistence` and `human-in-the-loop approval`, with minimal code changes.\n"
      ],
      "metadata": {
        "id": "ARcXdxymbT3c"
      }
    },
    {
      "cell_type": "markdown",
      "source": [
        "⭐️⭐️⭐️ To use LangGraph, we need to define three things:\n",
        "\n",
        "1. The `state` of our application;\n",
        "\n",
        "2. The `nodes` of our application (i.e., application steps);\n",
        "\n",
        "3. The \"`control flow`\" of our application (e.g., the ordering of the steps)."
      ],
      "metadata": {
        "id": "PGsHBB15bbqB"
      }
    },
    {
      "cell_type": "markdown",
      "source": [
        "#### 2.2.1.State"
      ],
      "metadata": {
        "id": "CVBaE9eicb0m"
      }
    },
    {
      "cell_type": "markdown",
      "source": [
        "The state of our application controls what data is input to the application, transferred between steps, and output by the application. It is typically a TypedDict, but can also be a Pydantic BaseModel.\n",
        "\n",
        "For a simple RAG application, we can just keep track of the input question, retrieved context, and generated answer:"
      ],
      "metadata": {
        "id": "9K7pPIOcctqs"
      }
    },
    {
      "cell_type": "code",
      "source": [
        "from langchain_core.documents import Document\n",
        "from typing_extensions import List, TypedDict\n",
        "\n",
        "class State(TypedDict):\n",
        "    question: str\n",
        "    context: List[Document]\n",
        "    answer: str"
      ],
      "metadata": {
        "id": "p6BP7kSscufz"
      },
      "execution_count": null,
      "outputs": []
    },
    {
      "cell_type": "markdown",
      "source": [
        "### 2.2.2.Nodes"
      ],
      "metadata": {
        "id": "Ne_1vUbcdAFP"
      }
    },
    {
      "cell_type": "markdown",
      "source": [
        "Nodes (application steps)：Let's start with a simple sequence of two steps: retrieval and generation."
      ],
      "metadata": {
        "id": "GcJT2UkhdHVa"
      }
    },
    {
      "cell_type": "code",
      "source": [
        "from langchain_core.documents import Document\n",
        "from typing_extensions import List, TypedDict\n",
        "\n",
        "class State(TypedDict):\n",
        "    question: str\n",
        "    context: List[Document]\n",
        "    answer: str\n",
        "\n",
        "def retrieve(state: State):\n",
        "    retrieved_docs = vector_store.similarity_search(state[\"question\"])\n",
        "    return {\"context\": retrieved_docs}\n",
        "\n",
        "def generate(state: State):\n",
        "    docs_content = \"\\n\\n\".join(doc.page_content for doc in state[\"context\"])\n",
        "    messages = prompt.invoke({\"question\": state[\"question\"], \"context\": docs_content})\n",
        "    response = llm.invoke(messages)\n",
        "    return {\"answer\": response.content}"
      ],
      "metadata": {
        "id": "NW-p125SfbL1"
      },
      "execution_count": null,
      "outputs": []
    },
    {
      "cell_type": "markdown",
      "source": [
        "### 2.2.3.Control flow"
      ],
      "metadata": {
        "id": "z-Eu3DtOfpfh"
      }
    },
    {
      "cell_type": "markdown",
      "source": [
        "Finally, we compile our application into a single `graph` object. In this case, we are just connecting the `retrieval` and `generation` steps into a single sequence."
      ],
      "metadata": {
        "id": "0YkpHjoIf4dv"
      }
    },
    {
      "cell_type": "code",
      "source": [
        "from langchain_core.documents import Document\n",
        "from typing_extensions import List, TypedDict\n",
        "from langgraph.graph import START, StateGraph\n",
        "\n",
        "class State(TypedDict):\n",
        "    question: str\n",
        "    context: List[Document]\n",
        "    answer: str\n",
        "\n",
        "def retrieve(state: State):\n",
        "    retrieved_docs = vector_store.similarity_search(state[\"question\"])\n",
        "    return {\"context\": retrieved_docs}\n",
        "\n",
        "def generate(state: State):\n",
        "    docs_content = \"\\n\\n\".join(doc.page_content for doc in state[\"context\"])\n",
        "    messages = prompt.invoke({\"question\": state[\"question\"], \"context\": docs_content})\n",
        "    response = llm.invoke(messages)\n",
        "    return {\"answer\": response.content}\n",
        "\n",
        "graph_builder = StateGraph(State).add_sequence([retrieve, generate])\n",
        "graph_builder.add_edge(START, \"retrieve\")\n",
        "graph = graph_builder.compile()"
      ],
      "metadata": {
        "id": "d1QesXRCf5NV"
      },
      "execution_count": null,
      "outputs": []
    },
    {
      "cell_type": "markdown",
      "source": [
        "LangGraph also comes with built-in utilities for visualizing the control flow of your application:\n",
        "\n"
      ],
      "metadata": {
        "id": "YQTXezSWgxoQ"
      }
    },
    {
      "cell_type": "code",
      "source": [
        "from IPython.display import Image, display\n",
        "\n",
        "display(Image(graph.get_graph().draw_mermaid_png()))"
      ],
      "metadata": {
        "id": "FCwH7yDpgxX7",
        "outputId": "61275ced-7d11-4d2b-d44f-a3c44b2933b3",
        "colab": {
          "base_uri": "https://localhost:8080/",
          "height": 251
        }
      },
      "execution_count": null,
      "outputs": [
        {
          "output_type": "display_data",
          "data": {
            "image/png": "[encoded data removed]",
            "text/plain": [
              "<IPython.core.display.Image object>"
            ]
          },
          "metadata": {}
        }
      ]
    },
    {
      "cell_type": "markdown",
      "source": [
        "# 3.Full Code & Summary"
      ],
      "metadata": {
        "id": "QH_-ga0ljv35"
      }
    },
    {
      "cell_type": "code",
      "source": [
        "import bs4\n",
        "from langchain_community.document_loaders import WebBaseLoader\n",
        "from langchain_text_splitters import RecursiveCharacterTextSplitter\n",
        "from langchain.chat_models import init_chat_model\n",
        "from langchain_openai import OpenAIEmbeddings\n",
        "from langchain_core.vectorstores import InMemoryVectorStore\n",
        "from google.colab import userdata\n",
        "from langchain_core.prompts import PromptTemplate\n",
        "from langchain_core.documents import Document\n",
        "from typing_extensions import List, TypedDict\n",
        "from langgraph.graph import START, StateGraph\n",
        "\n",
        "#################################################\n",
        "# 1.Initialize the ChatModel and EmbeddingModel #\n",
        "#################################################\n",
        "llm = init_chat_model(\n",
        "    model=\"gpt-4o-mini\",\n",
        "    model_provider=\"openai\",\n",
        "    openai_api_key=userdata.get('OPENAI_API_KEY'),\n",
        "    base_url=userdata.get('BASE_URL'),\n",
        ")\n",
        "embeddings = OpenAIEmbeddings(\n",
        "    model=\"text-embedding-3-large\",\n",
        "    openai_api_key=userdata.get('OPENAI_API_KEY'),\n",
        "    base_url=userdata.get('BASE_URL'),\n",
        ")\n",
        "\n",
        "#######################\n",
        "# 2.Loading documents #\n",
        "#######################\n",
        "loader = WebBaseLoader(\n",
        "    web_paths=(\"https://lilianweng.github.io/posts/2023-06-23-agent/\",),\n",
        "    bs_kwargs=dict(\n",
        "        # Only keep post title, headers, and content from the full HTML.\n",
        "        parse_only=bs4.SoupStrainer(\n",
        "            class_=(\"post-content\", \"post-title\", \"post-header\")\n",
        "        )\n",
        "    ),\n",
        ")\n",
        "docs = loader.load()\n",
        "\n",
        "#########################\n",
        "# 3.Splitting documents #\n",
        "#########################\n",
        "text_splitter = RecursiveCharacterTextSplitter(\n",
        "    chunk_size=1000,  # chunk size (characters)\n",
        "    chunk_overlap=200,  # chunk overlap (characters)\n",
        "    add_start_index=True,  # track index in original document\n",
        ")\n",
        "all_splits = text_splitter.split_documents(docs)\n",
        "\n",
        "###########################################################\n",
        "# 4.Embedding documents and storing them in a vectorstore #\n",
        "###########################################################\n",
        "vector_store = InMemoryVectorStore(embeddings)\n",
        "_ = vector_store.add_documents(documents=all_splits)\n",
        "\n",
        "##########################################################\n",
        "# 5.Customizing the prompt or loading it from Prompt Hub #\n",
        "##########################################################\n",
        "# prompt = hub.pull(\"rlm/rag-prompt\") # load the prompt from the prompt-hub\n",
        "template = \"\"\"Use the following pieces of context to answer the question at the end.\n",
        "If you don't know the answer, just say that you don't know, don't try to make up an answer.\n",
        "Use three sentences maximum and keep the answer as concise as possible.\n",
        "Always say \"thanks for asking!\" at the end of the answer.\n",
        "\n",
        "{context}\n",
        "\n",
        "Question: {question}\n",
        "\n",
        "Helpful Answer:\"\"\"\n",
        "prompt = PromptTemplate.from_template(template)\n",
        "\n",
        "##################################################################################################\n",
        "# 5.Using LangGraph to tie together the retrieval and generation steps into a single application #\n",
        "##################################################################################################\n",
        "# 5.1.Define the state of application, which controls the application datas\n",
        "class State(TypedDict):\n",
        "    question: str\n",
        "    context: List[Document]\n",
        "    answer: str\n",
        "\n",
        "# 5.2.1.Define the node of application, which signifies the application steps\n",
        "def retrieve(state: State):\n",
        "    retrieved_docs = vector_store.similarity_search(state[\"question\"])\n",
        "    return {\"context\": retrieved_docs}\n",
        "\n",
        "# 5.2.2.Define the node of application, which signifies the application steps\n",
        "def generate(state: State):\n",
        "    docs_content = \"\\n\\n\".join(doc.page_content for doc in state[\"context\"])\n",
        "    messages = prompt.invoke({\"question\": state[\"question\"], \"context\": docs_content})\n",
        "    response = llm.invoke(messages)\n",
        "    return {\"answer\": response.content}\n",
        "\n",
        "# 6.Define the \"control flow\" of application, which signifies the ordering of the application steps\n",
        "graph_builder = StateGraph(State).add_sequence([retrieve, generate])\n",
        "graph_builder.add_edge(START, \"retrieve\")\n",
        "graph = graph_builder.compile()"
      ],
      "metadata": {
        "id": "WtSMnVWCjyuC"
      },
      "execution_count": 39,
      "outputs": []
    },
    {
      "cell_type": "markdown",
      "source": [
        "## 3.1.Usage"
      ],
      "metadata": {
        "id": "jHuF5zouj56m"
      }
    },
    {
      "cell_type": "markdown",
      "source": [
        "Let's test our application! LangGraph supports multiple invocation modes, including sync, async, and streaming."
      ],
      "metadata": {
        "id": "MMwCMs5uj8aJ"
      }
    },
    {
      "cell_type": "markdown",
      "source": [
        "### 3.3.1.Invoke"
      ],
      "metadata": {
        "id": "aWl-9-Hhh3NY"
      }
    },
    {
      "cell_type": "code",
      "source": [
        "result = graph.invoke({\"question\": \"What is Task Decomposition?\"})\n",
        "\n",
        "print(f'Context: {result[\"context\"]}\\n\\n')\n",
        "print(f'Answer: {result[\"answer\"]}')"
      ],
      "metadata": {
        "id": "vwV0Q51ziOUj",
        "outputId": "2883b0ab-84ad-43b6-d488-3789bc4b9135",
        "colab": {
          "base_uri": "https://localhost:8080/"
        }
      },
      "execution_count": 40,
      "outputs": [
        {
          "output_type": "stream",
          "name": "stdout",
          "text": [
            "Context: [Document(id='85bff4eb-121e-476d-9286-69be880e3ab5', metadata={'source': 'https://lilianweng.github.io/posts/2023-06-23-agent/', 'start_index': 1585}, page_content='Fig. 1. Overview of a LLM-powered autonomous agent system.\\nComponent One: Planning#\\nA complicated task usually involves many steps. An agent needs to know what they are and plan ahead.\\nTask Decomposition#\\nChain of thought (CoT; Wei et al. 2022) has become a standard prompting technique for enhancing model performance on complex tasks. The model is instructed to “think step by step” to utilize more test-time computation to decompose hard tasks into smaller and simpler steps. CoT transforms big tasks into multiple manageable tasks and shed lights into an interpretation of the model’s thinking process.'), Document(id='46ba8d74-581e-4521-9ab3-8ffb4260ee73', metadata={'source': 'https://lilianweng.github.io/posts/2023-06-23-agent/', 'start_index': 2192}, page_content='Tree of Thoughts (Yao et al. 2023) extends CoT by exploring multiple reasoning possibilities at each step. It first decomposes the problem into multiple thought steps and generates multiple thoughts per step, creating a tree structure. The search process can be BFS (breadth-first search) or DFS (depth-first search) with each state evaluated by a classifier (via a prompt) or majority vote.\\nTask decomposition can be done (1) by LLM with simple prompting like \"Steps for XYZ.\\\\n1.\", \"What are the subgoals for achieving XYZ?\", (2) by using task-specific instructions; e.g. \"Write a story outline.\" for writing a novel, or (3) with human inputs.'), Document(id='624a8ef3-8348-4faa-b89c-05961be57510', metadata={'source': 'https://lilianweng.github.io/posts/2023-06-23-agent/', 'start_index': 17803}, page_content='The AI assistant can parse user input to several tasks: [{\"task\": task, \"id\", task_id, \"dep\": dependency_task_ids, \"args\": {\"text\": text, \"image\": URL, \"audio\": URL, \"video\": URL}}]. The \"dep\" field denotes the id of the previous task which generates a new resource that the current task relies on. A special tag \"-task_id\" refers to the generated text image, audio and video in the dependency task with id as task_id. The task MUST be selected from the following options: {{ Available Task List }}. There is a logical relationship between tasks, please note their order. If the user input can\\'t be parsed, you need to reply empty JSON. Here are several cases for your reference: {{ Demonstrations }}. The chat history is recorded as {{ Chat History }}. From this chat history, you can find the path of the user-mentioned resources for your task planning.'), Document(id='2151505b-3ea1-4499-85c1-33b74446239a', metadata={'source': 'https://lilianweng.github.io/posts/2023-06-23-agent/', 'start_index': 17413}, page_content='Fig. 11. Illustration of how HuggingGPT works. (Image source: Shen et al. 2023)\\nThe system comprises of 4 stages:\\n(1) Task planning: LLM works as the brain and parses the user requests into multiple tasks. There are four attributes associated with each task: task type, ID, dependencies, and arguments. They use few-shot examples to guide LLM to do task parsing and planning.\\nInstruction:')]\n",
            "\n",
            "\n",
            "Answer: Task decomposition is the process of breaking down a complex task into smaller, more manageable steps. This can be achieved using prompting techniques like Chain of Thought or the Tree of Thoughts, which help in organizing reasoning and generating multiple options for each step. By transforming large tasks into simpler ones, it enhances the model's performance and interpretability. Thanks for asking!\n"
          ]
        }
      ]
    },
    {
      "cell_type": "markdown",
      "source": [
        "### 3.3.2.Stream steps"
      ],
      "metadata": {
        "id": "Ss_DlWGDh9Ql"
      }
    },
    {
      "cell_type": "code",
      "source": [
        "for step in graph.stream(\n",
        "    {\"question\": \"What is Task Decomposition?\"}, stream_mode=\"updates\"\n",
        "):\n",
        "    print(f\"{step}\\n\\n----------------\\n\")"
      ],
      "metadata": {
        "colab": {
          "base_uri": "https://localhost:8080/"
        },
        "id": "HclvrsdjD6WI",
        "outputId": "864ac043-adf5-4d1d-f2c4-0e7272dd55a7"
      },
      "execution_count": 41,
      "outputs": [
        {
          "output_type": "stream",
          "name": "stdout",
          "text": [
            "{'retrieve': {'context': [Document(id='85bff4eb-121e-476d-9286-69be880e3ab5', metadata={'source': 'https://lilianweng.github.io/posts/2023-06-23-agent/', 'start_index': 1585}, page_content='Fig. 1. Overview of a LLM-powered autonomous agent system.\\nComponent One: Planning#\\nA complicated task usually involves many steps. An agent needs to know what they are and plan ahead.\\nTask Decomposition#\\nChain of thought (CoT; Wei et al. 2022) has become a standard prompting technique for enhancing model performance on complex tasks. The model is instructed to “think step by step” to utilize more test-time computation to decompose hard tasks into smaller and simpler steps. CoT transforms big tasks into multiple manageable tasks and shed lights into an interpretation of the model’s thinking process.'), Document(id='46ba8d74-581e-4521-9ab3-8ffb4260ee73', metadata={'source': 'https://lilianweng.github.io/posts/2023-06-23-agent/', 'start_index': 2192}, page_content='Tree of Thoughts (Yao et al. 2023) extends CoT by exploring multiple reasoning possibilities at each step. It first decomposes the problem into multiple thought steps and generates multiple thoughts per step, creating a tree structure. The search process can be BFS (breadth-first search) or DFS (depth-first search) with each state evaluated by a classifier (via a prompt) or majority vote.\\nTask decomposition can be done (1) by LLM with simple prompting like \"Steps for XYZ.\\\\n1.\", \"What are the subgoals for achieving XYZ?\", (2) by using task-specific instructions; e.g. \"Write a story outline.\" for writing a novel, or (3) with human inputs.'), Document(id='624a8ef3-8348-4faa-b89c-05961be57510', metadata={'source': 'https://lilianweng.github.io/posts/2023-06-23-agent/', 'start_index': 17803}, page_content='The AI assistant can parse user input to several tasks: [{\"task\": task, \"id\", task_id, \"dep\": dependency_task_ids, \"args\": {\"text\": text, \"image\": URL, \"audio\": URL, \"video\": URL}}]. The \"dep\" field denotes the id of the previous task which generates a new resource that the current task relies on. A special tag \"-task_id\" refers to the generated text image, audio and video in the dependency task with id as task_id. The task MUST be selected from the following options: {{ Available Task List }}. There is a logical relationship between tasks, please note their order. If the user input can\\'t be parsed, you need to reply empty JSON. Here are several cases for your reference: {{ Demonstrations }}. The chat history is recorded as {{ Chat History }}. From this chat history, you can find the path of the user-mentioned resources for your task planning.'), Document(id='2151505b-3ea1-4499-85c1-33b74446239a', metadata={'source': 'https://lilianweng.github.io/posts/2023-06-23-agent/', 'start_index': 17413}, page_content='Fig. 11. Illustration of how HuggingGPT works. (Image source: Shen et al. 2023)\\nThe system comprises of 4 stages:\\n(1) Task planning: LLM works as the brain and parses the user requests into multiple tasks. There are four attributes associated with each task: task type, ID, dependencies, and arguments. They use few-shot examples to guide LLM to do task parsing and planning.\\nInstruction:')]}}\n",
            "\n",
            "----------------\n",
            "\n",
            "{'generate': {'answer': 'Task Decomposition is the process of breaking down a complicated task into smaller, more manageable steps. This can be achieved through techniques like Chain of Thought (CoT) and the Tree of Thoughts, which encourage step-by-step reasoning and exploration of multiple possibilities. Essentially, it helps simplify complex tasks and clarifies the decision-making process of an AI agent. Thanks for asking!'}}\n",
            "\n",
            "----------------\n",
            "\n"
          ]
        }
      ]
    },
    {
      "cell_type": "markdown",
      "source": [
        "### 3.3.3.Stream tokens"
      ],
      "metadata": {
        "id": "yiqZXIXViC1y"
      }
    },
    {
      "cell_type": "code",
      "source": [
        "for message, metadata in graph.stream(\n",
        "    {\"question\": \"What is Task Decomposition?\"}, stream_mode=\"messages\"\n",
        "):\n",
        "    print(message.content, end=\"|\")"
      ],
      "metadata": {
        "colab": {
          "base_uri": "https://localhost:8080/"
        },
        "id": "4md5mldvEC-c",
        "outputId": "1850113d-ae4e-4134-e4d7-2bf34f8f7484"
      },
      "execution_count": 43,
      "outputs": [
        {
          "output_type": "stream",
          "name": "stdout",
          "text": [
            "|Task| decomposition| is| a| technique| that| involves| breaking| down| complex| tasks| into| smaller|,| manageable| steps| to| enhance| performance| and| provide| clarity| in| the| reasoning| process|.| It| can| be| achieved| using| methods| like| Chain| of| Thought| (|Co|T|)| and| Tree| of| Thoughts|,| which| guide| models| to| think| step|-by|-step| or| explore| multiple| reasoning| possibilities|.| This| allows| for| better| planning| and| execution| of| tasks| by| understanding| the| logical| relationships| between| them|.| \n",
            "\n",
            "|Thanks| for| asking|!||"
          ]
        }
      ]
    },
    {
      "cell_type": "markdown",
      "source": [
        "### 3.3.4.Async"
      ],
      "metadata": {
        "id": "dbuLOQUTEYUe"
      }
    },
    {
      "cell_type": "markdown",
      "source": [
        "For async invocations, use:"
      ],
      "metadata": {
        "id": "JRiQqcl_Ebkg"
      }
    },
    {
      "cell_type": "code",
      "source": [
        "# result = await graph.ainvoke(...)"
      ],
      "metadata": {
        "id": "QThHMEldEc8O"
      },
      "execution_count": null,
      "outputs": []
    },
    {
      "cell_type": "code",
      "source": [
        "# async for step in graph.astream(...):"
      ],
      "metadata": {
        "id": "YHsJhRkEEeDi"
      },
      "execution_count": null,
      "outputs": []
    },
    {
      "cell_type": "markdown",
      "source": [
        "# 4.Query analysis"
      ],
      "metadata": {
        "id": "ygVPhkabJCS6"
      }
    },
    {
      "cell_type": "markdown",
      "source": [
        "So far, we are executing the retrieval using the raw input query. However, there are some advantages to allowing a model to generate the query for retrieval purposes. For example:\n",
        "\n",
        "* In addition to semantic search, we can build in `structured filters` (e.g., \"Find documents since the year 2020.\");\n",
        "* The model can `rewrite user queries`, which may be multifaceted or include irrelevant language, into more effective search queries."
      ],
      "metadata": {
        "id": "QE_NWpS6TAOX"
      }
    },
    {
      "cell_type": "markdown",
      "source": [
        "Query analysis employs models to transform or construct optimized search queries from raw user input. We can easily incorporate a query analysis step into our application. For illustrative purposes, let's add some metadata to the documents in our vector store. We will add some (contrived) sections to the document which we can filter on later."
      ],
      "metadata": {
        "id": "e95aY-aETJ1a"
      }
    },
    {
      "cell_type": "code",
      "source": [
        "import bs4\n",
        "from langchain_community.document_loaders import WebBaseLoader\n",
        "from langchain_text_splitters import RecursiveCharacterTextSplitter\n",
        "\n",
        "# Loading documents\n",
        "loader = WebBaseLoader(\n",
        "    web_paths=(\"https://lilianweng.github.io/posts/2023-06-23-agent/\",),\n",
        "    bs_kwargs=dict(\n",
        "        # Only keep post title, headers, and content from the full HTML.\n",
        "        parse_only=bs4.SoupStrainer(\n",
        "            class_=(\"post-content\", \"post-title\", \"post-header\")\n",
        "        )\n",
        "    ),\n",
        ")\n",
        "docs = loader.load()\n",
        "\n",
        "# Splitting documents\n",
        "text_splitter = RecursiveCharacterTextSplitter(\n",
        "    chunk_size=1000,  # chunk size (characters)\n",
        "    chunk_overlap=200,  # chunk overlap (characters)\n",
        "    add_start_index=True,  # track index in original document\n",
        ")\n",
        "all_splits = text_splitter.split_documents(docs)\n",
        "\n",
        "# Add some metadata to the documents in our vector store.\n",
        "# so that we can filter on section later.\n",
        "total_documents = len(all_splits)\n",
        "third = total_documents // 3\n",
        "for i, document in enumerate(all_splits):\n",
        "    if i < third:\n",
        "        document.metadata[\"section\"] = \"beginning\"\n",
        "    elif i < 2 * third:\n",
        "        document.metadata[\"section\"] = \"middle\"\n",
        "    else:\n",
        "        document.metadata[\"section\"] = \"end\"\n",
        "\n",
        "# Output\n",
        "print(f\"Split blog post into `{len(all_splits)}` sub-documents.\\n\")\n",
        "print(all_splits[0].metadata)\n",
        "print(all_splits[32].metadata)\n",
        "print(all_splits[65].metadata)"
      ],
      "metadata": {
        "colab": {
          "base_uri": "https://localhost:8080/"
        },
        "id": "3-bS7-zBTL0n",
        "outputId": "9a1b7b87-b59f-4022-bb1d-d4a750baae72"
      },
      "execution_count": 10,
      "outputs": [
        {
          "output_type": "stream",
          "name": "stdout",
          "text": [
            "Split blog post into `66` sub-documents.\n",
            "\n",
            "{'source': 'https://lilianweng.github.io/posts/2023-06-23-agent/', 'start_index': 8, 'section': 'beginning'}\n",
            "{'source': 'https://lilianweng.github.io/posts/2023-06-23-agent/', 'start_index': 21623, 'section': 'middle'}\n",
            "{'source': 'https://lilianweng.github.io/posts/2023-06-23-agent/', 'start_index': 42189, 'section': 'end'}\n"
          ]
        }
      ]
    },
    {
      "cell_type": "markdown",
      "source": [
        "We will need to update the documents in our vector store. We will use a simple InMemoryVectorStore for this, as we will use some of its specific features (i.e., `metadata filtering`)."
      ],
      "metadata": {
        "id": "JcHbBzwYWALx"
      }
    },
    {
      "cell_type": "code",
      "source": [
        "from langchain_core.vectorstores import InMemoryVectorStore\n",
        "\n",
        "vector_store = InMemoryVectorStore(embeddings)\n",
        "_ = vector_store.add_documents(all_splits)"
      ],
      "metadata": {
        "id": "XRDJyredWDov"
      },
      "execution_count": null,
      "outputs": []
    },
    {
      "cell_type": "markdown",
      "source": [
        "Let's next define a schema for our search query. We will use structured output for this purpose. Here we define a query as containing a string query and a document section (either \"beginning\", \"middle\", or \"end\"), but this can be defined however you like."
      ],
      "metadata": {
        "id": "D5Hqd-77XI0B"
      }
    },
    {
      "cell_type": "code",
      "source": [
        "from typing import Literal\n",
        "from typing_extensions import Annotated\n",
        "\n",
        "class Search(TypedDict):\n",
        "    \"\"\"Search query.\"\"\"\n",
        "    query: Annotated[str, ..., \"Search query to run.\"]\n",
        "    section: Annotated[\n",
        "        Literal[\"beginning\", \"middle\", \"end\"], ..., \"Section to query.\"]"
      ],
      "metadata": {
        "id": "DUDDABmuXQWz"
      },
      "execution_count": null,
      "outputs": []
    },
    {
      "cell_type": "markdown",
      "source": [
        "Finally, we add a step to our LangGraph application to generate a query from the user's raw input:\n",
        "\n"
      ],
      "metadata": {
        "id": "S-ETtZnzXhen"
      }
    },
    {
      "cell_type": "code",
      "source": [
        "class State(TypedDict):\n",
        "    question: str\n",
        "    query: Search # Add the schema of search query\n",
        "    context: List[Document]\n",
        "    answer: str\n",
        "\n",
        "# Add the new node of application,\n",
        "# which be used to generate a query from the user's raw input\n",
        "def analyze_query(state: State):\n",
        "    structured_llm = llm.with_structured_output(Search)\n",
        "    query = structured_llm.invoke(state[\"question\"])\n",
        "    return {\"query\": query}\n",
        "\n",
        "def retrieve(state: State):\n",
        "    # Update the retrieval logic and filter the doc by section\n",
        "    query = state[\"query\"]\n",
        "    retrieved_docs = vector_store.similarity_search(\n",
        "        query[\"query\"],\n",
        "        filter=lambda doc: doc.metadata.get(\"section\") == query[\"section\"],\n",
        "    )\n",
        "    return {\"context\": retrieved_docs}\n",
        "\n",
        "def generate(state: State):\n",
        "    docs_content = \"\\n\\n\".join(doc.page_content for doc in state[\"context\"])\n",
        "    messages = prompt.invoke({\"question\": state[\"question\"], \"context\": docs_content})\n",
        "    response = llm.invoke(messages)\n",
        "    return {\"answer\": response.content}\n",
        "\n",
        "# Update the \"control flow\" of application\n",
        "graph_builder = StateGraph(State).add_sequence([analyze_query, retrieve, generate])\n",
        "graph_builder.add_edge(START, \"analyze_query\")\n",
        "graph = graph_builder.compile()"
      ],
      "metadata": {
        "id": "NN4ZW8J9XiNY"
      },
      "execution_count": null,
      "outputs": []
    },
    {
      "cell_type": "markdown",
      "source": [
        "Full code & Summary:"
      ],
      "metadata": {
        "id": "pUiom0pMpXiR"
      }
    },
    {
      "cell_type": "code",
      "source": [
        "import bs4\n",
        "from langchain_community.document_loaders import WebBaseLoader\n",
        "from langchain_text_splitters import RecursiveCharacterTextSplitter\n",
        "from langchain.chat_models import init_chat_model\n",
        "from langchain_openai import OpenAIEmbeddings\n",
        "from langchain_core.vectorstores import InMemoryVectorStore\n",
        "from google.colab import userdata\n",
        "from langchain_core.prompts import PromptTemplate\n",
        "from langchain_core.documents import Document\n",
        "from typing_extensions import List, TypedDict\n",
        "from langgraph.graph import START, StateGraph\n",
        "from typing import Literal\n",
        "from typing_extensions import Annotated\n",
        "\n",
        "#################################################\n",
        "# 1.Initialize the ChatModel and EmbeddingModel #\n",
        "#################################################\n",
        "llm = init_chat_model(\n",
        "    model=\"gpt-4o-mini\",\n",
        "    model_provider=\"openai\",\n",
        "    openai_api_key=userdata.get('OPENAI_API_KEY'),\n",
        "    base_url=userdata.get('BASE_URL'),\n",
        ")\n",
        "embeddings = OpenAIEmbeddings(\n",
        "    model=\"text-embedding-3-large\",\n",
        "    openai_api_key=userdata.get('OPENAI_API_KEY'),\n",
        "    base_url=userdata.get('BASE_URL'),\n",
        ")\n",
        "\n",
        "#######################\n",
        "# 2.Loading documents #\n",
        "#######################\n",
        "loader = WebBaseLoader(\n",
        "    web_paths=(\"https://lilianweng.github.io/posts/2023-06-23-agent/\",),\n",
        "    bs_kwargs=dict(\n",
        "        # Only keep post title, headers, and content from the full HTML.\n",
        "        parse_only=bs4.SoupStrainer(\n",
        "            class_=(\"post-content\", \"post-title\", \"post-header\")\n",
        "        )\n",
        "    ),\n",
        ")\n",
        "docs = loader.load()\n",
        "\n",
        "#########################\n",
        "# 3.Splitting documents #\n",
        "#########################\n",
        "text_splitter = RecursiveCharacterTextSplitter(\n",
        "    chunk_size=1000,  # chunk size (characters)\n",
        "    chunk_overlap=200,  # chunk overlap (characters)\n",
        "    add_start_index=True,  # track index in original document\n",
        ")\n",
        "all_splits = text_splitter.split_documents(docs)\n",
        "\n",
        "# Search analysis: Add some metadata to the documents in our vector store,\n",
        "# so that we can filter on section later.\n",
        "total_documents = len(all_splits)\n",
        "third = total_documents // 3\n",
        "for i, document in enumerate(all_splits):\n",
        "    if i < third:\n",
        "        document.metadata[\"section\"] = \"beginning\"\n",
        "    elif i < 2 * third:\n",
        "        document.metadata[\"section\"] = \"middle\"\n",
        "    else:\n",
        "        document.metadata[\"section\"] = \"end\"\n",
        "\n",
        "# Search analysis: Define the schema for our search query\n",
        "class Search(TypedDict):\n",
        "    query: Annotated[str, ..., \"Search query to run.\"]\n",
        "    section: Annotated[\n",
        "        Literal[\"beginning\", \"middle\", \"end\"], ..., \"Section to query.\"]\n",
        "\n",
        "###########################################################\n",
        "# 4.Embedding documents and storing them in a vectorstore #\n",
        "###########################################################\n",
        "vector_store = InMemoryVectorStore(embeddings)\n",
        "_ = vector_store.add_documents(documents=all_splits)\n",
        "\n",
        "##########################################################\n",
        "# 5.Customizing the prompt or loading it from Prompt Hub #\n",
        "##########################################################\n",
        "# prompt = hub.pull(\"rlm/rag-prompt\") # load the prompt from the prompt-hub\n",
        "template = \"\"\"Use the following pieces of context to answer the question at the end.\n",
        "If you don't know the answer, just say that you don't know, don't try to make up an answer.\n",
        "Use three sentences maximum and keep the answer as concise as possible.\n",
        "Always say \"thanks for asking!\" at the end of the answer.\n",
        "\n",
        "{context}\n",
        "\n",
        "Question: {question}\n",
        "\n",
        "Helpful Answer:\"\"\"\n",
        "prompt = PromptTemplate.from_template(template)\n",
        "\n",
        "###################################################################\n",
        "# 5.Using LangGraph to tie together the analyze_query, retrieval  #\n",
        "# and generation steps into a single application                  #\n",
        "###################################################################\n",
        "# 5.1.Define the state of application, which controls the application datas\n",
        "class State(TypedDict):\n",
        "    question: str\n",
        "    query: Search\n",
        "    context: List[Document]\n",
        "    answer: str\n",
        "\n",
        "# Search analysis: Define the node of application,\n",
        "# which be used to generate a query from the user's raw input\n",
        "def analyze_query(state: State):\n",
        "    structured_llm = llm.with_structured_output(Search)\n",
        "    query = structured_llm.invoke(state[\"question\"])\n",
        "    return {\"query\": query}\n",
        "\n",
        "# 5.2.1.Define the node of application, which signifies the application steps\n",
        "def retrieve(state: State):\n",
        "    query = state[\"query\"]\n",
        "    retrieved_docs = vector_store.similarity_search(\n",
        "        query[\"query\"],\n",
        "        filter=lambda doc: doc.metadata.get(\"section\") == query[\"section\"],\n",
        "    )\n",
        "    return {\"context\": retrieved_docs}\n",
        "\n",
        "# 5.2.2.Define the node of application, which signifies the application steps\n",
        "def generate(state: State):\n",
        "    docs_content = \"\\n\\n\".join(doc.page_content for doc in state[\"context\"])\n",
        "    messages = prompt.invoke({\"question\": state[\"question\"], \"context\": docs_content})\n",
        "    response = llm.invoke(messages)\n",
        "    return {\"answer\": response.content}\n",
        "\n",
        "# 6.Define the \"control flow\" of application, which signifies the ordering of the application steps\n",
        "graph_builder = StateGraph(State).add_sequence([analyze_query, retrieve, generate])\n",
        "graph_builder.add_edge(START, \"analyze_query\")\n",
        "graph = graph_builder.compile()"
      ],
      "metadata": {
        "id": "3z0w3Xl6bGv5"
      },
      "execution_count": 18,
      "outputs": []
    },
    {
      "cell_type": "code",
      "source": [
        "from IPython.display import Image, display\n",
        "\n",
        "display(Image(graph.get_graph().draw_mermaid_png()))"
      ],
      "metadata": {
        "colab": {
          "base_uri": "https://localhost:8080/",
          "height": 350
        },
        "id": "wrmDTW-ZhBP0",
        "outputId": "9ff63b81-2f5b-422c-fa10-c92f785c3e5a"
      },
      "execution_count": 19,
      "outputs": [
        {
          "output_type": "display_data",
          "data": {
            "image/png": "[encoded data removed]",
            "text/plain": [
              "<IPython.core.display.Image object>"
            ]
          },
          "metadata": {}
        }
      ]
    },
    {
      "cell_type": "markdown",
      "source": [
        "We can test our implementation by specifically asking for context from the end of the post. Note that the model includes different information in its answer."
      ],
      "metadata": {
        "id": "350oxu46iYou"
      }
    },
    {
      "cell_type": "code",
      "source": [
        "for step in graph.stream(\n",
        "    {\"question\": \"What does the end of the post say about Task Decomposition?\"},\n",
        "    stream_mode=\"updates\",\n",
        "):\n",
        "    print(f\"{step}\\n\\n----------------\\n\")"
      ],
      "metadata": {
        "colab": {
          "base_uri": "https://localhost:8080/"
        },
        "id": "L_0s_M8RiYdw",
        "outputId": "f89f50c2-6ac9-4fc1-96bf-b0eb9043d57c"
      },
      "execution_count": 21,
      "outputs": [
        {
          "output_type": "stream",
          "name": "stdout",
          "text": [
            "{'analyze_query': {'query': {'query': 'Task Decomposition', 'section': 'end'}}}\n",
            "\n",
            "----------------\n",
            "\n",
            "{'retrieve': {'context': [Document(id='cb4c28ab-e184-44ea-98c3-4f454d3ea3e3', metadata={'source': 'https://lilianweng.github.io/posts/2023-06-23-agent/', 'start_index': 33070, 'section': 'end'}, page_content='You will get instructions for code to write.\\nYou will write a very long answer. Make sure that every detail of the architecture is, in the end, implemented as code.\\nMake sure that every detail of the architecture is, in the end, implemented as code.\\nThink step by step and reason yourself to the right decisions to make sure we get it right.\\nYou will first lay out the names of the core classes, functions, methods that will be necessary, as well as a quick comment on their purpose.\\nThen you will output the content of each file including ALL code.\\nEach file must strictly follow a markdown code block format, where the following tokens must be replaced such that\\nFILENAME is the lowercase file name including the file extension,\\nLANG is the markup code block language for the code’s language, and CODE is the code:\\nFILENAME\\nCODE\\nYou will start with the “entrypoint” file, then go to the ones that are imported by that file, and so on.'), Document(id='babb2190-2336-42eb-be4d-b6e727e13d23', metadata={'source': 'https://lilianweng.github.io/posts/2023-06-23-agent/', 'start_index': 37914, 'section': 'end'}, page_content='\"content\": \"Please now remember the steps:\\\\n\\\\nThink step by step and reason yourself to the right decisions to make sure we get it right.\\\\nFirst lay out the names of the core classes, functions, methods that will be necessary, As well as a quick comment on their purpose.\\\\n\\\\nThen you will output the content of each file including ALL code.\\\\nEach file must strictly follow a markdown code block format, where the following tokens must be replaced such that\\\\nFILENAME is the lowercase file name including the file extension,\\\\nLANG is the markup code block language for the code\\'s language, and CODE is the code:\\\\n\\\\nFILENAME\\\\n```LANG\\\\nCODE\\\\n```\\\\n\\\\nPlease note that the code should be fully functional. No placeholders.\\\\n\\\\nYou will start with the \\\\\"entrypoint\\\\\" file, then go to the ones that are imported by that file, and so on.\\\\nFollow a language and framework appropriate best practice file naming convention.\\\\nMake sure that files contain all imports, types etc. The code should be fully'), Document(id='7634190a-9573-4e43-8a27-8b512f02b153', metadata={'source': 'https://lilianweng.github.io/posts/2023-06-23-agent/', 'start_index': 35126, 'section': 'end'}, page_content='\"content\": \"You will get instructions for code to write.\\\\nYou will write a very long answer. Make sure that every detail of the architecture is, in the end, implemented as code.\\\\nMake sure that every detail of the architecture is, in the end, implemented as code.\\\\n\\\\nThink step by step and reason yourself to the right decisions to make sure we get it right.\\\\nYou will first lay out the names of the core classes, functions, methods that will be necessary, as well as a quick comment on their purpose.\\\\n\\\\nThen you will output the content of each file including ALL code.\\\\nEach file must strictly follow a markdown code block format, where the following tokens must be replaced such that\\\\nFILENAME is the lowercase file name including the file extension,\\\\nLANG is the markup code block language for the code\\'s language, and CODE is the code:\\\\n\\\\nFILENAME\\\\n```LANG\\\\nCODE\\\\n```\\\\n\\\\nYou will start with the \\\\\"entrypoint\\\\\" file, then go to the ones that are imported by that file, and so on.\\\\nPlease'), Document(id='a847d90c-ddfe-4d13-83d9-094378d03954', metadata={'source': 'https://lilianweng.github.io/posts/2023-06-23-agent/', 'start_index': 33887, 'section': 'end'}, page_content='FILENAME\\nCODE\\nYou will start with the “entrypoint” file, then go to the ones that are imported by that file, and so on.\\nPlease note that the code should be fully functional. No placeholders.\\nFollow a language and framework appropriate best practice file naming convention.\\nMake sure that files contain all imports, types etc. Make sure that code in different files are compatible with each other.\\nEnsure to implement all code, if you are unsure, write a plausible implementation.\\nInclude module dependency or package manager dependency definition file.\\nBefore you finish, double check that all parts of the architecture is present in the files.\\nUseful to know:\\nYou almost always put different classes in different files.\\nFor Python, you always create an appropriate requirements.txt file.\\nFor NodeJS, you always create an appropriate package.json file.\\nYou always add a comment briefly describing the purpose of the function definition.\\nYou try to add comments explaining very complex bits of logic.')]}}\n",
            "\n",
            "----------------\n",
            "\n",
            "{'generate': {'answer': 'The end of the post emphasizes the importance of breaking down tasks into smaller, manageable parts to ensure clarity and correctness in the implementation process. It also highlights the need to double-check that all elements of the architecture are present and compatible with each other before finalizing the code. Thanks for asking!'}}\n",
            "\n",
            "----------------\n",
            "\n"
          ]
        }
      ]
    },
    {
      "cell_type": "markdown",
      "source": [
        "# 5.Brief Summary"
      ],
      "metadata": {
        "id": "1DH_u8o9jSKy"
      }
    },
    {
      "cell_type": "markdown",
      "source": [
        "We've covered the steps to build a basic Q&A app over data:\n",
        "\n",
        "1. Loading data with a `Document Loader`\n",
        "2. `Chunking` the indexed data with a `Text Splitter` to make it more easily usable by a model\n",
        "3. `Embedding the data` and storing the data in a `vectorstore`\n",
        "5. `Retrieving` the previously stored chunks in response to incoming `questions`\n",
        "6. `Generating` an answer using the retrieved chunks as context."
      ],
      "metadata": {
        "id": "g96E2TVTkjng"
      }
    }
  ]
}